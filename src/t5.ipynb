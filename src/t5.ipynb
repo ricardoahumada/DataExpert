{
 "cells": [
  {
   "cell_type": "markdown",
   "metadata": {},
   "source": [
    "## Agregaciones y métricas:"
   ]
  },
  {
   "cell_type": "code",
   "execution_count": 3,
   "metadata": {},
   "outputs": [],
   "source": [
    "import data_utils as du"
   ]
  },
  {
   "cell_type": "code",
   "execution_count": 17,
   "metadata": {},
   "outputs": [
    {
     "name": "stdout",
     "output_type": "stream",
     "text": [
      "SQL: SELECT id_equipo, fecha FROM historicos_ordenes ORDER BY id_equipo ASC,  fecha ASC\n",
      "Database conn successful\n",
      "Tiempo promedio entre mantenimientos para cada equipo (en días):\n",
      " {'E001': 20.45, 'E002': 20.64, 'E003': 19.71, 'E004': 18.55, 'E005': 19.89, 'E006': 21.17, 'E007': 20.49, 'E008': 18.69, 'E009': 19.6, 'E010': 18.6, 'E011': 20.62, 'E012': 21.29, 'E013': 20.18, 'E014': 21.49, 'E015': 20.14, 'E016': 20.95, 'E017': 18.81, 'E018': 20.09, 'E019': 19.27, 'E020': 19.29}\n"
     ]
    }
   ],
   "source": [
    "# Calcular el tiempo promedio entre mantenimientos para cada equipo.\n",
    "import statistics as st\n",
    "\n",
    "\n",
    "def obtener_mantenimiento_x_equipos():\n",
    "\n",
    "    SQL = \"SELECT id_equipo, fecha FROM historicos_ordenes ORDER BY id_equipo ASC,  fecha ASC\"\n",
    "    data = du.get_data_for_sql(SQL)\n",
    "\n",
    "    grouped_data = {}\n",
    "\n",
    "    for id_eq, fecha in data:\n",
    "        if id_eq not in grouped_data: grouped_data[id_eq] = []\n",
    "\n",
    "        grouped_data[id_eq].append(fecha)\n",
    "\n",
    "    return grouped_data\n",
    "\n",
    "\n",
    "def calcula_promedio_entre_mantenimientos(fechas_mantenimiento):\n",
    "    new_data = {}\n",
    "\n",
    "    for id_eq, fechas in fechas_mantenimiento.items():\n",
    "        restas = [f2 - f1 for f1, f2 in zip(fechas, fechas[1:])]\n",
    "        restas_int = list(map(lambda aF:aF.days, restas))\n",
    "        # print(id_eq, st.mean(restas_int))\n",
    "        new_data[id_eq] = round(st.mean(restas_int),2)\n",
    "\n",
    "    return new_data\n",
    "\n",
    "equipos_y_fechas = obtener_mantenimiento_x_equipos()\n",
    "\n",
    "promedio_entre_mantenimientos = calcula_promedio_entre_mantenimientos(equipos_y_fechas)\n",
    "\n",
    "print('Tiempo promedio entre mantenimientos para cada equipo (en días):\\n {0}'.format(promedio_entre_mantenimientos))"
   ]
  },
  {
   "cell_type": "code",
   "execution_count": 19,
   "metadata": {},
   "outputs": [
    {
     "name": "stdout",
     "output_type": "stream",
     "text": [
      "Suma total de horas acumuladas (Horas_Acumuladas) por equipo.:\n",
      " {'E011': 1254707, 'E017': 1098901, 'E007': 1025130, 'E015': 1254729, 'E003': 1321047, 'E006': 1144940, 'E008': 1297036, 'E018': 1281649, 'E019': 1130584, 'E013': 1158429, 'E001': 1109279, 'E005': 1159735, 'E010': 1097655, 'E014': 1191799, 'E004': 1290416, 'E016': 1143346, 'E009': 1010513, 'E020': 1092826, 'E012': 982406, 'E002': 1018046}\n"
     ]
    }
   ],
   "source": [
    "# Determinar la suma total de horas acumuladas (Horas_Acumuladas) por equipo.\n",
    "\n",
    "import statistics as st\n",
    "\n",
    "fregistro = '../data/Registros_Condiciones.csv'\n",
    "dregistro = du.read_csv(fregistro)\n",
    "# print(dregistro)\n",
    "\n",
    "\n",
    "def obtener_horas_acumuladas_x_equipo(registros):\n",
    "    new_data = {}\n",
    "\n",
    "    for registro in registros:\n",
    "        id_eq = registro[0]\n",
    "        if len(registro) >= 7:\n",
    "            if id_eq not in new_data:\n",
    "                new_data[id_eq] = 0\n",
    "\n",
    "            new_data[id_eq] += int(registro[6])\n",
    "\n",
    "    return new_data\n",
    "\n",
    "\n",
    "horas_acumuladas_x_equipo = obtener_horas_acumuladas_x_equipo(dregistro[1])\n",
    "\n",
    "print('Suma total de horas acumuladas (Horas_Acumuladas) por equipo.:\\n {0}'.format(horas_acumuladas_x_equipo))\n",
    "\n"
   ]
  }
 ],
 "metadata": {
  "kernelspec": {
   "display_name": "Python 3",
   "language": "python",
   "name": "python3"
  },
  "language_info": {
   "codemirror_mode": {
    "name": "ipython",
    "version": 3
   },
   "file_extension": ".py",
   "mimetype": "text/x-python",
   "name": "python",
   "nbconvert_exporter": "python",
   "pygments_lexer": "ipython3",
   "version": "3.12.4"
  }
 },
 "nbformat": 4,
 "nbformat_minor": 2
}
