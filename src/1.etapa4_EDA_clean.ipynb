{
 "cells": [
  {
   "cell_type": "markdown",
   "metadata": {},
   "source": [
    "# Solución etapa 4 - EDA + Cleaning"
   ]
  },
  {
   "cell_type": "code",
   "execution_count": 3,
   "metadata": {},
   "outputs": [],
   "source": [
    "# Utilidades para print\n",
    "from utils.print_utils import tabl, headr, titl, ptitl\n",
    "from utils.explore_utils import explr"
   ]
  },
  {
   "cell_type": "code",
   "execution_count": 1,
   "metadata": {},
   "outputs": [],
   "source": [
    "# Cargar los datasets\n",
    "import pandas as pd\n",
    "\n",
    "historicos_ordenes = pd.read_csv('../data/original/historicos_ordenes.csv')\n",
    "registros_condiciones = pd.read_csv('../data/original/registros_condiciones.csv')\n",
    "caracteristicas_equipos = pd.read_csv('../data/original/caracteristicas_equipos.csv')\n"
   ]
  },
  {
   "cell_type": "markdown",
   "metadata": {},
   "source": [
    "## Exploración"
   ]
  },
  {
   "cell_type": "code",
   "execution_count": 4,
   "metadata": {},
   "outputs": [
    {
     "name": "stdout",
     "output_type": "stream",
     "text": [
      "\n",
      "\u001b[1m\u001b[4m\u001b[94m** HISTORICOS_ORDENES **\u001b[0m\n",
      "\n",
      "\n",
      "\u001b[4mColumnas:\u001b[0m\n",
      "\n",
      "['ID_Orden', 'ID_Equipo', 'Fecha', 'Tipo_Mantenimiento', 'Costo_Mantenimiento', 'Duracion_Horas', 'Ubicacion']\n",
      "\n",
      "\u001b[4mNuméricas\u001b[0m\n",
      "\n",
      "         ID_Orden    ID_Equipo    Costo_Mantenimiento    Duracion_Horas\n",
      "-----  ----------  -----------  ---------------------  ----------------\n",
      "count    10020       10020                    9971           10020\n",
      "mean      4990.54      249.282                5255.82           23.9449\n",
      "std       2892.6       143.828                4708.39           13.5833\n",
      "min          1           1                     101.51            1\n",
      "25%       2485.75      125                    2564.19           12\n",
      "(8, 4)\n",
      "\n",
      "\u001b[4mCategóricas\u001b[0m\n",
      "\n",
      "        Fecha                Tipo_Mantenimiento    Ubicacion\n",
      "------  -------------------  --------------------  -----------\n",
      "count   10020                10020                 10020\n",
      "unique  10000                2                     4\n",
      "top     2020-01-01 16:00:00  Preventivo            Planta Sur\n",
      "freq    2                    5037                  2551\n",
      "(4, 3)\n",
      "\n",
      "\u001b[1m\u001b[4m\u001b[94m** REGISTROS_CONDICIONES **\u001b[0m\n",
      "\n",
      "\n",
      "\u001b[4mColumnas:\u001b[0m\n",
      "\n",
      "['ID_Registro', 'ID_Equipo', 'Fecha', 'Temperatura_C', 'Vibracion_mm_s', 'Horas_Operativas']\n",
      "\n",
      "\u001b[4mNuméricas\u001b[0m\n",
      "\n",
      "         ID_Registro    ID_Equipo    Temperatura_C    Vibracion_mm_s    Horas_Operativas\n",
      "-----  -------------  -----------  ---------------  ----------------  ------------------\n",
      "count        9000        9000            9000             9000                    8960\n",
      "mean         4500.5       248.968         102.645            2.76118             50058.9\n",
      "std          2598.22      144.257          59.3437           4.09396             28874.2\n",
      "min             1           1              50.06             0.1                    46\n",
      "25%          2250.75      124              74.42             1.32                24937.5\n",
      "(8, 5)\n",
      "\n",
      "\u001b[4mCategóricas\u001b[0m\n",
      "\n",
      "        Fecha\n",
      "------  -------------------\n",
      "count   9000\n",
      "unique  9000\n",
      "top     2021-01-09 23:00:00\n",
      "freq    1\n",
      "(4, 1)\n",
      "\n",
      "\u001b[1m\u001b[4m\u001b[94m** CARACTERISTICAS_EQUIPOS **\u001b[0m\n",
      "\n",
      "\n",
      "\u001b[4mColumnas:\u001b[0m\n",
      "\n",
      "['ID_Equipo', 'Tipo_Equipo', 'Fabricante', 'Modelo', 'Potencia_kW', 'Horas_Recomendadas_Revision']\n",
      "\n",
      "\u001b[4mNuméricas\u001b[0m\n",
      "\n",
      "         ID_Equipo    Potencia_kW    Horas_Recomendadas_Revision\n",
      "-----  -----------  -------------  -----------------------------\n",
      "count      505             505                            505\n",
      "mean       248.05         4673.45                        5283.12\n",
      "std        145.841       13039.4                         2729.39\n",
      "min          1            -100                            509\n",
      "25%        122            1206                           2922\n",
      "(8, 3)\n",
      "\n",
      "\u001b[4mCategóricas\u001b[0m\n",
      "\n",
      "        Tipo_Equipo    Fabricante    Modelo\n",
      "------  -------------  ------------  --------\n",
      "count   505            505           505\n",
      "unique  4              4             4\n",
      "top     Compresor      ABB           Y200\n",
      "freq    130            135           143\n",
      "(4, 3)\n"
     ]
    }
   ],
   "source": [
    "ptitl('historicos_ordenes')\n",
    "explr(historicos_ordenes)\n",
    "\n",
    "ptitl('registros_condiciones')\n",
    "explr(registros_condiciones)\n",
    "\n",
    "ptitl('caracteristicas_equipos')\n",
    "explr(caracteristicas_equipos)"
   ]
  },
  {
   "cell_type": "code",
   "execution_count": null,
   "metadata": {},
   "outputs": [],
   "source": [
    "# Profiling historicos_ordenes\n",
    "\n",
    "from ydata_profiling import ProfileReport\n",
    "\n",
    "profile = ProfileReport(historicos_ordenes, title=\"historicos_ordenes Profiling Report\",\n",
    "                        correlations={\n",
    "                            \"pearson\": {\"calculate\": True},\n",
    "                            \"cramers\": {\"calculate\": True},\n",
    "                        })"
   ]
  },
  {
   "cell_type": "code",
   "execution_count": null,
   "metadata": {},
   "outputs": [],
   "source": [
    "profile.to_notebook_iframe()"
   ]
  },
  {
   "cell_type": "code",
   "execution_count": null,
   "metadata": {},
   "outputs": [],
   "source": [
    "# Profiling caracteristicas_equipos\n",
    "\n",
    "print(titl('caracteristicas_equipos'))\n",
    "\n",
    "profile = ProfileReport(caracteristicas_equipos, title=\"caracteristicas_equipos Profiling Report\",\n",
    "                        correlations={\n",
    "                            \"pearson\": {\"calculate\": True},\n",
    "                            \"cramers\": {\"calculate\": True},\n",
    "                        })"
   ]
  },
  {
   "cell_type": "code",
   "execution_count": null,
   "metadata": {},
   "outputs": [],
   "source": [
    "profile.to_notebook_iframe()"
   ]
  },
  {
   "cell_type": "code",
   "execution_count": null,
   "metadata": {},
   "outputs": [],
   "source": [
    "# Profiling registros_condiciones\n",
    "\n",
    "print(titl('registros_condiciones'))\n",
    "\n",
    "profile = ProfileReport(registros_condiciones, title=\"registros_condiciones Profiling Report\",\n",
    "                        correlations={\n",
    "                            \"pearson\": {\"calculate\": True},\n",
    "                            \"cramers\": {\"calculate\": True},\n",
    "                        })"
   ]
  },
  {
   "cell_type": "code",
   "execution_count": null,
   "metadata": {},
   "outputs": [],
   "source": [
    "profile.to_notebook_iframe()"
   ]
  },
  {
   "cell_type": "code",
   "execution_count": null,
   "metadata": {},
   "outputs": [],
   "source": [
    "ptitl('Dimensiones:')\n",
    "print('historicos_ordenes:',historicos_ordenes.shape)\n",
    "print('registros_condiciones:',registros_condiciones.shape)\n",
    "print('caracteristicas_equipos:',caracteristicas_equipos.shape)"
   ]
  },
  {
   "cell_type": "markdown",
   "metadata": {},
   "source": [
    "## Limpiar"
   ]
  },
  {
   "cell_type": "code",
   "execution_count": null,
   "metadata": {},
   "outputs": [],
   "source": [
    "# hacemo copia\n",
    "historicos_ordenes_cleaned = historicos_ordenes.copy()\n",
    "registros_condiciones_cleaned = registros_condiciones.copy()\n",
    "caracteristicas_equipos_cleaned = caracteristicas_equipos.copy()"
   ]
  },
  {
   "cell_type": "markdown",
   "metadata": {},
   "source": [
    "### Nulos"
   ]
  },
  {
   "cell_type": "code",
   "execution_count": null,
   "metadata": {},
   "outputs": [],
   "source": [
    "# Verificar valores nulos\n",
    "print(titl(\"Valores nulos\"))\n",
    "\n",
    "print(headr('historicos_ordenes:'),historicos_ordenes_cleaned.isnull().sum())\n",
    "print(headr('registros_condiciones:'),registros_condiciones_cleaned.isnull().sum())\n",
    "print(headr('caracteristicas_equipos:'),caracteristicas_equipos_cleaned.isnull().sum())"
   ]
  },
  {
   "cell_type": "code",
   "execution_count": null,
   "metadata": {},
   "outputs": [],
   "source": [
    "# Manejo de valores nulos\n",
    "historicos_ordenes_cleaned.dropna(subset=['Costo_Mantenimiento'], inplace=True)  # Ejemplo de imputación\n",
    "registros_condiciones_cleaned.dropna(subset=['Temperatura_C', 'Vibracion_mm_s'], inplace=True)  # Eliminar registros con valores faltantes críticos"
   ]
  },
  {
   "cell_type": "code",
   "execution_count": null,
   "metadata": {},
   "outputs": [],
   "source": [
    "print(titl(\"Valores nulos after:\"))\n",
    "\n",
    "print(headr('historicos_ordenes:'),historicos_ordenes_cleaned.isnull().sum())\n",
    "print(headr('registros_condiciones:'),registros_condiciones_cleaned.isnull().sum())\n",
    "print(headr('caracteristicas_equipos:'),caracteristicas_equipos_cleaned.isnull().sum())"
   ]
  },
  {
   "cell_type": "markdown",
   "metadata": {},
   "source": [
    "### Duplicados"
   ]
  },
  {
   "cell_type": "code",
   "execution_count": null,
   "metadata": {},
   "outputs": [],
   "source": [
    "# Eliminar duplicados\n",
    "print(titl(\"Duplicados\"))\n",
    "\n",
    "print(headr('historicos_ordenes:'),historicos_ordenes_cleaned.duplicated().sum())\n",
    "print(headr('registros_condiciones:'),registros_condiciones_cleaned.duplicated().sum())\n",
    "print(headr('caracteristicas_equipos:'),caracteristicas_equipos_cleaned.duplicated().sum())\n"
   ]
  },
  {
   "cell_type": "code",
   "execution_count": null,
   "metadata": {},
   "outputs": [],
   "source": [
    "# Eliminar duplicados\n",
    "historicos_ordenes_cleaned.drop_duplicates(inplace=True)\n",
    "registros_condiciones_cleaned.drop_duplicates(inplace=True)\n",
    "caracteristicas_equipos_cleaned.drop_duplicates(inplace=True)\n"
   ]
  },
  {
   "cell_type": "code",
   "execution_count": null,
   "metadata": {},
   "outputs": [],
   "source": [
    "# Eliminar duplicados\n",
    "print(titl(\"Duplicados después\"))\n",
    "\n",
    "print(headr('historicos_ordenes:'),historicos_ordenes_cleaned.duplicated().sum())\n",
    "print(headr('registros_condiciones:'),registros_condiciones_cleaned.duplicated().sum())\n",
    "print(headr('caracteristicas_equipos:'),caracteristicas_equipos_cleaned.duplicated().sum())\n"
   ]
  },
  {
   "cell_type": "markdown",
   "metadata": {},
   "source": [
    "### Outliers"
   ]
  },
  {
   "cell_type": "code",
   "execution_count": null,
   "metadata": {},
   "outputs": [],
   "source": [
    "# Detectar y manejar outliers (ejemplo para temperatura)\n",
    "\n",
    "# Extraer columnas numéricas y categóricas\n",
    "from sklearn.compose import make_column_selector as selector\n",
    "\n",
    "def extract_numerical_and_categorical(df):\n",
    "    numerical_columns_selector = selector(dtype_exclude=object)\n",
    "    categorical_columns_selector = selector(dtype_include=object)\n",
    "\n",
    "    numerical_columns = numerical_columns_selector(df)\n",
    "    categorical_columns = categorical_columns_selector(df)\n",
    "\n",
    "    return numerical_columns, categorical_columns\n"
   ]
  },
  {
   "cell_type": "code",
   "execution_count": null,
   "metadata": {},
   "outputs": [],
   "source": [
    "h_num, h_cat = extract_numerical_and_categorical(historicos_ordenes_cleaned)\n",
    "print(headr(\"h_num, h_cat\"),h_num, h_cat)\n",
    "r_num, r_cat = extract_numerical_and_categorical(registros_condiciones_cleaned)\n",
    "print(headr(\"r_num, r_cat\"),r_num, r_cat)\n",
    "c_num, c_cat = extract_numerical_and_categorical(caracteristicas_equipos_cleaned)\n",
    "print(headr(\"c_num, c_cat\"),c_num, c_cat)"
   ]
  },
  {
   "cell_type": "code",
   "execution_count": null,
   "metadata": {},
   "outputs": [],
   "source": [
    "# identificación\n",
    "def identif_outliers(df, num_cols):\n",
    "    IQR = df[num_cols].quantile(0.75) - df[num_cols].quantile(0.25)\n",
    "    lower_bound = df[num_cols].quantile(0.25) - (IQR * 3)\n",
    "    upper_bound = df[num_cols].quantile(0.75) + (IQR * 3)\n",
    "\n",
    "    outliers = df[num_cols][(df[num_cols] < lower_bound) | (df[num_cols] > upper_bound)]\n",
    "\n",
    "    # columnas con outliers\n",
    "    columns_with_outliers = outliers.columns[outliers.count() > 0]\n",
    "    columns_with_outliers\n",
    "\n",
    "    return outliers.count(), columns_with_outliers, lower_bound, upper_bound"
   ]
  },
  {
   "cell_type": "code",
   "execution_count": null,
   "metadata": {},
   "outputs": [],
   "source": [
    "h_nout, h_col_out, h_low, h_upp = identif_outliers(historicos_ordenes_cleaned, h_num)\n",
    "print(headr(\"h_num_out:\"),h_nout)\n",
    "\n",
    "r_nout, r_col_out, r_low, r_upp = identif_outliers(registros_condiciones_cleaned, r_num)\n",
    "print(headr(\"r_num_out:\"),r_nout)\n",
    "\n",
    "c_nout, c_col_out, c_low, c_upp = identif_outliers(caracteristicas_equipos_cleaned, c_num)\n",
    "print(headr(\"c_num_out:\"),c_nout)"
   ]
  },
  {
   "cell_type": "code",
   "execution_count": null,
   "metadata": {},
   "outputs": [],
   "source": [
    "# Función para winsorizar una columna\n",
    "def winsorize_column(column, lower_bound, upper_bound):\n",
    "    return column.clip(lower=lower_bound, upper=upper_bound)"
   ]
  },
  {
   "cell_type": "code",
   "execution_count": null,
   "metadata": {},
   "outputs": [],
   "source": [
    "# procesamos todas las comumnas con outliers\n",
    "for col_name in h_col_out:\n",
    "    historicos_ordenes_cleaned[col_name] = winsorize_column(historicos_ordenes_cleaned[col_name], h_low[col_name], h_upp[col_name])\n",
    "\n",
    "for col_name in r_col_out:\n",
    "    registros_condiciones_cleaned[col_name] = winsorize_column(registros_condiciones_cleaned[col_name], r_low[col_name], r_upp[col_name])\n",
    "\n",
    "for col_name in c_col_out:\n",
    "    caracteristicas_equipos_cleaned[col_name] = winsorize_column(caracteristicas_equipos_cleaned[col_name], c_low[col_name], c_upp[col_name])\n"
   ]
  },
  {
   "cell_type": "code",
   "execution_count": null,
   "metadata": {},
   "outputs": [],
   "source": [
    "h_nout, h_col_out, h_low, h_upp = identif_outliers(historicos_ordenes_cleaned, h_num)\n",
    "print(headr(\"h_num_out:\"),h_nout)\n",
    "\n",
    "r_nout, r_col_out, r_low, r_upp = identif_outliers(registros_condiciones_cleaned, r_num)\n",
    "print(headr(\"r_num_out:\"),r_nout)\n",
    "\n",
    "c_nout, c_col_out, c_low, c_upp = identif_outliers(caracteristicas_equipos_cleaned, c_num)\n",
    "print(headr(\"c_num_out:\"),c_nout)"
   ]
  },
  {
   "cell_type": "markdown",
   "metadata": {},
   "source": [
    "## Guardar estado"
   ]
  },
  {
   "cell_type": "code",
   "execution_count": null,
   "metadata": {},
   "outputs": [],
   "source": [
    "historicos_ordenes_cleaned.to_csv('../data/cleaned/historicos_ordenes_cleaned.csv', index=False)\n",
    "registros_condiciones_cleaned.to_csv('../data/cleaned/registros_condiciones_cleaned.csv', index=False)\n",
    "caracteristicas_equipos_cleaned.to_csv('../data/cleaned/caracteristicas_equipos_cleaned.csv', index=False)"
   ]
  }
 ],
 "metadata": {
  "kernelspec": {
   "display_name": "Python 3",
   "language": "python",
   "name": "python3"
  },
  "language_info": {
   "codemirror_mode": {
    "name": "ipython",
    "version": 3
   },
   "file_extension": ".py",
   "mimetype": "text/x-python",
   "name": "python",
   "nbconvert_exporter": "python",
   "pygments_lexer": "ipython3",
   "version": "3.12.4"
  }
 },
 "nbformat": 4,
 "nbformat_minor": 2
}
