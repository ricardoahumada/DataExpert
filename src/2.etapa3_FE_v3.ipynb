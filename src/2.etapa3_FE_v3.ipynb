{
 "cells": [
  {
   "cell_type": "markdown",
   "metadata": {},
   "source": [
    "# Solución etapa 3 - FE - V3"
   ]
  },
  {
   "cell_type": "code",
   "execution_count": 97,
   "metadata": {},
   "outputs": [],
   "source": [
    "# Utilidades para print\n",
    "from utils.print_utils import tabl, headr, titl"
   ]
  },
  {
   "cell_type": "code",
   "execution_count": 98,
   "metadata": {},
   "outputs": [],
   "source": [
    "# Cargar los datasets\n",
    "import pandas as pd\n",
    "\n",
    "historicos_ordenes_cleaned = pd.read_csv('../data/cleaned/historicos_ordenes_cleaned.csv')\n",
    "registros_condiciones_cleaned = pd.read_csv('../data/cleaned/registros_condiciones_cleaned.csv')\n",
    "caracteristicas_equipos_cleaned = pd.read_csv('../data/cleaned/caracteristicas_equipos_cleaned.csv')"
   ]
  },
  {
   "cell_type": "markdown",
   "metadata": {},
   "source": [
    "## Feature eng"
   ]
  },
  {
   "cell_type": "markdown",
   "metadata": {},
   "source": [
    "### Target"
   ]
  },
  {
   "cell_type": "code",
   "execution_count": 99,
   "metadata": {},
   "outputs": [],
   "source": [
    "# Generar target\n",
    "\n",
    "target_column=\"Fallo\"\n",
    "\n",
    "def code_target(val):\n",
    "    if val == 'Correctivo':\n",
    "        return 1\n",
    "    else:\n",
    "        return 0\n",
    "\n",
    "\n",
    "historicos_ordenes_cleaned[target_column] = historicos_ordenes_cleaned[\"Tipo_Mantenimiento\"].apply(code_target)\n",
    "historicos_ordenes_cleaned.drop(\"Tipo_Mantenimiento\", axis=1, inplace=True)"
   ]
  },
  {
   "cell_type": "markdown",
   "metadata": {},
   "source": [
    "### historicos_ordenes"
   ]
  },
  {
   "cell_type": "code",
   "execution_count": 100,
   "metadata": {},
   "outputs": [
    {
     "name": "stdout",
     "output_type": "stream",
     "text": [
      "      ID_Orden    ID_Equipo  Fecha                  Costo_Mantenimiento    Duracion_Horas  Ubicacion       Fallo\n",
      "--  ----------  -----------  -------------------  ---------------------  ----------------  ------------  -------\n",
      " 0           1           36  2020-01-01 00:00:00                6754.12                 3  Planta Norte        0\n",
      " 1           2          244  2020-01-01 01:00:00                4274.63                35  Planta Norte        0\n",
      " 2           3          297  2020-01-01 02:00:00                5752                   25  Planta Norte        0\n",
      " 3           4          431  2020-01-01 03:00:00                5690.14                 8  Planta Sur          1\n",
      " 4           5          403  2020-01-01 04:00:00                7048.79                28  Planta Norte        1\n",
      "(9951, 7)\n"
     ]
    }
   ],
   "source": [
    "tabl(historicos_ordenes_cleaned)"
   ]
  },
  {
   "cell_type": "code",
   "execution_count": 101,
   "metadata": {},
   "outputs": [
    {
     "name": "stdout",
     "output_type": "stream",
     "text": [
      "      ID_Orden    ID_Equipo  Fecha                  Costo_Mantenimiento    Duracion_Horas  Ubicacion       Fallo    Año    Mes    Día\n",
      "--  ----------  -----------  -------------------  ---------------------  ----------------  ------------  -------  -----  -----  -----\n",
      " 0           1           36  2020-01-01 00:00:00                6754.12                 3  Planta Norte        0   2020      1      1\n",
      " 1           2          244  2020-01-01 01:00:00                4274.63                35  Planta Norte        0   2020      1      1\n",
      " 2           3          297  2020-01-01 02:00:00                5752                   25  Planta Norte        0   2020      1      1\n",
      " 3           4          431  2020-01-01 03:00:00                5690.14                 8  Planta Sur          1   2020      1      1\n",
      " 4           5          403  2020-01-01 04:00:00                7048.79                28  Planta Norte        1   2020      1      1\n",
      "(9951, 10)\n"
     ]
    }
   ],
   "source": [
    "historicos_ordenes_cleaned['Fecha'] = pd.to_datetime(historicos_ordenes_cleaned['Fecha'])\n",
    "\n",
    "historicos_ordenes_cleaned['Año'] = historicos_ordenes_cleaned['Fecha'].dt.year\n",
    "historicos_ordenes_cleaned['Mes'] = historicos_ordenes_cleaned['Fecha'].dt.month\n",
    "historicos_ordenes_cleaned['Día'] = historicos_ordenes_cleaned['Fecha'].dt.day\n",
    "\n",
    "tabl(historicos_ordenes_cleaned)"
   ]
  },
  {
   "cell_type": "markdown",
   "metadata": {},
   "source": [
    "> Compensamos el desajuste en la escala de 'Tiempo_medio_entre_fallos' para que el modelo entendia mejor las relaciones"
   ]
  },
  {
   "cell_type": "code",
   "execution_count": 102,
   "metadata": {},
   "outputs": [
    {
     "name": "stdout",
     "output_type": "stream",
     "text": [
      "      ID_Equipo    Año    Mes    Día    Promedio_Horas_Entre_Fallos_por_mes\n",
      "--  -----------  -----  -----  -----  -------------------------------------\n",
      " 0            1   2020      2      4                                    nan\n",
      " 1            1   2020      2     25                                    507\n",
      " 2            1   2020      3     17                                    492\n",
      " 3            1   2020      6     12                                   2100\n",
      " 4            1   2020      7     26                                   1034\n",
      "(4895, 5)\n"
     ]
    }
   ],
   "source": [
    "# Tiempo medio entre fallos por mes\n",
    "\n",
    "# Filtrar solo los registros con fallos\n",
    "fallos = historicos_ordenes_cleaned[historicos_ordenes_cleaned['Fallo'] == 1].copy()\n",
    "\n",
    "# Ordenar por fecha\n",
    "fallos = fallos.sort_values(by=['ID_Equipo', 'Fecha'])\n",
    "\n",
    "fallos['Diferencia_Horas'] = fallos.groupby('ID_Equipo')['Fecha'].diff().dt.total_seconds() / 3600 # Compensación de escala\n",
    "\n",
    "promedio_horas_entre_fallos_por_mes = (\n",
    "    fallos.groupby(['ID_Equipo', 'Año', 'Mes','Día'])['Diferencia_Horas']\n",
    "          .mean()\n",
    "          .reset_index(name='Promedio_Horas_Entre_Fallos_por_mes')\n",
    ")\n",
    "\n",
    "tabl(promedio_horas_entre_fallos_por_mes)"
   ]
  },
  {
   "cell_type": "code",
   "execution_count": 103,
   "metadata": {},
   "outputs": [
    {
     "name": "stdout",
     "output_type": "stream",
     "text": [
      "      ID_Orden    ID_Equipo  Fecha                  Costo_Mantenimiento    Duracion_Horas  Ubicacion       Fallo    Año    Mes    Día    Promedio_Horas_Entre_Fallos_por_mes\n",
      "--  ----------  -----------  -------------------  ---------------------  ----------------  ------------  -------  -----  -----  -----  -------------------------------------\n",
      " 0           4          431  2020-01-01 03:00:00                5690.14                 8  Planta Sur          1   2020      1      1                                    nan\n",
      " 1           5          403  2020-01-01 04:00:00                7048.79                28  Planta Norte        1   2020      1      1                                    nan\n",
      " 2           6          477  2020-01-01 05:00:00                1519.65                40  Planta Norte        1   2020      1      1                                    nan\n",
      " 3           7          323  2020-01-01 06:00:00                9148.27                37  Planta Sur          1   2020      1      1                                    nan\n",
      " 4           8          318  2020-01-01 07:00:00                7784.49                19  Planta Sur          1   2020      1      1                                    nan\n",
      "(5076, 11)\n"
     ]
    }
   ],
   "source": [
    "# Mezclar historicos_ordenes_cleaned + promedio_horas_entre_fallos_por_mes\n",
    "\n",
    "historicos_promedio_horas_entre_fallos_por_mes = pd.merge(historicos_ordenes_cleaned, promedio_horas_entre_fallos_por_mes, on=['ID_Equipo','Año','Mes','Día'], how='inner')\n",
    "tabl(historicos_promedio_horas_entre_fallos_por_mes)"
   ]
  },
  {
   "cell_type": "code",
   "execution_count": 104,
   "metadata": {},
   "outputs": [
    {
     "name": "stdout",
     "output_type": "stream",
     "text": [
      "ID_Orden                                 0\n",
      "ID_Equipo                                0\n",
      "Fecha                                    0\n",
      "Costo_Mantenimiento                      0\n",
      "Duracion_Horas                           0\n",
      "Ubicacion                                0\n",
      "Fallo                                    0\n",
      "Año                                      0\n",
      "Mes                                      0\n",
      "Día                                      0\n",
      "Promedio_Horas_Entre_Fallos_por_mes    507\n",
      "dtype: int64\n"
     ]
    }
   ],
   "source": [
    "# Verificamos nulos\n",
    "print(historicos_promedio_horas_entre_fallos_por_mes.isna().sum())\n",
    "historicos_promedio_horas_entre_fallos_por_mes.dropna(inplace=True)"
   ]
  },
  {
   "cell_type": "code",
   "execution_count": 105,
   "metadata": {},
   "outputs": [
    {
     "name": "stdout",
     "output_type": "stream",
     "text": [
      "      ID_Equipo  Ubicacion       Fallo    Año    Mes    Día    Promedio_Horas_Entre_Fallos_por_mes\n",
      "--  -----------  ------------  -------  -----  -----  -----  -------------------------------------\n",
      "39          161  Planta Sur          1   2020      1      4                                     37\n",
      "44          286  Planta Este         1   2020      1      4                                     83\n",
      "47           49  Planta Norte        1   2020      1      5                                      5\n",
      "49           49  Planta Sur          1   2020      1      5                                      5\n",
      "68          185  Planta Este         1   2020      1      6                                     90\n",
      "(4569, 7)\n"
     ]
    }
   ],
   "source": [
    "# Eliminar columnas sin valor de historicos_promedio_horas_entre_fallos_por_mes\n",
    "historicos_hefbm_clean = historicos_promedio_horas_entre_fallos_por_mes.drop(columns=['ID_Orden','Costo_Mantenimiento','Duracion_Horas','Fecha'])\n",
    "tabl(historicos_hefbm_clean)"
   ]
  },
  {
   "cell_type": "code",
   "execution_count": 106,
   "metadata": {},
   "outputs": [
    {
     "data": {
      "text/html": [
       "<div>\n",
       "<style scoped>\n",
       "    .dataframe tbody tr th:only-of-type {\n",
       "        vertical-align: middle;\n",
       "    }\n",
       "\n",
       "    .dataframe tbody tr th {\n",
       "        vertical-align: top;\n",
       "    }\n",
       "\n",
       "    .dataframe thead th {\n",
       "        text-align: right;\n",
       "    }\n",
       "</style>\n",
       "<table border=\"1\" class=\"dataframe\">\n",
       "  <thead>\n",
       "    <tr style=\"text-align: right;\">\n",
       "      <th></th>\n",
       "      <th></th>\n",
       "      <th>Ubicacion</th>\n",
       "      <th>Fallo</th>\n",
       "      <th>Día</th>\n",
       "      <th>Promedio_Horas_Entre_Fallos_por_mes</th>\n",
       "    </tr>\n",
       "    <tr>\n",
       "      <th>Año</th>\n",
       "      <th>Mes</th>\n",
       "      <th></th>\n",
       "      <th></th>\n",
       "      <th></th>\n",
       "      <th></th>\n",
       "    </tr>\n",
       "  </thead>\n",
       "  <tbody>\n",
       "    <tr>\n",
       "      <th rowspan=\"6\" valign=\"top\">2020</th>\n",
       "      <th>2</th>\n",
       "      <td>1</td>\n",
       "      <td>1</td>\n",
       "      <td>1</td>\n",
       "      <td>1</td>\n",
       "    </tr>\n",
       "    <tr>\n",
       "      <th>3</th>\n",
       "      <td>1</td>\n",
       "      <td>1</td>\n",
       "      <td>1</td>\n",
       "      <td>1</td>\n",
       "    </tr>\n",
       "    <tr>\n",
       "      <th>6</th>\n",
       "      <td>1</td>\n",
       "      <td>1</td>\n",
       "      <td>1</td>\n",
       "      <td>1</td>\n",
       "    </tr>\n",
       "    <tr>\n",
       "      <th>7</th>\n",
       "      <td>1</td>\n",
       "      <td>1</td>\n",
       "      <td>1</td>\n",
       "      <td>1</td>\n",
       "    </tr>\n",
       "    <tr>\n",
       "      <th>8</th>\n",
       "      <td>1</td>\n",
       "      <td>1</td>\n",
       "      <td>1</td>\n",
       "      <td>1</td>\n",
       "    </tr>\n",
       "    <tr>\n",
       "      <th>12</th>\n",
       "      <td>1</td>\n",
       "      <td>1</td>\n",
       "      <td>1</td>\n",
       "      <td>1</td>\n",
       "    </tr>\n",
       "    <tr>\n",
       "      <th>2021</th>\n",
       "      <th>1</th>\n",
       "      <td>1</td>\n",
       "      <td>1</td>\n",
       "      <td>1</td>\n",
       "      <td>1</td>\n",
       "    </tr>\n",
       "  </tbody>\n",
       "</table>\n",
       "</div>"
      ],
      "text/plain": [
       "          Ubicacion  Fallo  Día  Promedio_Horas_Entre_Fallos_por_mes\n",
       "Año  Mes                                                            \n",
       "2020 2            1      1    1                                    1\n",
       "     3            1      1    1                                    1\n",
       "     6            1      1    1                                    1\n",
       "     7            1      1    1                                    1\n",
       "     8            1      1    1                                    1\n",
       "     12           1      1    1                                    1\n",
       "2021 1            1      1    1                                    1"
      ]
     },
     "execution_count": 106,
     "metadata": {},
     "output_type": "execute_result"
    }
   ],
   "source": [
    "historicos_hefbm_clean.groupby(['ID_Equipo','Año','Mes']).count().loc[1]"
   ]
  },
  {
   "cell_type": "markdown",
   "metadata": {},
   "source": [
    "> Coincidencia a nivel de mes entre historico y registro"
   ]
  },
  {
   "cell_type": "markdown",
   "metadata": {},
   "source": [
    "### registros_condiciones"
   ]
  },
  {
   "cell_type": "code",
   "execution_count": 107,
   "metadata": {},
   "outputs": [
    {
     "name": "stdout",
     "output_type": "stream",
     "text": [
      "      ID_Equipo  Fecha                  Temperatura_C    Vibracion_mm_s    Horas_Operativas    Año    Mes    Día\n",
      "--  -----------  -------------------  ---------------  ----------------  ------------------  -----  -----  -----\n",
      " 0          260  2020-01-01 00:00:00           101.43              1.22               71849   2020      1      1\n",
      " 2          443  2020-01-01 02:00:00            76.04              2.93               33106   2020      1      1\n",
      " 3          281  2020-01-01 03:00:00            97.09              3.25               31744   2020      1      1\n",
      " 4          427  2020-01-01 04:00:00           139.42              4.22               78104   2020      1      1\n",
      " 5           48  2020-01-01 05:00:00            98.77              2.73               89664   2020      1      1\n",
      "(8999, 8)\n"
     ]
    }
   ],
   "source": [
    "registros_condiciones_cleaned.drop(columns=['ID_Registro'], index=1, inplace=True)\n",
    "\n",
    "registros_condiciones_cleaned['Fecha']=pd.to_datetime(registros_condiciones_cleaned['Fecha'])\n",
    "registros_condiciones_cleaned['Año'] = registros_condiciones_cleaned['Fecha'].dt.year\n",
    "registros_condiciones_cleaned['Mes'] = registros_condiciones_cleaned['Fecha'].dt.month\n",
    "registros_condiciones_cleaned['Día'] = registros_condiciones_cleaned['Fecha'].dt.day\n",
    "\n",
    "tabl(registros_condiciones_cleaned)"
   ]
  },
  {
   "cell_type": "code",
   "execution_count": 108,
   "metadata": {},
   "outputs": [
    {
     "data": {
      "text/html": [
       "<div>\n",
       "<style scoped>\n",
       "    .dataframe tbody tr th:only-of-type {\n",
       "        vertical-align: middle;\n",
       "    }\n",
       "\n",
       "    .dataframe tbody tr th {\n",
       "        vertical-align: top;\n",
       "    }\n",
       "\n",
       "    .dataframe thead th {\n",
       "        text-align: right;\n",
       "    }\n",
       "</style>\n",
       "<table border=\"1\" class=\"dataframe\">\n",
       "  <thead>\n",
       "    <tr style=\"text-align: right;\">\n",
       "      <th></th>\n",
       "      <th></th>\n",
       "      <th>Fecha</th>\n",
       "      <th>Temperatura_C</th>\n",
       "      <th>Vibracion_mm_s</th>\n",
       "      <th>Horas_Operativas</th>\n",
       "      <th>Día</th>\n",
       "    </tr>\n",
       "    <tr>\n",
       "      <th>Año</th>\n",
       "      <th>Mes</th>\n",
       "      <th></th>\n",
       "      <th></th>\n",
       "      <th></th>\n",
       "      <th></th>\n",
       "      <th></th>\n",
       "    </tr>\n",
       "  </thead>\n",
       "  <tbody>\n",
       "    <tr>\n",
       "      <th rowspan=\"8\" valign=\"top\">2020</th>\n",
       "      <th>1</th>\n",
       "      <td>2</td>\n",
       "      <td>2</td>\n",
       "      <td>2</td>\n",
       "      <td>2</td>\n",
       "      <td>2</td>\n",
       "    </tr>\n",
       "    <tr>\n",
       "      <th>3</th>\n",
       "      <td>2</td>\n",
       "      <td>2</td>\n",
       "      <td>2</td>\n",
       "      <td>2</td>\n",
       "      <td>2</td>\n",
       "    </tr>\n",
       "    <tr>\n",
       "      <th>4</th>\n",
       "      <td>3</td>\n",
       "      <td>3</td>\n",
       "      <td>3</td>\n",
       "      <td>3</td>\n",
       "      <td>3</td>\n",
       "    </tr>\n",
       "    <tr>\n",
       "      <th>6</th>\n",
       "      <td>1</td>\n",
       "      <td>1</td>\n",
       "      <td>1</td>\n",
       "      <td>1</td>\n",
       "      <td>1</td>\n",
       "    </tr>\n",
       "    <tr>\n",
       "      <th>7</th>\n",
       "      <td>2</td>\n",
       "      <td>2</td>\n",
       "      <td>2</td>\n",
       "      <td>2</td>\n",
       "      <td>2</td>\n",
       "    </tr>\n",
       "    <tr>\n",
       "      <th>8</th>\n",
       "      <td>2</td>\n",
       "      <td>2</td>\n",
       "      <td>2</td>\n",
       "      <td>2</td>\n",
       "      <td>2</td>\n",
       "    </tr>\n",
       "    <tr>\n",
       "      <th>10</th>\n",
       "      <td>1</td>\n",
       "      <td>1</td>\n",
       "      <td>1</td>\n",
       "      <td>1</td>\n",
       "      <td>1</td>\n",
       "    </tr>\n",
       "    <tr>\n",
       "      <th>12</th>\n",
       "      <td>2</td>\n",
       "      <td>2</td>\n",
       "      <td>2</td>\n",
       "      <td>2</td>\n",
       "      <td>2</td>\n",
       "    </tr>\n",
       "  </tbody>\n",
       "</table>\n",
       "</div>"
      ],
      "text/plain": [
       "          Fecha  Temperatura_C  Vibracion_mm_s  Horas_Operativas  Día\n",
       "Año  Mes                                                             \n",
       "2020 1        2              2               2                 2    2\n",
       "     3        2              2               2                 2    2\n",
       "     4        3              3               3                 3    3\n",
       "     6        1              1               1                 1    1\n",
       "     7        2              2               2                 2    2\n",
       "     8        2              2               2                 2    2\n",
       "     10       1              1               1                 1    1\n",
       "     12       2              2               2                 2    2"
      ]
     },
     "execution_count": 108,
     "metadata": {},
     "output_type": "execute_result"
    }
   ],
   "source": [
    "registros_condiciones_cleaned.groupby(['ID_Equipo','Año','Mes']).count().loc[1]"
   ]
  },
  {
   "cell_type": "markdown",
   "metadata": {},
   "source": [
    "> Compensamos el desajuste en la escala de 'Tiempo_medio_entre_fallos' para que el modelo entendia mejor las relaciones"
   ]
  },
  {
   "cell_type": "code",
   "execution_count": 109,
   "metadata": {},
   "outputs": [],
   "source": [
    "# Agrupar por 'ID_Equipo', 'Año' y 'Mes', y calcular los promedios\n",
    "\n",
    "promedios_por_equipo_mes = (\n",
    "    registros_condiciones_cleaned.groupby(['ID_Equipo', 'Año', 'Mes'])[['Temperatura_C', 'Vibracion_mm_s', 'Horas_Operativas']]\n",
    "      .mean()\n",
    "      .reset_index()\n",
    ")\n",
    "\n",
    "# Renombrar las columnas para claridad\n",
    "promedios_por_equipo_mes.rename(columns={\n",
    "    'Temperatura_C': 'Promedio_Temperatura_C',\n",
    "    'Vibracion_mm_s': 'Promedio_Vibracion_mm_s',\n",
    "    'Horas_Operativas': 'Promedio_Horas_Operativas'\n",
    "}, inplace=True)\n",
    "\n",
    "promedios_por_equipo_mes['Promedio_Horas_Operativas']=promedios_por_equipo_mes['Promedio_Horas_Operativas']/3600 # Compensación de escala"
   ]
  },
  {
   "cell_type": "code",
   "execution_count": 110,
   "metadata": {},
   "outputs": [
    {
     "data": {
      "text/plain": [
       "(4767, 6)"
      ]
     },
     "execution_count": 110,
     "metadata": {},
     "output_type": "execute_result"
    }
   ],
   "source": [
    "# Verificar y eliminar nulos\n",
    "promedios_por_equipo_mes.isna().sum()\n",
    "promedios_por_equipo_mes.dropna(inplace=True)\n",
    "promedios_por_equipo_mes.shape"
   ]
  },
  {
   "cell_type": "markdown",
   "metadata": {},
   "source": [
    "### Unir merged_hitorico_registro + promedios + caracteristicas"
   ]
  },
  {
   "cell_type": "code",
   "execution_count": 111,
   "metadata": {},
   "outputs": [
    {
     "name": "stdout",
     "output_type": "stream",
     "text": [
      "      ID_Equipo  Ubicacion       Fallo    Año    Mes    Día    Promedio_Horas_Entre_Fallos_por_mes    Promedio_Temperatura_C    Promedio_Vibracion_mm_s    Promedio_Horas_Operativas  Tipo_Equipo    Fabricante    Modelo      Potencia_kW    Horas_Recomendadas_Revision\n",
      "--  -----------  ------------  -------  -----  -----  -----  -------------------------------------  ------------------------  -------------------------  ---------------------------  -------------  ------------  --------  -------------  -----------------------------\n",
      " 0          161  Planta Sur          1   2020      1      4                                     37                    103.35                       3.9                    10.2975     Motor          ABB           Z300               1706                        1.2375\n",
      " 1          286  Planta Este         1   2020      1      4                                     83                     57.58                       3.65                    0.0694444  Generador      GE            Y200               3432                        2.28139\n",
      " 2           49  Planta Norte        1   2020      1      5                                      5                     71.28                       2.31                   16.0953     Generador      Schneider     X100                269                        2.12417\n",
      " 3           49  Planta Sur          1   2020      1      5                                      5                     71.28                       2.31                   16.0953     Generador      Schneider     X100                269                        2.12417\n",
      " 4          185  Planta Este         1   2020      1      6                                     90                    121.04                       0.16                   24.9581     Compresor      Schneider     Z300                215                        1.05639\n",
      "(3172, 15)\n"
     ]
    }
   ],
   "source": [
    "# Unir datasets\n",
    "final_data = pd.merge(historicos_hefbm_clean, promedios_por_equipo_mes, on=['ID_Equipo','Año','Mes'], how='inner')\n",
    "final_data = pd.merge(final_data, caracteristicas_equipos_cleaned, on='ID_Equipo', how='inner')\n",
    "\n",
    "final_data['Horas_Recomendadas_Revision']=final_data['Horas_Recomendadas_Revision']/3600 # Compensamos ajuste en escala\n",
    "\n",
    "tabl(final_data)"
   ]
  },
  {
   "cell_type": "code",
   "execution_count": 112,
   "metadata": {},
   "outputs": [
    {
     "name": "stdout",
     "output_type": "stream",
     "text": [
      "    Ubicacion       Fallo    Promedio_Horas_Entre_Fallos_por_mes    Promedio_Temperatura_C    Promedio_Vibracion_mm_s    Promedio_Horas_Operativas  Tipo_Equipo    Fabricante    Modelo      Potencia_kW    Horas_Recomendadas_Revision\n",
      "--  ------------  -------  -------------------------------------  ------------------------  -------------------------  ---------------------------  -------------  ------------  --------  -------------  -----------------------------\n",
      " 0  Planta Sur          1                                     37                    103.35                       3.9                    10.2975     Motor          ABB           Z300               1706                        1.2375\n",
      " 1  Planta Este         1                                     83                     57.58                       3.65                    0.0694444  Generador      GE            Y200               3432                        2.28139\n",
      " 2  Planta Norte        1                                      5                     71.28                       2.31                   16.0953     Generador      Schneider     X100                269                        2.12417\n",
      " 3  Planta Sur          1                                      5                     71.28                       2.31                   16.0953     Generador      Schneider     X100                269                        2.12417\n",
      " 4  Planta Este         1                                     90                    121.04                       0.16                   24.9581     Compresor      Schneider     Z300                215                        1.05639\n",
      "(3172, 11)\n"
     ]
    }
   ],
   "source": [
    "# Limpiar columnas accesorias\n",
    "final_data.drop(columns=['ID_Equipo','Año', 'Mes', 'Día'], inplace=True)\n",
    "\n",
    "tabl(final_data)"
   ]
  },
  {
   "cell_type": "markdown",
   "metadata": {},
   "source": [
    "### Duplicados"
   ]
  },
  {
   "cell_type": "code",
   "execution_count": 113,
   "metadata": {},
   "outputs": [
    {
     "name": "stdout",
     "output_type": "stream",
     "text": [
      "\n",
      "\u001b[4mDuplicados final_data:\u001b[0m\n",
      " 8\n"
     ]
    }
   ],
   "source": [
    "# Eliminar duplicados\n",
    "\n",
    "print(headr('Duplicados final_data:'),final_data.duplicated().sum())\n",
    "# final_data.drop_duplicates(inplace=True)\n",
    "# tabl(final_data)"
   ]
  },
  {
   "cell_type": "code",
   "execution_count": 114,
   "metadata": {},
   "outputs": [
    {
     "name": "stdout",
     "output_type": "stream",
     "text": [
      "\n",
      "\u001b[4mNulos final_data:\u001b[0m\n",
      " Ubicacion                              0\n",
      "Fallo                                  0\n",
      "Promedio_Horas_Entre_Fallos_por_mes    0\n",
      "Promedio_Temperatura_C                 0\n",
      "Promedio_Vibracion_mm_s                0\n",
      "Promedio_Horas_Operativas              0\n",
      "Tipo_Equipo                            0\n",
      "Fabricante                             0\n",
      "Modelo                                 0\n",
      "Potencia_kW                            0\n",
      "Horas_Recomendadas_Revision            0\n",
      "dtype: int64\n"
     ]
    }
   ],
   "source": [
    "# Verificamos nulos\n",
    "print(headr('Nulos final_data:'),final_data.isna().sum())"
   ]
  },
  {
   "cell_type": "code",
   "execution_count": 115,
   "metadata": {},
   "outputs": [
    {
     "data": {
      "text/plain": [
       "[]"
      ]
     },
     "execution_count": 115,
     "metadata": {},
     "output_type": "execute_result"
    }
   ],
   "source": [
    "columnas_con_nulos = final_data.columns[final_data.isna().any()].tolist()\n",
    "columnas_con_nulos"
   ]
  },
  {
   "cell_type": "code",
   "execution_count": 116,
   "metadata": {},
   "outputs": [],
   "source": [
    "# Imputamos nulos\n",
    "from sklearn.impute import SimpleImputer\n",
    "\n",
    "# imputer = SimpleImputer(strategy=\"median\")\n",
    "\n",
    "# final_data[columnas_con_nulos] = imputer.fit_transform(final_data[columnas_con_nulos])"
   ]
  },
  {
   "cell_type": "code",
   "execution_count": 117,
   "metadata": {},
   "outputs": [
    {
     "name": "stdout",
     "output_type": "stream",
     "text": [
      "    Ubicacion       Fallo    Promedio_Horas_Entre_Fallos_por_mes    Promedio_Temperatura_C    Promedio_Vibracion_mm_s    Promedio_Horas_Operativas  Tipo_Equipo    Fabricante    Modelo      Potencia_kW    Horas_Recomendadas_Revision\n",
      "--  ------------  -------  -------------------------------------  ------------------------  -------------------------  ---------------------------  -------------  ------------  --------  -------------  -----------------------------\n",
      " 0  Planta Sur          1                                     37                    103.35                       3.9                    10.2975     Motor          ABB           Z300               1706                        1.2375\n",
      " 1  Planta Este         1                                     83                     57.58                       3.65                    0.0694444  Generador      GE            Y200               3432                        2.28139\n",
      " 2  Planta Norte        1                                      5                     71.28                       2.31                   16.0953     Generador      Schneider     X100                269                        2.12417\n",
      " 3  Planta Sur          1                                      5                     71.28                       2.31                   16.0953     Generador      Schneider     X100                269                        2.12417\n",
      " 4  Planta Este         1                                     90                    121.04                       0.16                   24.9581     Compresor      Schneider     Z300                215                        1.05639\n",
      "(3172, 11)\n"
     ]
    }
   ],
   "source": [
    "tabl(final_data)"
   ]
  },
  {
   "cell_type": "code",
   "execution_count": 118,
   "metadata": {},
   "outputs": [
    {
     "name": "stdout",
     "output_type": "stream",
     "text": [
      "<class 'pandas.core.frame.DataFrame'>\n",
      "RangeIndex: 3172 entries, 0 to 3171\n",
      "Data columns (total 11 columns):\n",
      " #   Column                               Non-Null Count  Dtype  \n",
      "---  ------                               --------------  -----  \n",
      " 0   Ubicacion                            3172 non-null   object \n",
      " 1   Fallo                                3172 non-null   int64  \n",
      " 2   Promedio_Horas_Entre_Fallos_por_mes  3172 non-null   float64\n",
      " 3   Promedio_Temperatura_C               3172 non-null   float64\n",
      " 4   Promedio_Vibracion_mm_s              3172 non-null   float64\n",
      " 5   Promedio_Horas_Operativas            3172 non-null   float64\n",
      " 6   Tipo_Equipo                          3172 non-null   object \n",
      " 7   Fabricante                           3172 non-null   object \n",
      " 8   Modelo                               3172 non-null   object \n",
      " 9   Potencia_kW                          3172 non-null   float64\n",
      " 10  Horas_Recomendadas_Revision          3172 non-null   float64\n",
      "dtypes: float64(6), int64(1), object(4)\n",
      "memory usage: 272.7+ KB\n"
     ]
    }
   ],
   "source": [
    "final_data.info()"
   ]
  },
  {
   "cell_type": "markdown",
   "metadata": {},
   "source": [
    "### Volvemos a explorar con columnas codificadas\n"
   ]
  },
  {
   "cell_type": "code",
   "execution_count": 119,
   "metadata": {},
   "outputs": [
    {
     "name": "stdout",
     "output_type": "stream",
     "text": [
      "\n",
      "\u001b[4mNumerical columns\u001b[0m\n",
      " ['Fallo', 'Promedio_Horas_Entre_Fallos_por_mes', 'Promedio_Temperatura_C', 'Promedio_Vibracion_mm_s', 'Promedio_Horas_Operativas', 'Potencia_kW', 'Horas_Recomendadas_Revision']\n",
      "\n",
      "\u001b[4mCategorical columns\u001b[0m\n",
      " ['Ubicacion', 'Tipo_Equipo', 'Fabricante', 'Modelo']\n"
     ]
    }
   ],
   "source": [
    "# Extraer columnas numéricas y categóricas\n",
    "from sklearn.compose import make_column_selector as selector\n",
    "\n",
    "numerical_columns_selector = selector(dtype_exclude=object)\n",
    "categorical_columns_selector = selector(dtype_include=object)\n",
    "\n",
    "numerical_columns = numerical_columns_selector(final_data)\n",
    "categorical_columns = categorical_columns_selector(final_data)\n",
    "\n",
    "print(headr(\"Numerical columns\"), numerical_columns)\n",
    "print(headr(\"Categorical columns\"), categorical_columns)"
   ]
  },
  {
   "cell_type": "code",
   "execution_count": 120,
   "metadata": {},
   "outputs": [
    {
     "name": "stdout",
     "output_type": "stream",
     "text": [
      "      Ubicacion    Fallo    Promedio_Horas_Entre_Fallos_por_mes    Promedio_Temperatura_C    Promedio_Vibracion_mm_s    Promedio_Horas_Operativas    Tipo_Equipo    Fabricante    Modelo    Potencia_kW    Horas_Recomendadas_Revision\n",
      "--  -----------  -------  -------------------------------------  ------------------------  -------------------------  ---------------------------  -------------  ------------  --------  -------------  -----------------------------\n",
      " 0            3        1                                     37                    103.35                       3.9                    10.2975                 2             0         3           1706                        1.2375\n",
      " 1            0        1                                     83                     57.58                       3.65                    0.0694444              1             1         2           3432                        2.28139\n",
      " 2            1        1                                      5                     71.28                       2.31                   16.0953                 1             2         1            269                        2.12417\n",
      " 3            3        1                                      5                     71.28                       2.31                   16.0953                 1             2         1            269                        2.12417\n",
      " 4            0        1                                     90                    121.04                       0.16                   24.9581                 0             2         3            215                        1.05639\n",
      "(3172, 11)\n"
     ]
    }
   ],
   "source": [
    "from sklearn.preprocessing import LabelEncoder, StandardScaler\n",
    "\n",
    "final_data_coded =final_data.copy()\n",
    "final_data_coded[categorical_columns] =final_data_coded[categorical_columns].apply(LabelEncoder().fit_transform)   \n",
    "tabl(final_data_coded)"
   ]
  },
  {
   "cell_type": "code",
   "execution_count": 121,
   "metadata": {},
   "outputs": [
    {
     "name": "stdout",
     "output_type": "stream",
     "text": [
      "\n",
      "\u001b[4mFeature scores\u001b[0m\n",
      "\n"
     ]
    },
    {
     "data": {
      "text/html": [
       "<div>\n",
       "<style scoped>\n",
       "    .dataframe tbody tr th:only-of-type {\n",
       "        vertical-align: middle;\n",
       "    }\n",
       "\n",
       "    .dataframe tbody tr th {\n",
       "        vertical-align: top;\n",
       "    }\n",
       "\n",
       "    .dataframe thead th {\n",
       "        text-align: right;\n",
       "    }\n",
       "</style>\n",
       "<table border=\"1\" class=\"dataframe\">\n",
       "  <thead>\n",
       "    <tr style=\"text-align: right;\">\n",
       "      <th></th>\n",
       "      <th>Feature</th>\n",
       "      <th>Score</th>\n",
       "    </tr>\n",
       "  </thead>\n",
       "  <tbody>\n",
       "    <tr>\n",
       "      <th>2</th>\n",
       "      <td>Promedio_Temperatura_C</td>\n",
       "      <td>4.08</td>\n",
       "    </tr>\n",
       "    <tr>\n",
       "      <th>3</th>\n",
       "      <td>Promedio_Vibracion_mm_s</td>\n",
       "      <td>3.68</td>\n",
       "    </tr>\n",
       "    <tr>\n",
       "      <th>8</th>\n",
       "      <td>Potencia_kW</td>\n",
       "      <td>2.08</td>\n",
       "    </tr>\n",
       "    <tr>\n",
       "      <th>1</th>\n",
       "      <td>Promedio_Horas_Entre_Fallos_por_mes</td>\n",
       "      <td>1.94</td>\n",
       "    </tr>\n",
       "    <tr>\n",
       "      <th>9</th>\n",
       "      <td>Horas_Recomendadas_Revision</td>\n",
       "      <td>1.33</td>\n",
       "    </tr>\n",
       "    <tr>\n",
       "      <th>0</th>\n",
       "      <td>Ubicacion</td>\n",
       "      <td>1.29</td>\n",
       "    </tr>\n",
       "    <tr>\n",
       "      <th>5</th>\n",
       "      <td>Tipo_Equipo</td>\n",
       "      <td>0.96</td>\n",
       "    </tr>\n",
       "    <tr>\n",
       "      <th>6</th>\n",
       "      <td>Fabricante</td>\n",
       "      <td>0.85</td>\n",
       "    </tr>\n",
       "    <tr>\n",
       "      <th>7</th>\n",
       "      <td>Modelo</td>\n",
       "      <td>0.18</td>\n",
       "    </tr>\n",
       "    <tr>\n",
       "      <th>4</th>\n",
       "      <td>Promedio_Horas_Operativas</td>\n",
       "      <td>0.03</td>\n",
       "    </tr>\n",
       "  </tbody>\n",
       "</table>\n",
       "</div>"
      ],
      "text/plain": [
       "                               Feature  Score\n",
       "2               Promedio_Temperatura_C   4.08\n",
       "3              Promedio_Vibracion_mm_s   3.68\n",
       "8                          Potencia_kW   2.08\n",
       "1  Promedio_Horas_Entre_Fallos_por_mes   1.94\n",
       "9          Horas_Recomendadas_Revision   1.33\n",
       "0                            Ubicacion   1.29\n",
       "5                          Tipo_Equipo   0.96\n",
       "6                           Fabricante   0.85\n",
       "7                               Modelo   0.18\n",
       "4            Promedio_Horas_Operativas   0.03"
      ]
     },
     "execution_count": 121,
     "metadata": {},
     "output_type": "execute_result"
    }
   ],
   "source": [
    "# Evaluamos la aportación de cada columna\n",
    "from sklearn.feature_selection import SelectKBest\n",
    "from sklearn.feature_selection import f_classif,chi2\n",
    "\n",
    "X= final_data_coded.drop(target_column, axis=1)\n",
    "y = final_data_coded[target_column]\n",
    "\n",
    "fvalue_selector = SelectKBest(f_classif, k=2)\n",
    "\n",
    "X_kbest = fvalue_selector.fit(X,y)\n",
    "\n",
    "feature_scores = pd.DataFrame({\"Feature\": X.columns,\"Score\": X_kbest.scores_}).sort_values(by=\"Score\", ascending=False)\n",
    "\n",
    "print(headr(\"Feature scores\"))\n",
    "round(feature_scores,2)"
   ]
  },
  {
   "cell_type": "code",
   "execution_count": null,
   "metadata": {},
   "outputs": [],
   "source": [
    "# Eliminamos columnas sin peso\n",
    "\n",
    "columns_to_drop = feature_scores[feature_scores['Score'] == 0]['Feature']\n",
    "final_data.drop(columns=columns_to_drop, inplace=True)\n",
    "tabl(final_data)"
   ]
  },
  {
   "cell_type": "markdown",
   "metadata": {},
   "source": [
    "## Exportar "
   ]
  },
  {
   "cell_type": "code",
   "execution_count": null,
   "metadata": {},
   "outputs": [],
   "source": [
    "final_data.to_csv('../data/preprocessed/preprocessed_data_v3.csv', index=False)"
   ]
  }
 ],
 "metadata": {
  "kernelspec": {
   "display_name": "Python 3",
   "language": "python",
   "name": "python3"
  },
  "language_info": {
   "codemirror_mode": {
    "name": "ipython",
    "version": 3
   },
   "file_extension": ".py",
   "mimetype": "text/x-python",
   "name": "python",
   "nbconvert_exporter": "python",
   "pygments_lexer": "ipython3",
   "version": "3.12.4"
  }
 },
 "nbformat": 4,
 "nbformat_minor": 2
}
