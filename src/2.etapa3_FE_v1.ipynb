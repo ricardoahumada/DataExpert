{
 "cells": [
  {
   "cell_type": "markdown",
   "metadata": {},
   "source": [
    "# Solución etapa 3 - FE + Training"
   ]
  },
  {
   "cell_type": "code",
   "execution_count": 3,
   "metadata": {},
   "outputs": [],
   "source": [
    "# Utilidades para print\n",
    "from utils.print_utils import tabl, headr, titl"
   ]
  },
  {
   "cell_type": "code",
   "execution_count": 4,
   "metadata": {},
   "outputs": [],
   "source": [
    "# Cargar los datasets\n",
    "import pandas as pd\n",
    "\n",
    "historicos_ordenes_cleaned = pd.read_csv('../data/cleaned/historicos_ordenes_cleaned.csv')\n",
    "registros_condiciones_cleaned = pd.read_csv('../data/cleaned/registros_condiciones_cleaned.csv')\n",
    "caracteristicas_equipos_cleaned = pd.read_csv('../data/cleaned/caracteristicas_equipos_cleaned.csv')\n"
   ]
  },
  {
   "cell_type": "markdown",
   "metadata": {},
   "source": [
    "## Feature eng"
   ]
  },
  {
   "cell_type": "markdown",
   "metadata": {},
   "source": [
    "### Target"
   ]
  },
  {
   "cell_type": "code",
   "execution_count": 5,
   "metadata": {},
   "outputs": [],
   "source": [
    "# Generar target\n",
    "\n",
    "target_column=\"Fallo\"\n",
    "\n",
    "def code_target(val):\n",
    "    if val == 'Correctivo':\n",
    "        return 1\n",
    "    else:\n",
    "        return 0\n",
    "\n",
    "\n",
    "historicos_ordenes_cleaned[target_column] = historicos_ordenes_cleaned[\"Tipo_Mantenimiento\"].apply(code_target)\n",
    "historicos_ordenes_cleaned.drop(\"Tipo_Mantenimiento\", axis=1, inplace=True)"
   ]
  },
  {
   "cell_type": "markdown",
   "metadata": {},
   "source": [
    "### historicos_ordenes"
   ]
  },
  {
   "cell_type": "code",
   "execution_count": 6,
   "metadata": {},
   "outputs": [
    {
     "name": "stdout",
     "output_type": "stream",
     "text": [
      "      ID_Orden    ID_Equipo  Fecha                  Costo_Mantenimiento    Duracion_Horas  Ubicacion       Fallo\n",
      "--  ----------  -----------  -------------------  ---------------------  ----------------  ------------  -------\n",
      " 0           1           36  2020-01-01 00:00:00                6754.12                 3  Planta Norte        0\n",
      " 1           2          244  2020-01-01 01:00:00                4274.63                35  Planta Norte        0\n",
      " 2           3          297  2020-01-01 02:00:00                5752                   25  Planta Norte        0\n",
      " 3           4          431  2020-01-01 03:00:00                5690.14                 8  Planta Sur          1\n",
      " 4           5          403  2020-01-01 04:00:00                7048.79                28  Planta Norte        1\n",
      "(9951, 7)\n"
     ]
    }
   ],
   "source": [
    "tabl(historicos_ordenes_cleaned)"
   ]
  },
  {
   "cell_type": "code",
   "execution_count": 7,
   "metadata": {},
   "outputs": [
    {
     "name": "stdout",
     "output_type": "stream",
     "text": [
      "      ID_Orden    ID_Equipo  Fecha                  Costo_Mantenimiento    Duracion_Horas  Ubicacion       Fallo    Año    Mes    Día\n",
      "--  ----------  -----------  -------------------  ---------------------  ----------------  ------------  -------  -----  -----  -----\n",
      " 0           1           36  2020-01-01 00:00:00                6754.12                 3  Planta Norte        0   2020      1      1\n",
      " 1           2          244  2020-01-01 01:00:00                4274.63                35  Planta Norte        0   2020      1      1\n",
      " 2           3          297  2020-01-01 02:00:00                5752                   25  Planta Norte        0   2020      1      1\n",
      " 3           4          431  2020-01-01 03:00:00                5690.14                 8  Planta Sur          1   2020      1      1\n",
      " 4           5          403  2020-01-01 04:00:00                7048.79                28  Planta Norte        1   2020      1      1\n",
      "(9951, 10)\n"
     ]
    }
   ],
   "source": [
    "historicos_ordenes_cleaned['Fecha'] = pd.to_datetime(historicos_ordenes_cleaned['Fecha'])\n",
    "\n",
    "historicos_ordenes_cleaned['Año'] = historicos_ordenes_cleaned['Fecha'].dt.year\n",
    "historicos_ordenes_cleaned['Mes'] = historicos_ordenes_cleaned['Fecha'].dt.month\n",
    "historicos_ordenes_cleaned['Día'] = historicos_ordenes_cleaned['Fecha'].dt.day\n",
    "\n",
    "tabl(historicos_ordenes_cleaned)"
   ]
  },
  {
   "cell_type": "code",
   "execution_count": 8,
   "metadata": {},
   "outputs": [
    {
     "name": "stdout",
     "output_type": "stream",
     "text": [
      "      ID_Equipo    Tiempo_medio_entre_fallos(h)\n",
      "--  -----------  ------------------------------\n",
      " 0            1                        1164\n",
      " 1            2                         667.462\n",
      " 2            3                         984.167\n",
      " 3            4                        1300.43\n",
      " 4            5                        1341.71\n",
      "(499, 2)\n"
     ]
    }
   ],
   "source": [
    "# Tiempo medio entre fallos por fecha\n",
    "\n",
    "# Filtrar solo los registros con fallos\n",
    "fallos = historicos_ordenes_cleaned[historicos_ordenes_cleaned['Fallo'] == 1].copy()\n",
    "\n",
    "# Ordenar por fecha\n",
    "fallos = fallos.sort_values(by=['ID_Equipo', 'Fecha'])\n",
    "\n",
    "# Calcular los intervalos entre fallos consecutivos\n",
    "fallos['Intervalo'] = fallos.groupby('ID_Equipo')['Fecha'].diff()\n",
    "fallos['Intervalo_Horas'] = fallos['Intervalo'].dt.total_seconds() / 3600\n",
    "\n",
    "# Calcular el Tiempo medio entre fallos por equipo\n",
    "mtbf_por_idequipo = fallos.groupby('ID_Equipo')['Intervalo_Horas'].mean().reset_index()\n",
    "mtbf_por_idequipo.rename(columns={'Intervalo_Horas': 'Tiempo_medio_entre_fallos(h)'}, inplace=True)\n",
    "\n",
    "tabl(mtbf_por_idequipo)"
   ]
  },
  {
   "cell_type": "code",
   "execution_count": 9,
   "metadata": {},
   "outputs": [
    {
     "name": "stdout",
     "output_type": "stream",
     "text": [
      "      ID_Orden    ID_Equipo  Fecha                  Costo_Mantenimiento    Duracion_Horas  Ubicacion       Fallo    Año    Mes    Día    Tiempo_medio_entre_fallos(h)\n",
      "--  ----------  -----------  -------------------  ---------------------  ----------------  ------------  -------  -----  -----  -----  ------------------------------\n",
      " 0           1           36  2020-01-01 00:00:00                6754.12                 3  Planta Norte        0   2020      1      1                        1220.12\n",
      " 1           2          244  2020-01-01 01:00:00                4274.63                35  Planta Norte        0   2020      1      1                         772.5\n",
      " 2           3          297  2020-01-01 02:00:00                5752                   25  Planta Norte        0   2020      1      1                         752\n",
      " 3           4          431  2020-01-01 03:00:00                5690.14                 8  Planta Sur          1   2020      1      1                         699.077\n",
      " 4           5          403  2020-01-01 04:00:00                7048.79                28  Planta Norte        1   2020      1      1                        1368.86\n",
      "(9951, 11)\n"
     ]
    }
   ],
   "source": [
    "# Mezclar historicos_ordenes_cleaned + mtbf_por_idequipo\n",
    "\n",
    "historicos_mtbf = pd.merge(historicos_ordenes_cleaned, mtbf_por_idequipo, on=['ID_Equipo'], how='left')\n",
    "tabl(historicos_mtbf)"
   ]
  },
  {
   "cell_type": "code",
   "execution_count": 10,
   "metadata": {},
   "outputs": [
    {
     "name": "stdout",
     "output_type": "stream",
     "text": [
      "      ID_Orden_x    ID_Equipo  Fecha_x                Costo_Mantenimiento_x    Duracion_Horas_x  Ubicacion_x      Fallo_x    Año    Mes    Día    ID_Orden_y  Fecha_y                Costo_Mantenimiento_y    Duracion_Horas_y  Ubicacion_y      Fallo_y    Tiempo_medio_entre_fallos(h)\n",
      "--  ------------  -----------  -------------------  -----------------------  ------------------  -------------  ---------  -----  -----  -----  ------------  -------------------  -----------------------  ------------------  -------------  ---------  ------------------------------\n",
      " 0             1           36  2020-01-01 00:00:00                  6754.12                   3  Planta Norte           0   2020      1      1             1  2020-01-01 00:00:00                  6754.12                   3  Planta Norte           0                        1220.12\n",
      " 1             2          244  2020-01-01 01:00:00                  4274.63                  35  Planta Norte           0   2020      1      1             2  2020-01-01 01:00:00                  4274.63                  35  Planta Norte           0                         772.5\n",
      " 2             3          297  2020-01-01 02:00:00                  5752                     25  Planta Norte           0   2020      1      1             3  2020-01-01 02:00:00                  5752                     25  Planta Norte           0                         752\n",
      " 3             4          431  2020-01-01 03:00:00                  5690.14                   8  Planta Sur             1   2020      1      1             4  2020-01-01 03:00:00                  5690.14                   8  Planta Sur             1                         699.077\n",
      " 4             5          403  2020-01-01 04:00:00                  7048.79                  28  Planta Norte           1   2020      1      1             5  2020-01-01 04:00:00                  7048.79                  28  Planta Norte           1                        1368.86\n",
      "(10429, 17)\n"
     ]
    }
   ],
   "source": [
    "# Mezclar historicos_ordenes_cleaned + historicos_mtbf\n",
    "\n",
    "historicos_historicos_mtbf = pd.merge(historicos_ordenes_cleaned, historicos_mtbf, on=['ID_Equipo','Año','Mes','Día'], how='inner')\n",
    "tabl(historicos_historicos_mtbf)"
   ]
  },
  {
   "cell_type": "code",
   "execution_count": 11,
   "metadata": {},
   "outputs": [
    {
     "name": "stdout",
     "output_type": "stream",
     "text": [
      "ID_Orden_x                      0\n",
      "ID_Equipo                       0\n",
      "Fecha_x                         0\n",
      "Costo_Mantenimiento_x           0\n",
      "Duracion_Horas_x                0\n",
      "Ubicacion_x                     0\n",
      "Fallo_x                         0\n",
      "Año                             0\n",
      "Mes                             0\n",
      "Día                             0\n",
      "ID_Orden_y                      0\n",
      "Fecha_y                         0\n",
      "Costo_Mantenimiento_y           0\n",
      "Duracion_Horas_y                0\n",
      "Ubicacion_y                     0\n",
      "Fallo_y                         0\n",
      "Tiempo_medio_entre_fallos(h)    0\n",
      "dtype: int64\n"
     ]
    }
   ],
   "source": [
    "# Verificamos nulos\n",
    "print(historicos_historicos_mtbf.isna().sum())\n",
    "historicos_historicos_mtbf.dropna(inplace=True)"
   ]
  },
  {
   "cell_type": "code",
   "execution_count": 12,
   "metadata": {},
   "outputs": [
    {
     "name": "stdout",
     "output_type": "stream",
     "text": [
      "      ID_Equipo  Ubicacion       Fallo    Año    Mes    Día    Tiempo_medio_entre_fallos(h)\n",
      "--  -----------  ------------  -------  -----  -----  -----  ------------------------------\n",
      " 0           36  Planta Norte        0   2020      1      1                        1220.12\n",
      " 1          244  Planta Norte        0   2020      1      1                         772.5\n",
      " 2          297  Planta Norte        0   2020      1      1                         752\n",
      " 3          431  Planta Sur          1   2020      1      1                         699.077\n",
      " 4          403  Planta Norte        1   2020      1      1                        1368.86\n",
      "(9951, 7)\n"
     ]
    }
   ],
   "source": [
    "# Eliminar columnas sin valor de historicos_mtbf\n",
    "historicos_mtbf_clean = historicos_mtbf.drop(columns=['ID_Orden','Costo_Mantenimiento','Duracion_Horas','Fecha'])\n",
    "tabl(historicos_mtbf_clean)"
   ]
  },
  {
   "cell_type": "markdown",
   "metadata": {},
   "source": [
    "### registros_condiciones"
   ]
  },
  {
   "cell_type": "code",
   "execution_count": 13,
   "metadata": {},
   "outputs": [
    {
     "name": "stdout",
     "output_type": "stream",
     "text": [
      "      ID_Equipo  Fecha                  Temperatura_C    Vibracion_mm_s    Horas_Operativas    Año    Mes    Día\n",
      "--  -----------  -------------------  ---------------  ----------------  ------------------  -----  -----  -----\n",
      " 0          260  2020-01-01 00:00:00           101.43              1.22               71849   2020      1      1\n",
      " 2          443  2020-01-01 02:00:00            76.04              2.93               33106   2020      1      1\n",
      " 3          281  2020-01-01 03:00:00            97.09              3.25               31744   2020      1      1\n",
      " 4          427  2020-01-01 04:00:00           139.42              4.22               78104   2020      1      1\n",
      " 5           48  2020-01-01 05:00:00            98.77              2.73               89664   2020      1      1\n",
      "(8999, 8)\n"
     ]
    }
   ],
   "source": [
    "registros_condiciones_cleaned.drop(columns=['ID_Registro'], index=1, inplace=True)\n",
    "\n",
    "registros_condiciones_cleaned['Fecha']=pd.to_datetime(registros_condiciones_cleaned['Fecha'])\n",
    "registros_condiciones_cleaned['Año'] = registros_condiciones_cleaned['Fecha'].dt.year\n",
    "registros_condiciones_cleaned['Mes'] = registros_condiciones_cleaned['Fecha'].dt.month\n",
    "registros_condiciones_cleaned['Día'] = registros_condiciones_cleaned['Fecha'].dt.day\n",
    "\n",
    "tabl(registros_condiciones_cleaned)"
   ]
  },
  {
   "cell_type": "code",
   "execution_count": 14,
   "metadata": {},
   "outputs": [
    {
     "name": "stdout",
     "output_type": "stream",
     "text": [
      "      ID_Equipo    Año    Mes    Día    Promedio_Temperatura_C    Promedio_Vibracion_mm_s    Promedio_Horas_Operativas\n",
      "--  -----------  -----  -----  -----  ------------------------  -------------------------  ---------------------------\n",
      " 0            1   2020      1      2                     93.8                        0.7                         80054\n",
      " 1            1   2020      1     21                    102.99                       2.31                        74797\n",
      " 2            1   2020      3      2                    145.97                       1.57                        95240\n",
      " 3            1   2020      3     16                    147.18                       2.49                         6872\n",
      " 4            1   2020      4     17                     58.93                       3.54                        28186\n",
      "(8793, 7)\n"
     ]
    }
   ],
   "source": [
    "# Agrupar por 'ID_Equipo', 'Año' y 'Mes', y calcular los promedios\n",
    "promedios_por_equipo_mes = (\n",
    "    registros_condiciones_cleaned.groupby(['ID_Equipo', 'Año', 'Mes','Día'])[['Temperatura_C', 'Vibracion_mm_s', 'Horas_Operativas']]\n",
    "      .mean()\n",
    "      .reset_index()\n",
    ")\n",
    "\n",
    "# Renombrar las columnas para claridad\n",
    "promedios_por_equipo_mes.rename(columns={\n",
    "    'Temperatura_C': 'Promedio_Temperatura_C',\n",
    "    'Vibracion_mm_s': 'Promedio_Vibracion_mm_s',\n",
    "    'Horas_Operativas': 'Promedio_Horas_Operativas'\n",
    "}, inplace=True)\n",
    "\n",
    "tabl(promedios_por_equipo_mes)"
   ]
  },
  {
   "cell_type": "code",
   "execution_count": 15,
   "metadata": {},
   "outputs": [
    {
     "data": {
      "text/plain": [
       "(8755, 7)"
      ]
     },
     "execution_count": 15,
     "metadata": {},
     "output_type": "execute_result"
    }
   ],
   "source": [
    "promedios_por_equipo_mes.isna().sum()\n",
    "promedios_por_equipo_mes.dropna(inplace=True)\n",
    "promedios_por_equipo_mes.shape"
   ]
  },
  {
   "cell_type": "markdown",
   "metadata": {},
   "source": [
    "### Unir merged_hitorico_registro + promedios + caracteristicas"
   ]
  },
  {
   "cell_type": "code",
   "execution_count": 16,
   "metadata": {},
   "outputs": [
    {
     "name": "stdout",
     "output_type": "stream",
     "text": [
      "      ID_Equipo  Ubicacion       Fallo    Año    Mes    Día_x    Tiempo_medio_entre_fallos(h)    Día_y    Promedio_Temperatura_C    Promedio_Vibracion_mm_s    Promedio_Horas_Operativas  Tipo_Equipo    Fabricante    Modelo      Potencia_kW    Horas_Recomendadas_Revision\n",
      "--  -----------  ------------  -------  -----  -----  -------  ------------------------------  -------  ------------------------  -------------------------  ---------------------------  -------------  ------------  --------  -------------  -----------------------------\n",
      " 0           36  Planta Norte        0   2020      1        1                         1220.12       13                    139.97                       4.31                        41114  Motor          Siemens       M400               4351                           3549\n",
      " 1          297  Planta Norte        0   2020      1        1                          752           1                     71.11                       3.24                        42929  Transformador  GE            X100               3728                           8016\n",
      " 2          297  Planta Norte        0   2020      1        1                          752           5                     76.25                       4.83                        41738  Transformador  GE            X100               3728                           8016\n",
      " 3          297  Planta Norte        0   2020      1        1                          752          27                    137.49                       0.94                        76688  Transformador  GE            X100               3728                           8016\n",
      " 4          297  Planta Norte        0   2020      1        1                          752          28                     61.59                       0.67                        35992  Transformador  GE            X100               3728                           8016\n",
      "(12729, 16)\n"
     ]
    }
   ],
   "source": [
    "# Unir datasets\n",
    "final_data = pd.merge(historicos_mtbf_clean, promedios_por_equipo_mes, on=['ID_Equipo','Año','Mes'], how='inner')\n",
    "final_data = pd.merge(final_data, caracteristicas_equipos_cleaned, on='ID_Equipo', how='inner')\n",
    "\n",
    "tabl(final_data)"
   ]
  },
  {
   "cell_type": "code",
   "execution_count": 17,
   "metadata": {},
   "outputs": [
    {
     "name": "stdout",
     "output_type": "stream",
     "text": [
      "    Ubicacion       Fallo    Tiempo_medio_entre_fallos(h)    Promedio_Temperatura_C    Promedio_Vibracion_mm_s    Promedio_Horas_Operativas  Tipo_Equipo    Fabricante    Modelo      Potencia_kW    Horas_Recomendadas_Revision\n",
      "--  ------------  -------  ------------------------------  ------------------------  -------------------------  ---------------------------  -------------  ------------  --------  -------------  -----------------------------\n",
      " 0  Planta Norte        0                         1220.12                    139.97                       4.31                        41114  Motor          Siemens       M400               4351                           3549\n",
      " 1  Planta Norte        0                          752                        71.11                       3.24                        42929  Transformador  GE            X100               3728                           8016\n",
      " 2  Planta Norte        0                          752                        76.25                       4.83                        41738  Transformador  GE            X100               3728                           8016\n",
      " 3  Planta Norte        0                          752                       137.49                       0.94                        76688  Transformador  GE            X100               3728                           8016\n",
      " 4  Planta Norte        0                          752                        61.59                       0.67                        35992  Transformador  GE            X100               3728                           8016\n",
      "(12729, 11)\n"
     ]
    }
   ],
   "source": [
    "# Limpiar columnas accesorias\n",
    "final_data.drop(columns=['ID_Equipo','Año', 'Mes', 'Día_x', 'Día_y'], inplace=True)\n",
    "\n",
    "tabl(final_data)"
   ]
  },
  {
   "cell_type": "markdown",
   "metadata": {},
   "source": [
    "### Duplicados"
   ]
  },
  {
   "cell_type": "code",
   "execution_count": 18,
   "metadata": {},
   "outputs": [
    {
     "name": "stdout",
     "output_type": "stream",
     "text": [
      "\n",
      "\u001b[4mDuplicados final_data:\u001b[0m\n",
      " 1141\n"
     ]
    }
   ],
   "source": [
    "# Eliminar duplicados\n",
    "\n",
    "print(headr('Duplicados final_data:'),final_data.duplicated().sum())\n",
    "# final_data.drop_duplicates(inplace=True)\n",
    "# tabl(final_data)"
   ]
  },
  {
   "cell_type": "code",
   "execution_count": 19,
   "metadata": {},
   "outputs": [
    {
     "name": "stdout",
     "output_type": "stream",
     "text": [
      "\n",
      "\u001b[4mNulos final_data:\u001b[0m\n",
      " Ubicacion                       0\n",
      "Fallo                           0\n",
      "Tiempo_medio_entre_fallos(h)    0\n",
      "Promedio_Temperatura_C          0\n",
      "Promedio_Vibracion_mm_s         0\n",
      "Promedio_Horas_Operativas       0\n",
      "Tipo_Equipo                     0\n",
      "Fabricante                      0\n",
      "Modelo                          0\n",
      "Potencia_kW                     0\n",
      "Horas_Recomendadas_Revision     0\n",
      "dtype: int64\n"
     ]
    }
   ],
   "source": [
    "# Verificamos nulos\n",
    "print(headr('Nulos final_data:'),final_data.isna().sum())"
   ]
  },
  {
   "cell_type": "code",
   "execution_count": 20,
   "metadata": {},
   "outputs": [
    {
     "data": {
      "text/plain": [
       "[]"
      ]
     },
     "execution_count": 20,
     "metadata": {},
     "output_type": "execute_result"
    }
   ],
   "source": [
    "columnas_con_nulos = final_data.columns[final_data.isna().any()].tolist()\n",
    "columnas_con_nulos"
   ]
  },
  {
   "cell_type": "code",
   "execution_count": 21,
   "metadata": {},
   "outputs": [],
   "source": [
    "# Imputamos nulos\n",
    "from sklearn.impute import SimpleImputer\n",
    "\n",
    "imputer = SimpleImputer(strategy=\"median\")\n",
    "\n",
    "# final_data[columnas_con_nulos] = imputer.fit_transform(final_data[columnas_con_nulos])"
   ]
  },
  {
   "cell_type": "code",
   "execution_count": 22,
   "metadata": {},
   "outputs": [
    {
     "name": "stdout",
     "output_type": "stream",
     "text": [
      "    Ubicacion       Fallo    Tiempo_medio_entre_fallos(h)    Promedio_Temperatura_C    Promedio_Vibracion_mm_s    Promedio_Horas_Operativas  Tipo_Equipo    Fabricante    Modelo      Potencia_kW    Horas_Recomendadas_Revision\n",
      "--  ------------  -------  ------------------------------  ------------------------  -------------------------  ---------------------------  -------------  ------------  --------  -------------  -----------------------------\n",
      " 0  Planta Norte        0                         1220.12                    139.97                       4.31                        41114  Motor          Siemens       M400               4351                           3549\n",
      " 1  Planta Norte        0                          752                        71.11                       3.24                        42929  Transformador  GE            X100               3728                           8016\n",
      " 2  Planta Norte        0                          752                        76.25                       4.83                        41738  Transformador  GE            X100               3728                           8016\n",
      " 3  Planta Norte        0                          752                       137.49                       0.94                        76688  Transformador  GE            X100               3728                           8016\n",
      " 4  Planta Norte        0                          752                        61.59                       0.67                        35992  Transformador  GE            X100               3728                           8016\n",
      "(12729, 11)\n"
     ]
    }
   ],
   "source": [
    "tabl(final_data)"
   ]
  },
  {
   "cell_type": "code",
   "execution_count": 23,
   "metadata": {},
   "outputs": [
    {
     "name": "stdout",
     "output_type": "stream",
     "text": [
      "<class 'pandas.core.frame.DataFrame'>\n",
      "RangeIndex: 12729 entries, 0 to 12728\n",
      "Data columns (total 11 columns):\n",
      " #   Column                        Non-Null Count  Dtype  \n",
      "---  ------                        --------------  -----  \n",
      " 0   Ubicacion                     12729 non-null  object \n",
      " 1   Fallo                         12729 non-null  int64  \n",
      " 2   Tiempo_medio_entre_fallos(h)  12729 non-null  float64\n",
      " 3   Promedio_Temperatura_C        12729 non-null  float64\n",
      " 4   Promedio_Vibracion_mm_s       12729 non-null  float64\n",
      " 5   Promedio_Horas_Operativas     12729 non-null  float64\n",
      " 6   Tipo_Equipo                   12729 non-null  object \n",
      " 7   Fabricante                    12729 non-null  object \n",
      " 8   Modelo                        12729 non-null  object \n",
      " 9   Potencia_kW                   12729 non-null  float64\n",
      " 10  Horas_Recomendadas_Revision   12729 non-null  int64  \n",
      "dtypes: float64(5), int64(2), object(4)\n",
      "memory usage: 1.1+ MB\n"
     ]
    }
   ],
   "source": [
    "final_data.info()"
   ]
  },
  {
   "cell_type": "markdown",
   "metadata": {},
   "source": [
    "### Volvemos a explorar con columnas codificadas\n"
   ]
  },
  {
   "cell_type": "code",
   "execution_count": 24,
   "metadata": {},
   "outputs": [
    {
     "name": "stdout",
     "output_type": "stream",
     "text": [
      "\n",
      "\u001b[4mNumerical columns\u001b[0m\n",
      " ['Fallo', 'Tiempo_medio_entre_fallos(h)', 'Promedio_Temperatura_C', 'Promedio_Vibracion_mm_s', 'Promedio_Horas_Operativas', 'Potencia_kW', 'Horas_Recomendadas_Revision']\n",
      "\n",
      "\u001b[4mCategorical columns\u001b[0m\n",
      " ['Ubicacion', 'Tipo_Equipo', 'Fabricante', 'Modelo']\n"
     ]
    }
   ],
   "source": [
    "# Extraer columnas numéricas y categóricas\n",
    "from sklearn.compose import make_column_selector as selector\n",
    "\n",
    "numerical_columns_selector = selector(dtype_exclude=object)\n",
    "categorical_columns_selector = selector(dtype_include=object)\n",
    "\n",
    "numerical_columns = numerical_columns_selector(final_data)\n",
    "categorical_columns = categorical_columns_selector(final_data)\n",
    "\n",
    "print(headr(\"Numerical columns\"), numerical_columns)\n",
    "print(headr(\"Categorical columns\"), categorical_columns)"
   ]
  },
  {
   "cell_type": "code",
   "execution_count": 25,
   "metadata": {},
   "outputs": [
    {
     "name": "stdout",
     "output_type": "stream",
     "text": [
      "      Ubicacion    Fallo    Tiempo_medio_entre_fallos(h)    Promedio_Temperatura_C    Promedio_Vibracion_mm_s    Promedio_Horas_Operativas    Tipo_Equipo    Fabricante    Modelo    Potencia_kW    Horas_Recomendadas_Revision\n",
      "--  -----------  -------  ------------------------------  ------------------------  -------------------------  ---------------------------  -------------  ------------  --------  -------------  -----------------------------\n",
      " 0            1        0                         1220.12                    139.97                       4.31                        41114              2             3         0           4351                           3549\n",
      " 1            1        0                          752                        71.11                       3.24                        42929              3             1         1           3728                           8016\n",
      " 2            1        0                          752                        76.25                       4.83                        41738              3             1         1           3728                           8016\n",
      " 3            1        0                          752                       137.49                       0.94                        76688              3             1         1           3728                           8016\n",
      " 4            1        0                          752                        61.59                       0.67                        35992              3             1         1           3728                           8016\n",
      "(12729, 11)\n"
     ]
    }
   ],
   "source": [
    "from sklearn.preprocessing import LabelEncoder, StandardScaler\n",
    "\n",
    "final_data_coded =final_data.copy()\n",
    "final_data_coded[categorical_columns] =final_data_coded[categorical_columns].apply(LabelEncoder().fit_transform)   \n",
    "tabl(final_data_coded)"
   ]
  },
  {
   "cell_type": "code",
   "execution_count": 26,
   "metadata": {},
   "outputs": [
    {
     "name": "stdout",
     "output_type": "stream",
     "text": [
      "\n",
      "\u001b[4mFeature scores\u001b[0m\n",
      "\n"
     ]
    },
    {
     "data": {
      "text/html": [
       "<div>\n",
       "<style scoped>\n",
       "    .dataframe tbody tr th:only-of-type {\n",
       "        vertical-align: middle;\n",
       "    }\n",
       "\n",
       "    .dataframe tbody tr th {\n",
       "        vertical-align: top;\n",
       "    }\n",
       "\n",
       "    .dataframe thead th {\n",
       "        text-align: right;\n",
       "    }\n",
       "</style>\n",
       "<table border=\"1\" class=\"dataframe\">\n",
       "  <thead>\n",
       "    <tr style=\"text-align: right;\">\n",
       "      <th></th>\n",
       "      <th>Feature</th>\n",
       "      <th>Score</th>\n",
       "    </tr>\n",
       "  </thead>\n",
       "  <tbody>\n",
       "    <tr>\n",
       "      <th>1</th>\n",
       "      <td>Tiempo_medio_entre_fallos(h)</td>\n",
       "      <td>248.15</td>\n",
       "    </tr>\n",
       "    <tr>\n",
       "      <th>7</th>\n",
       "      <td>Modelo</td>\n",
       "      <td>7.30</td>\n",
       "    </tr>\n",
       "    <tr>\n",
       "      <th>6</th>\n",
       "      <td>Fabricante</td>\n",
       "      <td>7.04</td>\n",
       "    </tr>\n",
       "    <tr>\n",
       "      <th>9</th>\n",
       "      <td>Horas_Recomendadas_Revision</td>\n",
       "      <td>5.31</td>\n",
       "    </tr>\n",
       "    <tr>\n",
       "      <th>3</th>\n",
       "      <td>Promedio_Vibracion_mm_s</td>\n",
       "      <td>2.78</td>\n",
       "    </tr>\n",
       "    <tr>\n",
       "      <th>5</th>\n",
       "      <td>Tipo_Equipo</td>\n",
       "      <td>1.55</td>\n",
       "    </tr>\n",
       "    <tr>\n",
       "      <th>4</th>\n",
       "      <td>Promedio_Horas_Operativas</td>\n",
       "      <td>0.36</td>\n",
       "    </tr>\n",
       "    <tr>\n",
       "      <th>0</th>\n",
       "      <td>Ubicacion</td>\n",
       "      <td>0.24</td>\n",
       "    </tr>\n",
       "    <tr>\n",
       "      <th>8</th>\n",
       "      <td>Potencia_kW</td>\n",
       "      <td>0.16</td>\n",
       "    </tr>\n",
       "    <tr>\n",
       "      <th>2</th>\n",
       "      <td>Promedio_Temperatura_C</td>\n",
       "      <td>0.06</td>\n",
       "    </tr>\n",
       "  </tbody>\n",
       "</table>\n",
       "</div>"
      ],
      "text/plain": [
       "                        Feature   Score\n",
       "1  Tiempo_medio_entre_fallos(h)  248.15\n",
       "7                        Modelo    7.30\n",
       "6                    Fabricante    7.04\n",
       "9   Horas_Recomendadas_Revision    5.31\n",
       "3       Promedio_Vibracion_mm_s    2.78\n",
       "5                   Tipo_Equipo    1.55\n",
       "4     Promedio_Horas_Operativas    0.36\n",
       "0                     Ubicacion    0.24\n",
       "8                   Potencia_kW    0.16\n",
       "2        Promedio_Temperatura_C    0.06"
      ]
     },
     "execution_count": 26,
     "metadata": {},
     "output_type": "execute_result"
    }
   ],
   "source": [
    "# Evaluamos la aportación de cada columna\n",
    "from sklearn.feature_selection import SelectKBest\n",
    "from sklearn.feature_selection import f_classif,chi2\n",
    "\n",
    "X= final_data_coded.drop(target_column, axis=1)\n",
    "y = final_data_coded[target_column]\n",
    "\n",
    "fvalue_selector = SelectKBest(f_classif, k=2)\n",
    "\n",
    "X_kbest = fvalue_selector.fit(X,y)\n",
    "\n",
    "feature_scores = pd.DataFrame({\"Feature\": X.columns,\"Score\": X_kbest.scores_}).sort_values(by=\"Score\", ascending=False)\n",
    "\n",
    "print(headr(\"Feature scores\"))\n",
    "round(feature_scores,2)"
   ]
  },
  {
   "cell_type": "markdown",
   "metadata": {},
   "source": [
    "> Una característica tiene demasiado peso y determina toda la clasificación"
   ]
  },
  {
   "cell_type": "code",
   "execution_count": 27,
   "metadata": {},
   "outputs": [
    {
     "name": "stdout",
     "output_type": "stream",
     "text": [
      "    Ubicacion       Fallo    Tiempo_medio_entre_fallos(h)    Promedio_Temperatura_C    Promedio_Vibracion_mm_s    Promedio_Horas_Operativas  Tipo_Equipo    Fabricante    Modelo      Potencia_kW    Horas_Recomendadas_Revision\n",
      "--  ------------  -------  ------------------------------  ------------------------  -------------------------  ---------------------------  -------------  ------------  --------  -------------  -----------------------------\n",
      " 0  Planta Norte        0                         1220.12                    139.97                       4.31                        41114  Motor          Siemens       M400               4351                           3549\n",
      " 1  Planta Norte        0                          752                        71.11                       3.24                        42929  Transformador  GE            X100               3728                           8016\n",
      " 2  Planta Norte        0                          752                        76.25                       4.83                        41738  Transformador  GE            X100               3728                           8016\n",
      " 3  Planta Norte        0                          752                       137.49                       0.94                        76688  Transformador  GE            X100               3728                           8016\n",
      " 4  Planta Norte        0                          752                        61.59                       0.67                        35992  Transformador  GE            X100               3728                           8016\n",
      "(12729, 11)\n"
     ]
    }
   ],
   "source": [
    "# Eliminamos columnas sin peso\n",
    "\n",
    "columns_to_drop = feature_scores[feature_scores['Score'] == 0]['Feature']\n",
    "final_data.drop(columns=columns_to_drop, inplace=True)\n",
    "tabl(final_data)"
   ]
  },
  {
   "cell_type": "markdown",
   "metadata": {},
   "source": [
    "## Exportar "
   ]
  },
  {
   "cell_type": "code",
   "execution_count": 28,
   "metadata": {},
   "outputs": [],
   "source": [
    "final_data.to_csv('../data/preprocessed/preprocessed_data_v1.csv', index=False)"
   ]
  }
 ],
 "metadata": {
  "kernelspec": {
   "display_name": "Python 3",
   "language": "python",
   "name": "python3"
  },
  "language_info": {
   "codemirror_mode": {
    "name": "ipython",
    "version": 3
   },
   "file_extension": ".py",
   "mimetype": "text/x-python",
   "name": "python",
   "nbconvert_exporter": "python",
   "pygments_lexer": "ipython3",
   "version": "3.12.4"
  }
 },
 "nbformat": 4,
 "nbformat_minor": 2
}
