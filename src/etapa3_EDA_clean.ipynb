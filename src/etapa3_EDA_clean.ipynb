{
 "cells": [
  {
   "cell_type": "markdown",
   "metadata": {},
   "source": [
    "# Solución etapa 3 - EDA + Cleaning"
   ]
  },
  {
   "cell_type": "code",
   "execution_count": 1,
   "metadata": {},
   "outputs": [],
   "source": [
    "from tabulate import tabulate\n",
    "\n",
    "def tabl(df):\n",
    "    print(tabulate(df.head(),headers='keys'))\n",
    "    print(df.shape)"
   ]
  },
  {
   "cell_type": "code",
   "execution_count": 2,
   "metadata": {},
   "outputs": [],
   "source": [
    "# Formato de los prints\n",
    "class color:\n",
    "    PURPLE = '\\033[95m'\n",
    "    CYAN = '\\033[96m'\n",
    "    DARKCYAN = '\\033[36m'\n",
    "    BLUE = '\\033[94m'\n",
    "    GREEN = '\\033[92m'\n",
    "    YELLOW = '\\033[93m'\n",
    "    RED = '\\033[91m'\n",
    "    BOLD = '\\033[1m'\n",
    "    UNDERLINE = '\\033[4m'\n",
    "    END = '\\033[0m'\n",
    "\n",
    "\n",
    "def headr(text):\n",
    "    return ('\\n'+color.UNDERLINE + text + color.END+'\\n')\n",
    "\n",
    "\n",
    "def titl(text):\n",
    "    return ('\\n'+color.BOLD+color.UNDERLINE+color.BLUE + \"** \" + text.upper() + \" **\" + color.END+'\\n')"
   ]
  },
  {
   "cell_type": "code",
   "execution_count": 3,
   "metadata": {},
   "outputs": [],
   "source": [
    "# Cargar los datasets\n",
    "import pandas as pd\n",
    "\n",
    "historicos_ordenes = pd.read_csv('../data/Historicos_Ordenes.csv')\n",
    "registros_condiciones = pd.read_csv('../data/Registros_Condiciones.csv')\n",
    "caracteristicas_equipos = pd.read_csv('../data/Caracteristicas_Equipos.csv')\n"
   ]
  },
  {
   "cell_type": "markdown",
   "metadata": {},
   "source": [
    "## Exploración"
   ]
  },
  {
   "cell_type": "code",
   "execution_count": 4,
   "metadata": {},
   "outputs": [
    {
     "data": {
      "text/html": [
       "<div>\n",
       "<style scoped>\n",
       "    .dataframe tbody tr th:only-of-type {\n",
       "        vertical-align: middle;\n",
       "    }\n",
       "\n",
       "    .dataframe tbody tr th {\n",
       "        vertical-align: top;\n",
       "    }\n",
       "\n",
       "    .dataframe thead th {\n",
       "        text-align: right;\n",
       "    }\n",
       "</style>\n",
       "<table border=\"1\" class=\"dataframe\">\n",
       "  <thead>\n",
       "    <tr style=\"text-align: right;\">\n",
       "      <th></th>\n",
       "      <th>ID_Orden</th>\n",
       "      <th>ID_Equipo</th>\n",
       "      <th>Costo_Mantenimiento</th>\n",
       "      <th>Duracion_Horas</th>\n",
       "    </tr>\n",
       "  </thead>\n",
       "  <tbody>\n",
       "    <tr>\n",
       "      <th>count</th>\n",
       "      <td>10020.00000</td>\n",
       "      <td>10020.000000</td>\n",
       "      <td>9971.000000</td>\n",
       "      <td>10020.000000</td>\n",
       "    </tr>\n",
       "    <tr>\n",
       "      <th>mean</th>\n",
       "      <td>4990.53992</td>\n",
       "      <td>249.282236</td>\n",
       "      <td>5255.820741</td>\n",
       "      <td>23.944910</td>\n",
       "    </tr>\n",
       "    <tr>\n",
       "      <th>std</th>\n",
       "      <td>2892.60031</td>\n",
       "      <td>143.827616</td>\n",
       "      <td>4708.387560</td>\n",
       "      <td>13.583254</td>\n",
       "    </tr>\n",
       "    <tr>\n",
       "      <th>min</th>\n",
       "      <td>1.00000</td>\n",
       "      <td>1.000000</td>\n",
       "      <td>101.510000</td>\n",
       "      <td>1.000000</td>\n",
       "    </tr>\n",
       "    <tr>\n",
       "      <th>25%</th>\n",
       "      <td>2485.75000</td>\n",
       "      <td>125.000000</td>\n",
       "      <td>2564.195000</td>\n",
       "      <td>12.000000</td>\n",
       "    </tr>\n",
       "    <tr>\n",
       "      <th>50%</th>\n",
       "      <td>4990.50000</td>\n",
       "      <td>248.000000</td>\n",
       "      <td>5079.310000</td>\n",
       "      <td>24.000000</td>\n",
       "    </tr>\n",
       "    <tr>\n",
       "      <th>75%</th>\n",
       "      <td>7495.25000</td>\n",
       "      <td>373.250000</td>\n",
       "      <td>7533.415000</td>\n",
       "      <td>36.000000</td>\n",
       "    </tr>\n",
       "    <tr>\n",
       "      <th>max</th>\n",
       "      <td>10000.00000</td>\n",
       "      <td>499.000000</td>\n",
       "      <td>96354.868231</td>\n",
       "      <td>47.000000</td>\n",
       "    </tr>\n",
       "  </tbody>\n",
       "</table>\n",
       "</div>"
      ],
      "text/plain": [
       "          ID_Orden     ID_Equipo  Costo_Mantenimiento  Duracion_Horas\n",
       "count  10020.00000  10020.000000          9971.000000    10020.000000\n",
       "mean    4990.53992    249.282236          5255.820741       23.944910\n",
       "std     2892.60031    143.827616          4708.387560       13.583254\n",
       "min        1.00000      1.000000           101.510000        1.000000\n",
       "25%     2485.75000    125.000000          2564.195000       12.000000\n",
       "50%     4990.50000    248.000000          5079.310000       24.000000\n",
       "75%     7495.25000    373.250000          7533.415000       36.000000\n",
       "max    10000.00000    499.000000         96354.868231       47.000000"
      ]
     },
     "execution_count": 4,
     "metadata": {},
     "output_type": "execute_result"
    }
   ],
   "source": [
    "historicos_ordenes.describe()"
   ]
  },
  {
   "cell_type": "code",
   "execution_count": 5,
   "metadata": {},
   "outputs": [
    {
     "data": {
      "text/html": [
       "<div>\n",
       "<style scoped>\n",
       "    .dataframe tbody tr th:only-of-type {\n",
       "        vertical-align: middle;\n",
       "    }\n",
       "\n",
       "    .dataframe tbody tr th {\n",
       "        vertical-align: top;\n",
       "    }\n",
       "\n",
       "    .dataframe thead th {\n",
       "        text-align: right;\n",
       "    }\n",
       "</style>\n",
       "<table border=\"1\" class=\"dataframe\">\n",
       "  <thead>\n",
       "    <tr style=\"text-align: right;\">\n",
       "      <th></th>\n",
       "      <th>ID_Registro</th>\n",
       "      <th>ID_Equipo</th>\n",
       "      <th>Temperatura_C</th>\n",
       "      <th>Vibracion_mm_s</th>\n",
       "      <th>Horas_Operativas</th>\n",
       "    </tr>\n",
       "  </thead>\n",
       "  <tbody>\n",
       "    <tr>\n",
       "      <th>count</th>\n",
       "      <td>9000.000000</td>\n",
       "      <td>9000.000000</td>\n",
       "      <td>9000.000000</td>\n",
       "      <td>9000.000000</td>\n",
       "      <td>8960.000000</td>\n",
       "    </tr>\n",
       "    <tr>\n",
       "      <th>mean</th>\n",
       "      <td>4500.500000</td>\n",
       "      <td>248.968444</td>\n",
       "      <td>102.645101</td>\n",
       "      <td>2.761182</td>\n",
       "      <td>50058.926674</td>\n",
       "    </tr>\n",
       "    <tr>\n",
       "      <th>std</th>\n",
       "      <td>2598.220545</td>\n",
       "      <td>144.256714</td>\n",
       "      <td>59.343693</td>\n",
       "      <td>4.093956</td>\n",
       "      <td>28874.204890</td>\n",
       "    </tr>\n",
       "    <tr>\n",
       "      <th>min</th>\n",
       "      <td>1.000000</td>\n",
       "      <td>1.000000</td>\n",
       "      <td>50.060000</td>\n",
       "      <td>0.100000</td>\n",
       "      <td>46.000000</td>\n",
       "    </tr>\n",
       "    <tr>\n",
       "      <th>25%</th>\n",
       "      <td>2250.750000</td>\n",
       "      <td>124.000000</td>\n",
       "      <td>74.420000</td>\n",
       "      <td>1.320000</td>\n",
       "      <td>24937.500000</td>\n",
       "    </tr>\n",
       "    <tr>\n",
       "      <th>50%</th>\n",
       "      <td>4500.500000</td>\n",
       "      <td>247.000000</td>\n",
       "      <td>99.605000</td>\n",
       "      <td>2.560000</td>\n",
       "      <td>50237.000000</td>\n",
       "    </tr>\n",
       "    <tr>\n",
       "      <th>75%</th>\n",
       "      <td>6750.250000</td>\n",
       "      <td>375.000000</td>\n",
       "      <td>125.285000</td>\n",
       "      <td>3.830000</td>\n",
       "      <td>75240.250000</td>\n",
       "    </tr>\n",
       "    <tr>\n",
       "      <th>max</th>\n",
       "      <td>9000.000000</td>\n",
       "      <td>499.000000</td>\n",
       "      <td>999.000000</td>\n",
       "      <td>95.285333</td>\n",
       "      <td>99991.000000</td>\n",
       "    </tr>\n",
       "  </tbody>\n",
       "</table>\n",
       "</div>"
      ],
      "text/plain": [
       "       ID_Registro    ID_Equipo  Temperatura_C  Vibracion_mm_s  \\\n",
       "count  9000.000000  9000.000000    9000.000000     9000.000000   \n",
       "mean   4500.500000   248.968444     102.645101        2.761182   \n",
       "std    2598.220545   144.256714      59.343693        4.093956   \n",
       "min       1.000000     1.000000      50.060000        0.100000   \n",
       "25%    2250.750000   124.000000      74.420000        1.320000   \n",
       "50%    4500.500000   247.000000      99.605000        2.560000   \n",
       "75%    6750.250000   375.000000     125.285000        3.830000   \n",
       "max    9000.000000   499.000000     999.000000       95.285333   \n",
       "\n",
       "       Horas_Operativas  \n",
       "count       8960.000000  \n",
       "mean       50058.926674  \n",
       "std        28874.204890  \n",
       "min           46.000000  \n",
       "25%        24937.500000  \n",
       "50%        50237.000000  \n",
       "75%        75240.250000  \n",
       "max        99991.000000  "
      ]
     },
     "execution_count": 5,
     "metadata": {},
     "output_type": "execute_result"
    }
   ],
   "source": [
    "registros_condiciones.describe()"
   ]
  },
  {
   "cell_type": "code",
   "execution_count": 6,
   "metadata": {},
   "outputs": [
    {
     "data": {
      "text/html": [
       "<div>\n",
       "<style scoped>\n",
       "    .dataframe tbody tr th:only-of-type {\n",
       "        vertical-align: middle;\n",
       "    }\n",
       "\n",
       "    .dataframe tbody tr th {\n",
       "        vertical-align: top;\n",
       "    }\n",
       "\n",
       "    .dataframe thead th {\n",
       "        text-align: right;\n",
       "    }\n",
       "</style>\n",
       "<table border=\"1\" class=\"dataframe\">\n",
       "  <thead>\n",
       "    <tr style=\"text-align: right;\">\n",
       "      <th></th>\n",
       "      <th>ID_Equipo</th>\n",
       "      <th>Potencia_kW</th>\n",
       "      <th>Horas_Recomendadas_Revision</th>\n",
       "    </tr>\n",
       "  </thead>\n",
       "  <tbody>\n",
       "    <tr>\n",
       "      <th>count</th>\n",
       "      <td>505.000000</td>\n",
       "      <td>505.000000</td>\n",
       "      <td>505.000000</td>\n",
       "    </tr>\n",
       "    <tr>\n",
       "      <th>mean</th>\n",
       "      <td>248.049505</td>\n",
       "      <td>4673.451508</td>\n",
       "      <td>5283.118812</td>\n",
       "    </tr>\n",
       "    <tr>\n",
       "      <th>std</th>\n",
       "      <td>145.841046</td>\n",
       "      <td>13039.374800</td>\n",
       "      <td>2729.385909</td>\n",
       "    </tr>\n",
       "    <tr>\n",
       "      <th>min</th>\n",
       "      <td>1.000000</td>\n",
       "      <td>-100.000000</td>\n",
       "      <td>509.000000</td>\n",
       "    </tr>\n",
       "    <tr>\n",
       "      <th>25%</th>\n",
       "      <td>122.000000</td>\n",
       "      <td>1206.000000</td>\n",
       "      <td>2922.000000</td>\n",
       "    </tr>\n",
       "    <tr>\n",
       "      <th>50%</th>\n",
       "      <td>248.000000</td>\n",
       "      <td>2505.000000</td>\n",
       "      <td>5243.000000</td>\n",
       "    </tr>\n",
       "    <tr>\n",
       "      <th>75%</th>\n",
       "      <td>374.000000</td>\n",
       "      <td>3902.000000</td>\n",
       "      <td>7685.000000</td>\n",
       "    </tr>\n",
       "    <tr>\n",
       "      <th>max</th>\n",
       "      <td>500.000000</td>\n",
       "      <td>94117.691449</td>\n",
       "      <td>9988.000000</td>\n",
       "    </tr>\n",
       "  </tbody>\n",
       "</table>\n",
       "</div>"
      ],
      "text/plain": [
       "        ID_Equipo   Potencia_kW  Horas_Recomendadas_Revision\n",
       "count  505.000000    505.000000                   505.000000\n",
       "mean   248.049505   4673.451508                  5283.118812\n",
       "std    145.841046  13039.374800                  2729.385909\n",
       "min      1.000000   -100.000000                   509.000000\n",
       "25%    122.000000   1206.000000                  2922.000000\n",
       "50%    248.000000   2505.000000                  5243.000000\n",
       "75%    374.000000   3902.000000                  7685.000000\n",
       "max    500.000000  94117.691449                  9988.000000"
      ]
     },
     "execution_count": 6,
     "metadata": {},
     "output_type": "execute_result"
    }
   ],
   "source": [
    "caracteristicas_equipos.describe()"
   ]
  },
  {
   "cell_type": "code",
   "execution_count": 7,
   "metadata": {},
   "outputs": [],
   "source": [
    "# historicos_ordenes\n",
    "\n",
    "from ydata_profiling import ProfileReport\n",
    "\n",
    "# profile = ProfileReport(historicos_ordenes, title=\"Historico Profiling Report\",\n",
    "#                         correlations={\n",
    "#                             \"pearson\": {\"calculate\": True},\n",
    "#                             \"cramers\": {\"calculate\": True},\n",
    "#                         })"
   ]
  },
  {
   "cell_type": "code",
   "execution_count": 8,
   "metadata": {},
   "outputs": [],
   "source": [
    "# profile.to_notebook_iframe()"
   ]
  },
  {
   "cell_type": "code",
   "execution_count": 9,
   "metadata": {},
   "outputs": [],
   "source": [
    "# caracteristicas_equipos\n",
    "\n",
    "# profile = ProfileReport(caracteristicas_equipos, title=\"caracteristicas_equipos Profiling Report\",\n",
    "#                         correlations={\n",
    "#                             \"pearson\": {\"calculate\": True},\n",
    "#                             \"cramers\": {\"calculate\": True},\n",
    "#                         })"
   ]
  },
  {
   "cell_type": "code",
   "execution_count": 10,
   "metadata": {},
   "outputs": [],
   "source": [
    "# profile.to_notebook_iframe()"
   ]
  },
  {
   "cell_type": "code",
   "execution_count": 11,
   "metadata": {},
   "outputs": [],
   "source": [
    "# registros_condiciones\n",
    "\n",
    "# profile = ProfileReport(registros_condiciones, title=\"registros_condiciones Profiling Report\",\n",
    "#                         correlations={\n",
    "#                             \"pearson\": {\"calculate\": True},\n",
    "#                             \"cramers\": {\"calculate\": True},\n",
    "#                         })"
   ]
  },
  {
   "cell_type": "code",
   "execution_count": 12,
   "metadata": {},
   "outputs": [],
   "source": [
    "# profile.to_notebook_iframe()"
   ]
  },
  {
   "cell_type": "code",
   "execution_count": 13,
   "metadata": {},
   "outputs": [
    {
     "name": "stdout",
     "output_type": "stream",
     "text": [
      "historicos_ordenes: (10020, 7)\n",
      "registros_condiciones: (9000, 6)\n",
      "caracteristicas_equipos: (505, 6)\n"
     ]
    }
   ],
   "source": [
    "print('historicos_ordenes:',historicos_ordenes.shape)\n",
    "print('registros_condiciones:',registros_condiciones.shape)\n",
    "print('caracteristicas_equipos:',caracteristicas_equipos.shape)"
   ]
  },
  {
   "cell_type": "markdown",
   "metadata": {},
   "source": [
    "## Limpiar"
   ]
  },
  {
   "cell_type": "code",
   "execution_count": 14,
   "metadata": {},
   "outputs": [],
   "source": [
    "# hacemo copia\n",
    "historicos_ordenes_cleaned = historicos_ordenes.copy()\n",
    "registros_condiciones_cleaned = registros_condiciones.copy()\n",
    "caracteristicas_equipos_cleaned = caracteristicas_equipos.copy()"
   ]
  },
  {
   "cell_type": "markdown",
   "metadata": {},
   "source": [
    "### Nulos"
   ]
  },
  {
   "cell_type": "code",
   "execution_count": 15,
   "metadata": {},
   "outputs": [
    {
     "name": "stdout",
     "output_type": "stream",
     "text": [
      "\n",
      "\u001b[1m\u001b[4m\u001b[94m** VALORES NULOS **\u001b[0m\n",
      "\n",
      "\n",
      "\u001b[4mhistoricos_ordenes:\u001b[0m\n",
      " ID_Orden                0\n",
      "ID_Equipo               0\n",
      "Fecha                   0\n",
      "Tipo_Mantenimiento      0\n",
      "Costo_Mantenimiento    49\n",
      "Duracion_Horas          0\n",
      "Ubicacion               0\n",
      "dtype: int64\n",
      "\n",
      "\u001b[4mregistros_condiciones:\u001b[0m\n",
      " ID_Registro          0\n",
      "ID_Equipo            0\n",
      "Fecha                0\n",
      "Temperatura_C        0\n",
      "Vibracion_mm_s       0\n",
      "Horas_Operativas    40\n",
      "dtype: int64\n",
      "\n",
      "\u001b[4mcaracteristicas_equipos:\u001b[0m\n",
      " ID_Equipo                      0\n",
      "Tipo_Equipo                    0\n",
      "Fabricante                     0\n",
      "Modelo                         0\n",
      "Potencia_kW                    0\n",
      "Horas_Recomendadas_Revision    0\n",
      "dtype: int64\n"
     ]
    }
   ],
   "source": [
    "# Verificar valores nulos\n",
    "print(titl(\"Valores nulos\"))\n",
    "\n",
    "print(headr('historicos_ordenes:'),historicos_ordenes_cleaned.isnull().sum())\n",
    "print(headr('registros_condiciones:'),registros_condiciones_cleaned.isnull().sum())\n",
    "print(headr('caracteristicas_equipos:'),caracteristicas_equipos_cleaned.isnull().sum())"
   ]
  },
  {
   "cell_type": "code",
   "execution_count": 16,
   "metadata": {},
   "outputs": [],
   "source": [
    "# Manejo de valores nulos\n",
    "historicos_ordenes_cleaned.dropna(subset=['Costo_Mantenimiento'], inplace=True)  # Ejemplo de imputación\n",
    "registros_condiciones_cleaned.dropna(subset=['Temperatura_C', 'Vibracion_mm_s'], inplace=True)  # Eliminar registros con valores faltantes críticos"
   ]
  },
  {
   "cell_type": "code",
   "execution_count": 17,
   "metadata": {},
   "outputs": [
    {
     "name": "stdout",
     "output_type": "stream",
     "text": [
      "\n",
      "\u001b[1m\u001b[4m\u001b[94m** VALORES NULOS AFTER: **\u001b[0m\n",
      "\n",
      "\n",
      "\u001b[4mhistoricos_ordenes:\u001b[0m\n",
      " ID_Orden               0\n",
      "ID_Equipo              0\n",
      "Fecha                  0\n",
      "Tipo_Mantenimiento     0\n",
      "Costo_Mantenimiento    0\n",
      "Duracion_Horas         0\n",
      "Ubicacion              0\n",
      "dtype: int64\n",
      "\n",
      "\u001b[4mregistros_condiciones:\u001b[0m\n",
      " ID_Registro          0\n",
      "ID_Equipo            0\n",
      "Fecha                0\n",
      "Temperatura_C        0\n",
      "Vibracion_mm_s       0\n",
      "Horas_Operativas    40\n",
      "dtype: int64\n",
      "\n",
      "\u001b[4mcaracteristicas_equipos:\u001b[0m\n",
      " ID_Equipo                      0\n",
      "Tipo_Equipo                    0\n",
      "Fabricante                     0\n",
      "Modelo                         0\n",
      "Potencia_kW                    0\n",
      "Horas_Recomendadas_Revision    0\n",
      "dtype: int64\n"
     ]
    }
   ],
   "source": [
    "print(titl(\"Valores nulos after:\"))\n",
    "\n",
    "print(headr('historicos_ordenes:'),historicos_ordenes_cleaned.isnull().sum())\n",
    "print(headr('registros_condiciones:'),registros_condiciones_cleaned.isnull().sum())\n",
    "print(headr('caracteristicas_equipos:'),caracteristicas_equipos_cleaned.isnull().sum())"
   ]
  },
  {
   "cell_type": "markdown",
   "metadata": {},
   "source": [
    "### Duplicados"
   ]
  },
  {
   "cell_type": "code",
   "execution_count": 18,
   "metadata": {},
   "outputs": [
    {
     "name": "stdout",
     "output_type": "stream",
     "text": [
      "\n",
      "\u001b[1m\u001b[4m\u001b[94m** DUPLICADOS **\u001b[0m\n",
      "\n",
      "\n",
      "\u001b[4mhistoricos_ordenes:\u001b[0m\n",
      " 20\n",
      "\n",
      "\u001b[4mregistros_condiciones:\u001b[0m\n",
      " 0\n",
      "\n",
      "\u001b[4mcaracteristicas_equipos:\u001b[0m\n",
      " 5\n"
     ]
    }
   ],
   "source": [
    "# Eliminar duplicados\n",
    "print(titl(\"Duplicados\"))\n",
    "\n",
    "print(headr('historicos_ordenes:'),historicos_ordenes_cleaned.duplicated().sum())\n",
    "print(headr('registros_condiciones:'),registros_condiciones_cleaned.duplicated().sum())\n",
    "print(headr('caracteristicas_equipos:'),caracteristicas_equipos_cleaned.duplicated().sum())\n"
   ]
  },
  {
   "cell_type": "code",
   "execution_count": 19,
   "metadata": {},
   "outputs": [],
   "source": [
    "# Eliminar duplicados\n",
    "historicos_ordenes_cleaned.drop_duplicates(inplace=True)\n",
    "registros_condiciones_cleaned.drop_duplicates(inplace=True)\n",
    "caracteristicas_equipos_cleaned.drop_duplicates(inplace=True)\n"
   ]
  },
  {
   "cell_type": "code",
   "execution_count": 20,
   "metadata": {},
   "outputs": [
    {
     "name": "stdout",
     "output_type": "stream",
     "text": [
      "\n",
      "\u001b[1m\u001b[4m\u001b[94m** DUPLICADOS DESPUÉS **\u001b[0m\n",
      "\n",
      "\n",
      "\u001b[4mhistoricos_ordenes:\u001b[0m\n",
      " 0\n",
      "\n",
      "\u001b[4mregistros_condiciones:\u001b[0m\n",
      " 0\n",
      "\n",
      "\u001b[4mcaracteristicas_equipos:\u001b[0m\n",
      " 0\n"
     ]
    }
   ],
   "source": [
    "# Eliminar duplicados\n",
    "print(titl(\"Duplicados después\"))\n",
    "\n",
    "print(headr('historicos_ordenes:'),historicos_ordenes_cleaned.duplicated().sum())\n",
    "print(headr('registros_condiciones:'),registros_condiciones_cleaned.duplicated().sum())\n",
    "print(headr('caracteristicas_equipos:'),caracteristicas_equipos_cleaned.duplicated().sum())\n"
   ]
  },
  {
   "cell_type": "markdown",
   "metadata": {},
   "source": [
    "### Outliers"
   ]
  },
  {
   "cell_type": "code",
   "execution_count": 21,
   "metadata": {},
   "outputs": [],
   "source": [
    "# Detectar y manejar outliers (ejemplo para temperatura)\n",
    "\n",
    "# Extraer columnas numéricas y categóricas\n",
    "from sklearn.compose import make_column_selector as selector\n",
    "\n",
    "def extract_numerical_and_categorical(df):\n",
    "    numerical_columns_selector = selector(dtype_exclude=object)\n",
    "    categorical_columns_selector = selector(dtype_include=object)\n",
    "\n",
    "    numerical_columns = numerical_columns_selector(df)\n",
    "    categorical_columns = categorical_columns_selector(df)\n",
    "\n",
    "    return numerical_columns, categorical_columns\n"
   ]
  },
  {
   "cell_type": "code",
   "execution_count": 22,
   "metadata": {},
   "outputs": [
    {
     "name": "stdout",
     "output_type": "stream",
     "text": [
      "\n",
      "\u001b[4mh_num, h_cat\u001b[0m\n",
      " ['ID_Orden', 'ID_Equipo', 'Costo_Mantenimiento', 'Duracion_Horas'] ['Fecha', 'Tipo_Mantenimiento', 'Ubicacion']\n",
      "\n",
      "\u001b[4mr_num, r_cat\u001b[0m\n",
      " ['ID_Registro', 'ID_Equipo', 'Temperatura_C', 'Vibracion_mm_s', 'Horas_Operativas'] ['Fecha']\n",
      "\n",
      "\u001b[4mc_num, c_cat\u001b[0m\n",
      " ['ID_Equipo', 'Potencia_kW', 'Horas_Recomendadas_Revision'] ['Tipo_Equipo', 'Fabricante', 'Modelo']\n"
     ]
    }
   ],
   "source": [
    "h_num, h_cat = extract_numerical_and_categorical(historicos_ordenes_cleaned)\n",
    "print(headr(\"h_num, h_cat\"),h_num, h_cat)\n",
    "r_num, r_cat = extract_numerical_and_categorical(registros_condiciones_cleaned)\n",
    "print(headr(\"r_num, r_cat\"),r_num, r_cat)\n",
    "c_num, c_cat = extract_numerical_and_categorical(caracteristicas_equipos_cleaned)\n",
    "print(headr(\"c_num, c_cat\"),c_num, c_cat)"
   ]
  },
  {
   "cell_type": "code",
   "execution_count": 23,
   "metadata": {},
   "outputs": [],
   "source": [
    "# identificación\n",
    "def identif_outliers(df, num_cols):\n",
    "    IQR = df[num_cols].quantile(0.75) - df[num_cols].quantile(0.25)\n",
    "    lower_bound = df[num_cols].quantile(0.25) - (IQR * 3)\n",
    "    upper_bound = df[num_cols].quantile(0.75) + (IQR * 3)\n",
    "\n",
    "    outliers = df[num_cols][(df[num_cols] < lower_bound) | (df[num_cols] > upper_bound)]\n",
    "\n",
    "    # columnas con outliers\n",
    "    columns_with_outliers = outliers.columns[outliers.count() > 0]\n",
    "    columns_with_outliers\n",
    "\n",
    "    return outliers.count(), columns_with_outliers, lower_bound, upper_bound"
   ]
  },
  {
   "cell_type": "code",
   "execution_count": 24,
   "metadata": {},
   "outputs": [
    {
     "name": "stdout",
     "output_type": "stream",
     "text": [
      "\n",
      "\u001b[4mh_num_out:\u001b[0m\n",
      " ID_Orden                0\n",
      "ID_Equipo               0\n",
      "Costo_Mantenimiento    30\n",
      "Duracion_Horas          0\n",
      "dtype: int64\n",
      "\n",
      "\u001b[4mr_num_out:\u001b[0m\n",
      " ID_Registro          0\n",
      "ID_Equipo            0\n",
      "Temperatura_C       30\n",
      "Vibracion_mm_s      25\n",
      "Horas_Operativas     0\n",
      "dtype: int64\n",
      "\n",
      "\u001b[4mc_num_out:\u001b[0m\n",
      " ID_Equipo                       0\n",
      "Potencia_kW                    15\n",
      "Horas_Recomendadas_Revision     0\n",
      "dtype: int64\n"
     ]
    }
   ],
   "source": [
    "h_nout, h_col_out, h_low, h_upp = identif_outliers(historicos_ordenes_cleaned, h_num)\n",
    "print(headr(\"h_num_out:\"),h_nout)\n",
    "\n",
    "r_nout, r_col_out, r_low, r_upp = identif_outliers(registros_condiciones_cleaned, r_num)\n",
    "print(headr(\"r_num_out:\"),r_nout)\n",
    "\n",
    "c_nout, c_col_out, c_low, c_upp = identif_outliers(caracteristicas_equipos_cleaned, c_num)\n",
    "print(headr(\"c_num_out:\"),c_nout)"
   ]
  },
  {
   "cell_type": "code",
   "execution_count": 25,
   "metadata": {},
   "outputs": [],
   "source": [
    "# Función para winsorizar una columna\n",
    "def winsorize_column(column, lower_bound, upper_bound):\n",
    "    return column.clip(lower=lower_bound, upper=upper_bound)"
   ]
  },
  {
   "cell_type": "code",
   "execution_count": 26,
   "metadata": {},
   "outputs": [],
   "source": [
    "# procesamos todas las comumnas con outliers\n",
    "for col_name in h_col_out:\n",
    "    historicos_ordenes_cleaned[col_name] = winsorize_column(historicos_ordenes_cleaned[col_name], h_low[col_name], h_upp[col_name])\n",
    "\n",
    "for col_name in r_col_out:\n",
    "    registros_condiciones_cleaned[col_name] = winsorize_column(registros_condiciones_cleaned[col_name], r_low[col_name], r_upp[col_name])\n",
    "\n",
    "for col_name in c_col_out:\n",
    "    caracteristicas_equipos_cleaned[col_name] = winsorize_column(caracteristicas_equipos_cleaned[col_name], c_low[col_name], c_upp[col_name])\n"
   ]
  },
  {
   "cell_type": "code",
   "execution_count": 27,
   "metadata": {},
   "outputs": [
    {
     "name": "stdout",
     "output_type": "stream",
     "text": [
      "\n",
      "\u001b[4mh_num_out:\u001b[0m\n",
      " ID_Orden               0\n",
      "ID_Equipo              0\n",
      "Costo_Mantenimiento    0\n",
      "Duracion_Horas         0\n",
      "dtype: int64\n",
      "\n",
      "\u001b[4mr_num_out:\u001b[0m\n",
      " ID_Registro         0\n",
      "ID_Equipo           0\n",
      "Temperatura_C       0\n",
      "Vibracion_mm_s      0\n",
      "Horas_Operativas    0\n",
      "dtype: int64\n",
      "\n",
      "\u001b[4mc_num_out:\u001b[0m\n",
      " ID_Equipo                      0\n",
      "Potencia_kW                    0\n",
      "Horas_Recomendadas_Revision    0\n",
      "dtype: int64\n"
     ]
    }
   ],
   "source": [
    "h_nout, h_col_out, h_low, h_upp = identif_outliers(historicos_ordenes_cleaned, h_num)\n",
    "print(headr(\"h_num_out:\"),h_nout)\n",
    "\n",
    "r_nout, r_col_out, r_low, r_upp = identif_outliers(registros_condiciones_cleaned, r_num)\n",
    "print(headr(\"r_num_out:\"),r_nout)\n",
    "\n",
    "c_nout, c_col_out, c_low, c_upp = identif_outliers(caracteristicas_equipos_cleaned, c_num)\n",
    "print(headr(\"c_num_out:\"),c_nout)"
   ]
  },
  {
   "cell_type": "markdown",
   "metadata": {},
   "source": [
    "## Guardar estado"
   ]
  },
  {
   "cell_type": "code",
   "execution_count": 28,
   "metadata": {},
   "outputs": [],
   "source": [
    "historicos_ordenes_cleaned.to_csv('../data/historicos_ordenes_cleaned.csv', index=False)\n",
    "registros_condiciones_cleaned.to_csv('../data/registros_condiciones_cleaned.csv', index=False)\n",
    "caracteristicas_equipos_cleaned.to_csv('../data/caracteristicas_equipos_cleaned.csv', index=False)"
   ]
  }
 ],
 "metadata": {
  "kernelspec": {
   "display_name": "Python 3",
   "language": "python",
   "name": "python3"
  },
  "language_info": {
   "codemirror_mode": {
    "name": "ipython",
    "version": 3
   },
   "file_extension": ".py",
   "mimetype": "text/x-python",
   "name": "python",
   "nbconvert_exporter": "python",
   "pygments_lexer": "ipython3",
   "version": "3.12.4"
  }
 },
 "nbformat": 4,
 "nbformat_minor": 2
}
