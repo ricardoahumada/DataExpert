{
 "cells": [
  {
   "cell_type": "markdown",
   "metadata": {},
   "source": [
    "# Solución etapa 4 - Training - Predict v2"
   ]
  },
  {
   "cell_type": "code",
   "execution_count": null,
   "metadata": {},
   "outputs": [],
   "source": [
    "# Utilidades para print\n",
    "from utils.print_utils import tabl, headr, titl\n",
    "from utils.explore_utils import explr"
   ]
  },
  {
   "cell_type": "code",
   "execution_count": null,
   "metadata": {},
   "outputs": [],
   "source": [
    "# Importar librerías necesarias\n",
    "import pandas as pd\n",
    "import numpy as np\n",
    "import matplotlib.pyplot as plt\n",
    "\n",
    "from sklearn.linear_model import LinearRegression, Ridge, Lasso\n",
    "from sklearn.ensemble import RandomForestRegressor\n",
    "from sklearn.metrics import mean_squared_error\n",
    "from sklearn.preprocessing import StandardScaler\n",
    "\n",
    "from skforecast.recursive import ForecasterRecursive\n",
    "from skforecast.direct import ForecasterDirect\n",
    "\n",
    "from skforecast.model_selection import backtesting_forecaster\n",
    "from skforecast.datasets import fetch_dataset\n",
    "from skforecast.model_selection import TimeSeriesFold\n",
    "from skforecast.model_selection import grid_search_forecaster\n"
   ]
  },
  {
   "cell_type": "code",
   "execution_count": null,
   "metadata": {},
   "outputs": [],
   "source": [
    "version_to_load='v1'"
   ]
  },
  {
   "cell_type": "code",
   "execution_count": null,
   "metadata": {},
   "outputs": [],
   "source": [
    "# Cargar el dataset\n",
    "csv_path = f'../data/preprocessed/preprocessed_data_{version_to_load}.csv'\n",
    "print('... Loading:', csv_path,'...')\n",
    "final_data = pd.read_csv(csv_path)\n",
    "\n",
    "tabl(final_data)"
   ]
  },
  {
   "cell_type": "code",
   "execution_count": null,
   "metadata": {},
   "outputs": [],
   "source": [
    "final_data.info()"
   ]
  },
  {
   "cell_type": "code",
   "execution_count": null,
   "metadata": {},
   "outputs": [],
   "source": [
    "target_column = 'Horas_Operativas'"
   ]
  },
  {
   "cell_type": "code",
   "execution_count": null,
   "metadata": {},
   "outputs": [],
   "source": [
    "# Steps de predicción\n",
    "steps = 15"
   ]
  },
  {
   "cell_type": "markdown",
   "metadata": {},
   "source": [
    "## Funciones procesado"
   ]
  },
  {
   "cell_type": "code",
   "execution_count": null,
   "metadata": {},
   "outputs": [],
   "source": [
    "# Preparar el dataset\n",
    "\n",
    "def prep_equipo(equipo):\n",
    "    equipo.drop(columns=['ID_Equipo','Tipo_Equipo','Modelo','Potencia_kW','Horas_Recomendadas_Revision','Fabricante'], inplace=True)\n",
    "\n",
    "    equipo['Fecha'] = pd.to_datetime(equipo['Fecha'], format='%Y-%m-%d')\n",
    "\n",
    "    # fecha como índice\n",
    "    equipo = equipo.set_index('Fecha')\n",
    "\n",
    "    # Eliminar índices duplicados (mantener el primero)\n",
    "    equipo_clean = equipo[~equipo.index.duplicated(keep='first')]\n",
    "    equipo_clean[equipo_clean.index.duplicated()]\n",
    "\n",
    "    # Convierte Timeseries a frecuencia especificada.\n",
    "    equipo_fq = equipo_clean.asfreq('D', fill_value=0)\n",
    "\n",
    "    # print(equipo_fq.info())\n",
    "\n",
    "    return equipo_fq\n"
   ]
  },
  {
   "cell_type": "code",
   "execution_count": null,
   "metadata": {},
   "outputs": [],
   "source": [
    "# Separación datos train-test\n",
    "\n",
    "def sep_train_test(equipo_fq, doPlot=True):\n",
    "    steps = 15\n",
    "    datos_train = equipo_fq[:-steps]\n",
    "    datos_test  = equipo_fq[-steps:]\n",
    "    # print(f\"Fechas train : {datos_train.index.min()} --- {datos_train.index.max()}  (n={len(datos_train)})\")\n",
    "    # print(f\"Fechas test  : {datos_test.index.min()} --- {datos_test.index.max()}  (n={len(datos_test)})\")\n",
    "\n",
    "    if(doPlot):\n",
    "        fig, ax = plt.subplots(figsize=(16, 5))\n",
    "        datos_train['Horas_Operativas'].plot(ax=ax, label='train')\n",
    "        datos_test['Horas_Operativas'].plot(ax=ax, label='test')\n",
    "        ax.legend()\n",
    "\n",
    "    return datos_train, datos_test"
   ]
  },
  {
   "cell_type": "code",
   "execution_count": null,
   "metadata": {},
   "outputs": [],
   "source": [
    "# Búsqueda de hiperparámetros: grid search\n",
    "\n",
    "def search_best_forecaster(steps, lags_grid, param_grid, datos_train, exogs_train, target_column):\n",
    "    forecaster = ForecasterRecursive(\n",
    "        regressor=Ridge(random_state=123),\n",
    "        transformer_y=StandardScaler(),\n",
    "        lags=30\n",
    "    )\n",
    "\n",
    "    # Particiones de entrenamiento y validación\n",
    "    cv = TimeSeriesFold(\n",
    "        steps=steps,\n",
    "        initial_train_size=int(len(datos_train) * 0.5),\n",
    "        refit=False,\n",
    "        fixed_train_size=False,\n",
    "    )\n",
    "\n",
    "    resultados_grid = grid_search_forecaster(\n",
    "        forecaster=forecaster,\n",
    "        y=datos_train[target_column],\n",
    "        cv=cv,\n",
    "        param_grid=param_grid,\n",
    "        lags_grid=lags_grid,\n",
    "        metric='mean_squared_error',\n",
    "        return_best=True,\n",
    "        n_jobs='auto',\n",
    "        verbose=False,\n",
    "        exog=exogs_train,\n",
    "    )\n",
    "\n",
    "    # Resultados de la búsqueda de hiperparámetros\n",
    "    bestfc = resultados_grid.loc[0]\n",
    "\n",
    "    return bestfc"
   ]
  },
  {
   "cell_type": "code",
   "execution_count": null,
   "metadata": {},
   "outputs": [],
   "source": [
    "# Generar modelo final\n",
    "\n",
    "def gen_finalModel(steps, best_lags, best_params, datos_train, exogs_train, target_column):\n",
    "    # Crear y entrenar forecaster final\n",
    "    forecaster = ForecasterRecursive(\n",
    "        regressor=Ridge(alpha=best_params['alpha'], random_state=123),\n",
    "        transformer_y=StandardScaler(),\n",
    "        lags=best_lags\n",
    "    )\n",
    "\n",
    "    forecaster.fit(y=datos_train[target_column], exog=exogs_train)\n",
    "\n",
    "    return forecaster"
   ]
  },
  {
   "cell_type": "code",
   "execution_count": 24,
   "metadata": {},
   "outputs": [],
   "source": [
    "# Evaluar error\n",
    "\n",
    "def get_error(target_column, predicciones, equipo_fq, datos_test):\n",
    "    # Error test\n",
    "    error_mse = mean_squared_error(\n",
    "        y_true=datos_test[target_column],\n",
    "        y_pred=predicciones\n",
    "    )\n",
    "\n",
    "    data_var = equipo_fq[target_column].var()\n",
    "\n",
    "    mse2var = round(error_mse/data_var*100, 2)\n",
    "\n",
    "    print(f\"Error de test (mse): {error_mse}\")\n",
    "    print(f\"Varianza datos: {data_var}\")\n",
    "    print(f\"mse2var: {mse2var}%\")\n",
    "\n",
    "    return mse2var"
   ]
  },
  {
   "cell_type": "markdown",
   "metadata": {},
   "source": [
    "## Un equipo"
   ]
  },
  {
   "cell_type": "code",
   "execution_count": null,
   "metadata": {},
   "outputs": [],
   "source": [
    "eq = 1"
   ]
  },
  {
   "cell_type": "code",
   "execution_count": null,
   "metadata": {},
   "outputs": [],
   "source": [
    "# Filtrar el df del equipo\n",
    "equipo = final_data[final_data['ID_Equipo'] == eq].copy()\n",
    "\n",
    "# Preparar el dataset para el equipo seleccionado\n",
    "equipo_fq = prep_equipo(equipo)"
   ]
  },
  {
   "cell_type": "code",
   "execution_count": null,
   "metadata": {},
   "outputs": [],
   "source": [
    "# Obtener datos train y test\n",
    "datos_train, datos_test = sep_train_test(equipo_fq)"
   ]
  },
  {
   "cell_type": "code",
   "execution_count": null,
   "metadata": {},
   "outputs": [],
   "source": [
    "# Valores candidatos de lags\n",
    "lags_grid = [10, 50, 100, 150]\n",
    "\n",
    "# Valores candidatos de hiperparámetros del regresor\n",
    "param_grid = {\n",
    "    'alpha': [0.1, 1, 10, 100],\n",
    "}\n",
    "\n",
    "# Exógenos para el modelo\n",
    "exogs_train = datos_train.drop(columns=target_column)\n",
    "exogs_test = datos_test.drop(columns=target_column)"
   ]
  },
  {
   "cell_type": "code",
   "execution_count": null,
   "metadata": {},
   "outputs": [],
   "source": [
    "# Búsqueda de hiperparámetros\n",
    "bestfc = search_best_forecaster(steps, lags_grid, param_grid, datos_train, exogs_train, target_column)\n",
    "best_lags = len(bestfc.lags)\n",
    "best_params = bestfc.params\n",
    "\n",
    "print(best_lags, best_params)"
   ]
  },
  {
   "cell_type": "code",
   "execution_count": null,
   "metadata": {},
   "outputs": [],
   "source": [
    "# modelo final\n",
    "final_model = gen_finalModel(steps, best_lags, best_params, datos_train, exogs_train, target_column)\n",
    "\n",
    "# Predicciones\n",
    "predicciones = final_model.predict(steps=steps, exog=exogs_test)\n",
    "\n",
    "# # Gráfico de predicciones vs valores reales\n",
    "# fig, ax = plt.subplots(figsize=(16, 5))\n",
    "# datos_train['Horas_Operativas'].plot(ax=ax, label='train')\n",
    "# datos_test['Horas_Operativas'].plot(ax=ax, label='test')\n",
    "# predicciones.plot(ax=ax, label='predicciones', color=\"red\")\n",
    "# ax.legend()\n",
    "\n",
    "# Error test\n",
    "get_error(target_column, predicciones, equipo_fq, datos_test)"
   ]
  },
  {
   "cell_type": "markdown",
   "metadata": {},
   "source": [
    "## Iterar sobre equipos"
   ]
  },
  {
   "cell_type": "code",
   "execution_count": 27,
   "metadata": {},
   "outputs": [
    {
     "name": "stdout",
     "output_type": "stream",
     "text": [
      "********** Equipo 1 ************\n"
     ]
    },
    {
     "data": {
      "application/vnd.jupyter.widget-view+json": {
       "model_id": "1a8e867c14c84396b5ca8723f8fc96d5",
       "version_major": 2,
       "version_minor": 0
      },
      "text/plain": [
       "lags grid:   0%|          | 0/5 [00:00<?, ?it/s]"
      ]
     },
     "metadata": {},
     "output_type": "display_data"
    },
    {
     "data": {
      "application/vnd.jupyter.widget-view+json": {
       "model_id": "c7d89552b94a4a9e9616012067b2a8e8",
       "version_major": 2,
       "version_minor": 0
      },
      "text/plain": [
       "params grid:   0%|          | 0/4 [00:00<?, ?it/s]"
      ]
     },
     "metadata": {},
     "output_type": "display_data"
    },
    {
     "name": "stdout",
     "output_type": "stream",
     "text": [
      "`Forecaster` refitted using the best-found lags and parameters, and the whole data set: \n",
      "  Lags: [ 1  2  3  4  5  6  7  8  9 10 11 12 13 14 15 16 17 18 19 20 21 22 23 24\n",
      " 25 26 27 28 29 30 31 32 33 34 35 36 37 38 39 40 41 42 43 44 45 46 47 48\n",
      " 49 50] \n",
      "  Parameters: {'alpha': 0.1}\n",
      "  Backtesting metric: 34976.66513452184\n",
      "Error de test (mse): 20982.882283219362\n",
      "Varianza datos: 101688.87860257094\n",
      "mse2var: 20.63%\n",
      "------------------------------------------------------------\n",
      "********** Equipo 2 ************\n"
     ]
    },
    {
     "data": {
      "application/vnd.jupyter.widget-view+json": {
       "model_id": "20df10ccb74a43bebea5f7a6aec7022a",
       "version_major": 2,
       "version_minor": 0
      },
      "text/plain": [
       "lags grid:   0%|          | 0/5 [00:00<?, ?it/s]"
      ]
     },
     "metadata": {},
     "output_type": "display_data"
    },
    {
     "data": {
      "application/vnd.jupyter.widget-view+json": {
       "model_id": "eeac74a23a414ad9b733c597533cd954",
       "version_major": 2,
       "version_minor": 0
      },
      "text/plain": [
       "params grid:   0%|          | 0/4 [00:00<?, ?it/s]"
      ]
     },
     "metadata": {},
     "output_type": "display_data"
    },
    {
     "name": "stdout",
     "output_type": "stream",
     "text": [
      "`Forecaster` refitted using the best-found lags and parameters, and the whole data set: \n",
      "  Lags: [ 1  2  3  4  5  6  7  8  9 10] \n",
      "  Parameters: {'alpha': 1}\n",
      "  Backtesting metric: 6132.031221111676\n",
      "Error de test (mse): 798.7818311317516\n",
      "Varianza datos: 28616.58486493582\n",
      "mse2var: 2.79%\n",
      "------------------------------------------------------------\n",
      "********** Equipo 3 ************\n"
     ]
    },
    {
     "data": {
      "application/vnd.jupyter.widget-view+json": {
       "model_id": "bf8df1c865df42c497ce00db60b6e693",
       "version_major": 2,
       "version_minor": 0
      },
      "text/plain": [
       "lags grid:   0%|          | 0/5 [00:00<?, ?it/s]"
      ]
     },
     "metadata": {},
     "output_type": "display_data"
    },
    {
     "data": {
      "application/vnd.jupyter.widget-view+json": {
       "model_id": "d82a85ae32be499ba532f8cc3c994285",
       "version_major": 2,
       "version_minor": 0
      },
      "text/plain": [
       "params grid:   0%|          | 0/4 [00:00<?, ?it/s]"
      ]
     },
     "metadata": {},
     "output_type": "display_data"
    },
    {
     "name": "stdout",
     "output_type": "stream",
     "text": [
      "`Forecaster` refitted using the best-found lags and parameters, and the whole data set: \n",
      "  Lags: [ 1  2  3  4  5  6  7  8  9 10] \n",
      "  Parameters: {'alpha': 0.1}\n",
      "  Backtesting metric: 11074.20681903792\n",
      "Error de test (mse): 1357.023594870698\n",
      "Varianza datos: 34852.85176600752\n",
      "mse2var: 3.89%\n",
      "------------------------------------------------------------\n",
      "********** Equipo 4 ************\n"
     ]
    },
    {
     "data": {
      "application/vnd.jupyter.widget-view+json": {
       "model_id": "86c5b644442b47d4ab1ed61c07097b93",
       "version_major": 2,
       "version_minor": 0
      },
      "text/plain": [
       "lags grid:   0%|          | 0/5 [00:00<?, ?it/s]"
      ]
     },
     "metadata": {},
     "output_type": "display_data"
    },
    {
     "data": {
      "application/vnd.jupyter.widget-view+json": {
       "model_id": "c74f2f9b4a1f45e7ac28e2346f135ed4",
       "version_major": 2,
       "version_minor": 0
      },
      "text/plain": [
       "params grid:   0%|          | 0/4 [00:00<?, ?it/s]"
      ]
     },
     "metadata": {},
     "output_type": "display_data"
    },
    {
     "name": "stdout",
     "output_type": "stream",
     "text": [
      "`Forecaster` refitted using the best-found lags and parameters, and the whole data set: \n",
      "  Lags: [ 1  2  3  4  5  6  7  8  9 10 11 12 13 14 15 16 17 18 19 20 21 22 23 24\n",
      " 25 26 27 28 29 30 31 32 33 34 35 36 37 38 39 40 41 42 43 44 45 46 47 48\n",
      " 49 50] \n",
      "  Parameters: {'alpha': 0.1}\n",
      "  Backtesting metric: 11072.620166142486\n",
      "Error de test (mse): 1455.075513224805\n",
      "Varianza datos: 30159.84914160877\n",
      "mse2var: 4.82%\n",
      "------------------------------------------------------------\n",
      "********** Equipo 5 ************\n"
     ]
    },
    {
     "data": {
      "application/vnd.jupyter.widget-view+json": {
       "model_id": "e0d0b6d3eac645abad9aecbf80ee6de5",
       "version_major": 2,
       "version_minor": 0
      },
      "text/plain": [
       "lags grid:   0%|          | 0/5 [00:00<?, ?it/s]"
      ]
     },
     "metadata": {},
     "output_type": "display_data"
    },
    {
     "data": {
      "application/vnd.jupyter.widget-view+json": {
       "model_id": "6518c662b92f4f1a89cac8825ce4414a",
       "version_major": 2,
       "version_minor": 0
      },
      "text/plain": [
       "params grid:   0%|          | 0/4 [00:00<?, ?it/s]"
      ]
     },
     "metadata": {},
     "output_type": "display_data"
    },
    {
     "name": "stdout",
     "output_type": "stream",
     "text": [
      "`Forecaster` refitted using the best-found lags and parameters, and the whole data set: \n",
      "  Lags: [ 1  2  3  4  5  6  7  8  9 10] \n",
      "  Parameters: {'alpha': 0.1}\n",
      "  Backtesting metric: 14545.578480724145\n",
      "Error de test (mse): 9948.212417767383\n",
      "Varianza datos: 58308.32094268328\n",
      "mse2var: 17.06%\n",
      "------------------------------------------------------------\n",
      "********** Equipo 6 ************\n"
     ]
    },
    {
     "data": {
      "application/vnd.jupyter.widget-view+json": {
       "model_id": "6d3173f97660412abd3ce8f9154abcd1",
       "version_major": 2,
       "version_minor": 0
      },
      "text/plain": [
       "lags grid:   0%|          | 0/5 [00:00<?, ?it/s]"
      ]
     },
     "metadata": {},
     "output_type": "display_data"
    },
    {
     "data": {
      "application/vnd.jupyter.widget-view+json": {
       "model_id": "a405c2c6489a44fdb514e7c684dc76f8",
       "version_major": 2,
       "version_minor": 0
      },
      "text/plain": [
       "params grid:   0%|          | 0/4 [00:00<?, ?it/s]"
      ]
     },
     "metadata": {},
     "output_type": "display_data"
    },
    {
     "name": "stdout",
     "output_type": "stream",
     "text": [
      "`Forecaster` refitted using the best-found lags and parameters, and the whole data set: \n",
      "  Lags: [ 1  2  3  4  5  6  7  8  9 10] \n",
      "  Parameters: {'alpha': 1}\n",
      "  Backtesting metric: 8607.01402505016\n",
      "Error de test (mse): 54068.40575866353\n",
      "Varianza datos: 55900.25571995162\n",
      "mse2var: 96.72%\n",
      "------------------------------------------------------------\n"
     ]
    }
   ],
   "source": [
    "# Valores candidatos de lags\n",
    "lags_grid = [5, 10, 50, 100, 150]\n",
    "\n",
    "# Valores candidatos de hiperparámetros del regresor\n",
    "param_grid = {\n",
    "    'alpha': [0.1, 1, 10, 100],\n",
    "}\n",
    "\n",
    "# resultados\n",
    "\n",
    "resultados = {}\n",
    "\n",
    "\n",
    "for eq in range(1, 7):\n",
    "    print(f\"********** Equipo {eq} ************\")\n",
    "\n",
    "    # Filtrar el df del equipo\n",
    "    equipo = final_data[final_data['ID_Equipo'] == eq].copy()\n",
    "\n",
    "    # Preparar el dataset para el equipo seleccionado\n",
    "    equipo_fq = prep_equipo(equipo)\n",
    "\n",
    "    # Obtener datos train y test\n",
    "    datos_train, datos_test = sep_train_test(equipo_fq, False)\n",
    "\n",
    "    # Exógenos para el modelo\n",
    "    exogs_train = datos_train.drop(columns=target_column)\n",
    "    exogs_test = datos_test.drop(columns=target_column)\n",
    "\n",
    "    # Búsqueda de hiperparámetros\n",
    "    bestfc = search_best_forecaster(steps, lags_grid, param_grid, datos_train, exogs_train, target_column)\n",
    "    best_lags = len(bestfc.lags)\n",
    "    best_params = bestfc.params\n",
    "\n",
    "    # modelo final\n",
    "    final_model = gen_finalModel(steps, best_lags, best_params, datos_train, exogs_train, target_column)\n",
    "\n",
    "    # Predicciones\n",
    "    predicciones = final_model.predict(steps=steps, exog=exogs_test)\n",
    "\n",
    "    # Error test\n",
    "    mse2var = get_error(target_column, predicciones, equipo_fq, datos_test)\n",
    "\n",
    "    resultados[eq] = {\n",
    "        'best_lags': best_lags,\n",
    "        'best_params': best_params,\n",
    "        'mse2var': mse2var\n",
    "    }\n",
    "\n",
    "    print('---'*20)"
   ]
  },
  {
   "cell_type": "markdown",
   "metadata": {},
   "source": [
    "# Resultados"
   ]
  },
  {
   "cell_type": "code",
   "execution_count": 26,
   "metadata": {},
   "outputs": [
    {
     "data": {
      "text/plain": [
       "{1: {'best_lags': 50, 'best_params': {'alpha': 0.1}, 'mse2var': 20.63},\n",
       " 2: {'best_lags': 10, 'best_params': {'alpha': 1}, 'mse2var': 2.79},\n",
       " 3: {'best_lags': 10, 'best_params': {'alpha': 0.1}, 'mse2var': 3.89},\n",
       " 4: {'best_lags': 50, 'best_params': {'alpha': 0.1}, 'mse2var': 4.82},\n",
       " 5: {'best_lags': 10, 'best_params': {'alpha': 0.1}, 'mse2var': 17.06},\n",
       " 6: {'best_lags': 10, 'best_params': {'alpha': 1}, 'mse2var': 96.72},\n",
       " 7: {'best_lags': 10, 'best_params': {'alpha': 0.1}, 'mse2var': 35.16},\n",
       " 8: {'best_lags': 10, 'best_params': {'alpha': 10}, 'mse2var': 33.37},\n",
       " 9: {'best_lags': 10, 'best_params': {'alpha': 10}, 'mse2var': 7.12},\n",
       " 10: {'best_lags': 10, 'best_params': {'alpha': 10}, 'mse2var': 23.09},\n",
       " 11: {'best_lags': 10, 'best_params': {'alpha': 0.1}, 'mse2var': 13.68},\n",
       " 12: {'best_lags': 50, 'best_params': {'alpha': 0.1}, 'mse2var': 5.26},\n",
       " 13: {'best_lags': 10, 'best_params': {'alpha': 0.1}, 'mse2var': 4.21},\n",
       " 14: {'best_lags': 100, 'best_params': {'alpha': 10}, 'mse2var': 2.23}}"
      ]
     },
     "execution_count": 26,
     "metadata": {},
     "output_type": "execute_result"
    }
   ],
   "source": [
    "resultados"
   ]
  }
 ],
 "metadata": {
  "kernelspec": {
   "display_name": "Python 3",
   "language": "python",
   "name": "python3"
  },
  "language_info": {
   "codemirror_mode": {
    "name": "ipython",
    "version": 3
   },
   "file_extension": ".py",
   "mimetype": "text/x-python",
   "name": "python",
   "nbconvert_exporter": "python",
   "pygments_lexer": "ipython3",
   "version": "3.12.4"
  }
 },
 "nbformat": 4,
 "nbformat_minor": 2
}
