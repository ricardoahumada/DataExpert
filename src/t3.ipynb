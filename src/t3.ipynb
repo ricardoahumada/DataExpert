{
 "cells": [
  {
   "cell_type": "markdown",
   "metadata": {},
   "source": [
    "## Resúmenes básicos:"
   ]
  },
  {
   "cell_type": "code",
   "execution_count": 2,
   "metadata": {},
   "outputs": [],
   "source": [
    "import data_utils as du"
   ]
  },
  {
   "cell_type": "code",
   "execution_count": 38,
   "metadata": {},
   "outputs": [
    {
     "name": "stdout",
     "output_type": "stream",
     "text": [
      "SQL: SELECT id_equipo, COUNT(id_equipo) AS num_ap FROM historicos_ordenes WHERE tipo_mantenimiento='Correctivo' GROUP BY id_equipo ORDER BY  num_ap\n",
      "Database conn successful\n",
      "El equipo con  más fallos es: {'ID_Equipo': 'E002', 'Tipo_Equipo': 'Bomba', 'Fabricante': 'Fabricante C', 'Fecha_Instalacion': '2015-01-02', 'Vida_Util_Anios': '29', 'Potencia_kW': '4696'}\n"
     ]
    }
   ],
   "source": [
    "# Encontrar el equipo con el mayor número de fallos (mantenimiento correctivo).\n",
    "\n",
    "\n",
    "\n",
    "def obtener_fallos_por_equipo():\n",
    "\n",
    "    SQL = \"SELECT id_equipo, COUNT(id_equipo) AS num_ap FROM historicos_ordenes WHERE tipo_mantenimiento='Correctivo' GROUP BY id_equipo ORDER BY  num_ap\"\n",
    "\n",
    "    d_num_equipo_correctivo = du.get_data_for_sql(SQL)\n",
    "    # print(d_num_equipo_correctivo)\n",
    "    return d_num_equipo_correctivo[0][0]\n",
    "\n",
    "\n",
    "def obtener_datos_de_equipo(id_e):\n",
    "    fcaract = '../data/Caracteristicas_Equipos.csv'\n",
    "    dcaract = du.read_csv(fcaract)\n",
    "    dequipo = tuple(filter(lambda aE: aE[0] == id_e, dcaract[1]))\n",
    "    # print(dcaract[0][0], dequipo[0])\n",
    "    data = dict(zip(dcaract[0][0],dequipo[0]))\n",
    "    # print(data)\n",
    "    return data\n",
    "\n",
    "\n",
    "id_equipo = obtener_fallos_por_equipo()\n",
    "\n",
    "equipo = obtener_datos_de_equipo(id_equipo)\n",
    "\n",
    "print('El equipo con  más fallos es: {0}'.format(equipo))"
   ]
  },
  {
   "cell_type": "code",
   "execution_count": 67,
   "metadata": {},
   "outputs": [
    {
     "name": "stdout",
     "output_type": "stream",
     "text": [
      "Resumen básico: {'E011': {'maximo': '79.99', 'media': 49.48}, 'E017': {'maximo': '79.71', 'media': 51.21}, 'E007': {'maximo': '79.92', 'media': 50.65}, 'E015': {'maximo': '79.97', 'media': 50.84}, 'E003': {'maximo': '79.99', 'media': 51.3}, 'E006': {'maximo': '80.0', 'media': 49.68}, 'E008': {'maximo': '79.92', 'media': 50.47}, 'E018': {'maximo': '79.96', 'media': 49.93}, 'E019': {'maximo': '79.94', 'media': 49.98}, 'E013': {'maximo': '80.0', 'media': 51.26}, 'E001': {'maximo': '79.92', 'media': 49.87}, 'E005': {'maximo': '80.0', 'media': 50.48}, 'E010': {'maximo': '79.89', 'media': 49.49}, 'E014': {'maximo': '79.84', 'media': 49.7}, 'E004': {'maximo': '79.96', 'media': 48.81}, 'E016': {'maximo': '79.91', 'media': 50.53}, 'E009': {'maximo': '79.98', 'media': 50.52}, 'E020': {'maximo': '78.92', 'media': 49.85}, 'E012': {'maximo': '79.9', 'media': 50.85}, 'E002': {'maximo': '79.97', 'media': 48.04}}\n"
     ]
    }
   ],
   "source": [
    "# Generar un resumen básico de las temperaturas promedio y máximas registradas para cada equipo.\n",
    "\n",
    "import statistics as st\n",
    "\n",
    "fregistro = '../data/Registros_Condiciones.csv'\n",
    "dregistro = du.read_csv(fregistro)\n",
    "# print(dregistro)\n",
    "\n",
    "\n",
    "def obtener_temperaturas_por_equipo(registros):\n",
    "    new_data = {}\n",
    "\n",
    "    for registro in registros:\n",
    "        if len(registro) >= 4:\n",
    "            id_e = registro[0]\n",
    "            temp = registro[3]\n",
    "\n",
    "            if id_e not in new_data:\n",
    "                new_data[id_e] = []\n",
    "\n",
    "        new_data[id_e].append(temp)\n",
    "\n",
    "    return new_data\n",
    "\n",
    "\n",
    "def obtener_promedio_y_maximo_por_equipo(data_temps_x_equipo):\n",
    "    new_data = {}\n",
    "\n",
    "    for eq_id,eq_temps in data_temps_x_equipo.items():\n",
    "        media = st.mean(map(lambda aT:float(aT), eq_temps))\n",
    "        maximo = max(eq_temps)\n",
    "        new_data[eq_id]={'maximo':maximo, 'media': round(media,2)}\n",
    "\n",
    "    return new_data\n",
    "\n",
    "\n",
    "temperaturas_x_equipo = obtener_temperaturas_por_equipo(dregistro[1])\n",
    "\n",
    "max_meida_x_equipo = obtener_promedio_y_maximo_por_equipo(temperaturas_x_equipo)\n",
    "\n",
    "print('Resumen básico: {0}'.format(max_meida_x_equipo))\n",
    "\n"
   ]
  }
 ],
 "metadata": {
  "kernelspec": {
   "display_name": "Python 3",
   "language": "python",
   "name": "python3"
  },
  "language_info": {
   "codemirror_mode": {
    "name": "ipython",
    "version": 3
   },
   "file_extension": ".py",
   "mimetype": "text/x-python",
   "name": "python",
   "nbconvert_exporter": "python",
   "pygments_lexer": "ipython3",
   "version": "3.12.4"
  }
 },
 "nbformat": 4,
 "nbformat_minor": 2
}
