{
 "cells": [
  {
   "cell_type": "markdown",
   "metadata": {},
   "source": [
    "## Datos derivados:"
   ]
  },
  {
   "cell_type": "code",
   "execution_count": 1,
   "metadata": {},
   "outputs": [],
   "source": [
    "import data_utils as du"
   ]
  },
  {
   "cell_type": "code",
   "execution_count": 3,
   "metadata": {},
   "outputs": [],
   "source": [
    "# Crear una tabla combinada que una los datos de Historicos_Ordenes y Registros_Condiciones mediante el campo ID_Equipo en la tabla Resultados_join\n",
    "fregistros_condiciones = '../data/Registros_Condiciones.csv'\n",
    "dregistros_condiciones = du.read_csv(fregistros_condiciones)\n",
    "\n",
    "fhistorico_ordenes = '../data/Historicos_Ordenes.csv'\n",
    "dhistorico_ordenes = du.read_csv(fhistorico_ordenes)\n",
    "\n",
    "# print(dregistros_condiciones )\n",
    "# print(dhistorico_ordenes)\n",
    "\n",
    "\n",
    "def group_by_position(data, position):\n",
    "    new_data = {}\n",
    "\n",
    "    for anElem in data:\n",
    "        if (len(anElem) > position):\n",
    "            clave = anElem[position]\n",
    "            if clave not in new_data:\n",
    "                new_data[clave] = []\n",
    "            new_data[clave].append(anElem)\n",
    "\n",
    "    return new_data\n",
    "\n",
    "\n",
    "dregistros_condiciones_x_id_equipo = group_by_position(\n",
    "    dregistros_condiciones[1], 0)\n",
    "# print(dregistros_condiciones_x_id_equipo)\n",
    "\n",
    "dhistorico_ordenes_x_id_equipo = group_by_position(dhistorico_ordenes[1], 1)\n",
    "# print(dhistorico_ordenes_x_id_equipo)"
   ]
  },
  {
   "cell_type": "code",
   "execution_count": 4,
   "metadata": {},
   "outputs": [],
   "source": [
    "def join_registros_ordenes(registros, ordenes):\n",
    "    claves_registro = list(registros.keys())\n",
    "    claves_ordenes = list(ordenes.keys())\n",
    "    equipos = set(filter(None, claves_registro + claves_ordenes))\n",
    "    # print(equipos)\n",
    "\n",
    "    resultados_join_data = []\n",
    "\n",
    "    for equipo in equipos:\n",
    "        registros_x_equipo = registros[equipo]\n",
    "        ordenes_x_equipo = ordenes[equipo]\n",
    "        # print(len(registros_x_equipo), len(ordenes_x_equipo))\n",
    "\n",
    "        for registro in registros_x_equipo:\n",
    "            for orden in ordenes_x_equipo:\n",
    "                resultado = {\n",
    "                    'ID_Equipo': equipo,\n",
    "                    'Fecha_Orden': orden[2],\n",
    "                    'Tipo_Mantenimiento': orden[3],\n",
    "                    'Costo_Mantenimiento': float(orden[5]),\n",
    "                    'Ubicacion': orden[6],\n",
    "                    'Fecha_Condicion': registro[1],\n",
    "                    'Horas_Operativas': int(registro[2]),\n",
    "                    'Temperatura_C': float(registro[3]),\n",
    "                    'Vibracion_mm_s': float(registro[4]),\n",
    "                    'Presion_Bar': float(registro[5]),\n",
    "                    'Horas_Acumuladas': int(registro[6])\n",
    "                }\n",
    "\n",
    "                resultados_join_data.append(resultado)\n",
    "\n",
    "    return resultados_join_data\n",
    "\n",
    "\n",
    "resultados_join = join_registros_ordenes(dregistros_condiciones_x_id_equipo, dhistorico_ordenes_x_id_equipo)\n",
    "\n",
    "# print('resultados_join:', len(resultados_join) ,resultados_join[:100])"
   ]
  },
  {
   "cell_type": "code",
   "execution_count": 5,
   "metadata": {},
   "outputs": [
    {
     "name": "stdout",
     "output_type": "stream",
     "text": [
      "INSERTADOS REGISTROS!!\n"
     ]
    }
   ],
   "source": [
    "def insert_join(registro):\n",
    "    sql = \"\"\"INSERT INTO Resultados_Join (ID_Equipo, Fecha_Orden, Tipo_Mantenimiento, Costo_Mantenimiento, Ubicacion, Fecha_Condicion, Horas_Operativas, Temperatura_C, Vibracion_mm_s, Presion_Bar, Horas_Acumuladas) \n",
    "    VALUES ('{0}', '{1}', '{2}', {3}, '{4}', '{5}', {6}, {7}, {8}, {9}, {10})\"\"\".format(registro['ID_Equipo'],\n",
    "                                                                              registro['Fecha_Orden'],\n",
    "                                                                              registro['Tipo_Mantenimiento'],\n",
    "                                                                              registro['Costo_Mantenimiento'],\n",
    "                                                                              registro['Ubicacion'],\n",
    "                                                                              registro['Fecha_Condicion'],\n",
    "                                                                              registro['Horas_Operativas'],\n",
    "                                                                              registro['Temperatura_C'],\n",
    "                                                                              registro['Vibracion_mm_s'],\n",
    "                                                                              registro['Presion_Bar'],\n",
    "                                                                              registro['Horas_Acumuladas'])\n",
    "\n",
    "    du.insert_data_sql(sql)\n",
    "\n",
    "# Insertamos los 100 primeros registros\n",
    "for resultado in resultados_join[0:100]:\n",
    "    insert_join(resultado)\n",
    "\n",
    "\n",
    "print(\"REGISTROS INSERTADOS!!\")"
   ]
  }
 ],
 "metadata": {
  "kernelspec": {
   "display_name": "Python 3",
   "language": "python",
   "name": "python3"
  },
  "language_info": {
   "codemirror_mode": {
    "name": "ipython",
    "version": 3
   },
   "file_extension": ".py",
   "mimetype": "text/x-python",
   "name": "python",
   "nbconvert_exporter": "python",
   "pygments_lexer": "ipython3",
   "version": "3.12.4"
  }
 },
 "nbformat": 4,
 "nbformat_minor": 2
}
