{
 "cells": [
  {
   "cell_type": "markdown",
   "metadata": {},
   "source": [
    "# Corrector de Histórico de ordenes"
   ]
  },
  {
   "cell_type": "code",
   "execution_count": 2,
   "metadata": {},
   "outputs": [],
   "source": [
    "import pandas as pd\n",
    "\n",
    "historicos_ordenes = pd.read_csv('../../data/original/Historicos_Ordenes.csv')\n"
   ]
  },
  {
   "cell_type": "code",
   "execution_count": 3,
   "metadata": {},
   "outputs": [],
   "source": [
    "\n",
    "# columna 'Fecha' esté en formato datetime\n",
    "historicos_ordenes['Fecha'] = pd.to_datetime(historicos_ordenes['Fecha'])\n",
    "\n",
    "# Paso 1: Identificar la primera ubicación para cada ID_Equipo\n",
    "# Ordenar por Fecha para asegurar que la primera ubicación sea la más antigua\n",
    "historicos_ordenes.sort_values(by=['ID_Equipo', 'Fecha'], inplace=True)\n",
    "\n",
    "# Crear una nueva columna 'Primera_Ubicacion' que contenga la primera ubicación para cada equipo\n",
    "historicos_ordenes['Primera_Ubicacion'] = historicos_ordenes.groupby('ID_Equipo')['Ubicacion'].transform('first')\n",
    "\n",
    "# Paso 2: Reemplazar la columna 'Ubicacion' con la 'Primera_Ubicacion'\n",
    "historicos_ordenes['Ubicacion'] = historicos_ordenes['Primera_Ubicacion']\n",
    "\n",
    "# Paso 3: Eliminar la columna auxiliar 'Primera_Ubicacion' si no es necesaria\n",
    "historicos_ordenes.drop(columns=['Primera_Ubicacion'], inplace=True)"
   ]
  },
  {
   "cell_type": "markdown",
   "metadata": {},
   "source": [
    "## Revisar que se ha hecho bien"
   ]
  },
  {
   "cell_type": "code",
   "execution_count": 5,
   "metadata": {},
   "outputs": [
    {
     "name": "stdout",
     "output_type": "stream",
     "text": [
      "        ID_Orden    ID_Equipo  Fecha                Tipo_Mantenimiento      Costo_Mantenimiento    Duracion_Horas  Ubicacion\n",
      "----  ----------  -----------  -------------------  --------------------  ---------------------  ----------------  ------------\n",
      " 798         799            1  2020-02-03 06:00:00  Preventivo                           404.72                37  Planta Oeste\n",
      " 836         837            1  2020-02-04 20:00:00  Correctivo                          7465.08                39  Planta Oeste\n",
      "1343        1344            1  2020-02-25 23:00:00  Correctivo                          7577.35                40  Planta Oeste\n",
      "1835        1836            1  2020-03-17 11:00:00  Correctivo                          5227.75                17  Planta Oeste\n",
      "2102        2103            1  2020-03-28 14:00:00  Preventivo                          6879.63                16  Planta Oeste\n",
      "2166        2167            1  2020-03-31 06:00:00  Preventivo                          1332.57                15  Planta Oeste\n",
      "2240        2241            1  2020-04-03 08:00:00  Preventivo                          3938.11                24  Planta Oeste\n",
      "2508        2509            1  2020-04-14 12:00:00  Preventivo                          8248.13                40  Planta Oeste\n",
      "2639        2640            1  2020-04-19 23:00:00  Preventivo                          1541.37                22  Planta Oeste\n",
      "3390        3391            1  2020-05-21 06:00:00  Preventivo                          6079.02                45  Planta Oeste\n",
      "3935        3936            1  2020-06-12 23:00:00  Correctivo                          2324.7                 20  Planta Oeste\n",
      "4969        4970            1  2020-07-26 01:00:00  Correctivo                          4908.29                41  Planta Oeste\n",
      "5351        5352            1  2020-08-10 23:00:00  Correctivo                          5314.29                 7  Planta Oeste\n",
      "5764        5765            1  2020-08-28 04:00:00  Preventivo                          5655.84                15  Planta Oeste\n",
      "5768        5769            1  2020-08-28 08:00:00  Preventivo                          2785.36                44  Planta Oeste\n",
      "5972        5973            1  2020-09-05 20:00:00  Preventivo                           746.34                20  Planta Oeste\n",
      "6075        6076            1  2020-09-10 03:00:00  Preventivo                          9892.98                 2  Planta Oeste\n",
      "6083        6084            1  2020-09-10 11:00:00  Preventivo                          2183.7                 11  Planta Oeste\n",
      "8077        8078            1  2020-12-02 13:00:00  Correctivo                           134.82                33  Planta Oeste\n",
      "8984        8985            1  2021-01-09 08:00:00  Correctivo                          5819.87                 4  Planta Oeste\n",
      "9593        9594            1  2021-02-03 17:00:00  Preventivo                          5721.25                17  Planta Oeste\n",
      "9867        9868            1  2021-02-15 03:00:00  Preventivo                          9678.06                21  Planta Oeste\n"
     ]
    }
   ],
   "source": [
    "from tabulate import tabulate\n",
    "\n",
    "print(tabulate(historicos_ordenes[historicos_ordenes['ID_Equipo']==1], headers='keys'))"
   ]
  },
  {
   "cell_type": "markdown",
   "metadata": {},
   "source": [
    "## Guardar el dataset actualizado"
   ]
  },
  {
   "cell_type": "code",
   "execution_count": 8,
   "metadata": {},
   "outputs": [],
   "source": [
    "historicos_ordenes.to_csv('./out/Historicos_Ordenes_v4.csv', index=False)\n"
   ]
  }
 ],
 "metadata": {
  "kernelspec": {
   "display_name": "Python 3",
   "language": "python",
   "name": "python3"
  },
  "language_info": {
   "codemirror_mode": {
    "name": "ipython",
    "version": 3
   },
   "file_extension": ".py",
   "mimetype": "text/x-python",
   "name": "python",
   "nbconvert_exporter": "python",
   "pygments_lexer": "ipython3",
   "version": "3.12.4"
  }
 },
 "nbformat": 4,
 "nbformat_minor": 2
}
