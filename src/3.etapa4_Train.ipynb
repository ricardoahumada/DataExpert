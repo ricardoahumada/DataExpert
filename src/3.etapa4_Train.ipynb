{
 "cells": [
  {
   "cell_type": "markdown",
   "metadata": {},
   "source": [
    "# Solución etapa 4 - Training - Predict"
   ]
  },
  {
   "cell_type": "code",
   "execution_count": null,
   "metadata": {},
   "outputs": [],
   "source": [
    "# Utilidades para print\n",
    "from utils.print_utils import tabl, headr, titl\n",
    "from utils.explore_utils import explr"
   ]
  },
  {
   "cell_type": "code",
   "execution_count": null,
   "metadata": {},
   "outputs": [],
   "source": [
    "# Importar librerías necesarias\n",
    "import pandas as pd\n",
    "import numpy as np\n",
    "import matplotlib.pyplot as plt\n",
    "from skforecast.recursive import ForecasterRecursive\n",
    "from sklearn.linear_model import LinearRegression\n",
    "from sklearn.metrics import mean_squared_error\n",
    "from sklearn.preprocessing import StandardScaler\n",
    "from skforecast.model_selection import backtesting_forecaster\n",
    "from skforecast.datasets import fetch_dataset\n",
    "from skforecast.model_selection import TimeSeriesFold"
   ]
  },
  {
   "cell_type": "code",
   "execution_count": null,
   "metadata": {},
   "outputs": [],
   "source": [
    "version_to_load='v1'"
   ]
  },
  {
   "cell_type": "code",
   "execution_count": null,
   "metadata": {},
   "outputs": [],
   "source": [
    "# Cargar el dataset\n",
    "csv_path = f'../data/preprocessed/preprocessed_data_{version_to_load}.csv'\n",
    "print('... Loading:', csv_path,'...')\n",
    "final_data = pd.read_csv(csv_path)\n",
    "\n",
    "tabl(final_data)"
   ]
  },
  {
   "cell_type": "code",
   "execution_count": null,
   "metadata": {},
   "outputs": [],
   "source": [
    "final_data.info()"
   ]
  },
  {
   "cell_type": "code",
   "execution_count": null,
   "metadata": {},
   "outputs": [],
   "source": [
    "# Preparación del dato\n",
    "\n",
    "final_data['Fecha'] = pd.to_datetime(final_data['Fecha'], format='%Y-%m-%d')\n"
   ]
  },
  {
   "cell_type": "code",
   "execution_count": null,
   "metadata": {},
   "outputs": [],
   "source": [
    "target_column = 'Fallo'"
   ]
  },
  {
   "cell_type": "markdown",
   "metadata": {},
   "source": [
    "## Extraemos un equipo"
   ]
  },
  {
   "cell_type": "code",
   "execution_count": 101,
   "metadata": {},
   "outputs": [],
   "source": [
    "equipo = final_data[final_data['ID_Equipo'] == 2]"
   ]
  },
  {
   "cell_type": "code",
   "execution_count": 102,
   "metadata": {},
   "outputs": [
    {
     "name": "stderr",
     "output_type": "stream",
     "text": [
      "C:\\Users\\ricar\\AppData\\Local\\Temp\\ipykernel_11760\\1548657718.py:2: SettingWithCopyWarning: \n",
      "A value is trying to be set on a copy of a slice from a DataFrame\n",
      "\n",
      "See the caveats in the documentation: https://pandas.pydata.org/pandas-docs/stable/user_guide/indexing.html#returning-a-view-versus-a-copy\n",
      "  equipo.drop(columns=['ID_Equipo'], inplace=True)\n"
     ]
    }
   ],
   "source": [
    "# Eliminar columnas innecesarias\n",
    "equipo.drop(columns=['ID_Equipo'], inplace=True)"
   ]
  },
  {
   "cell_type": "code",
   "execution_count": 103,
   "metadata": {},
   "outputs": [],
   "source": [
    "# fecha como índice\n",
    "equipo = equipo.set_index('Fecha')"
   ]
  },
  {
   "cell_type": "code",
   "execution_count": 104,
   "metadata": {},
   "outputs": [
    {
     "data": {
      "text/html": [
       "<div>\n",
       "<style scoped>\n",
       "    .dataframe tbody tr th:only-of-type {\n",
       "        vertical-align: middle;\n",
       "    }\n",
       "\n",
       "    .dataframe tbody tr th {\n",
       "        vertical-align: top;\n",
       "    }\n",
       "\n",
       "    .dataframe thead th {\n",
       "        text-align: right;\n",
       "    }\n",
       "</style>\n",
       "<table border=\"1\" class=\"dataframe\">\n",
       "  <thead>\n",
       "    <tr style=\"text-align: right;\">\n",
       "      <th></th>\n",
       "      <th>Horas_Operativas</th>\n",
       "      <th>Fallo</th>\n",
       "      <th>Tipo_Equipo</th>\n",
       "      <th>Fabricante</th>\n",
       "      <th>Potencia_kW</th>\n",
       "      <th>Horas_Recomendadas_Revision</th>\n",
       "    </tr>\n",
       "    <tr>\n",
       "      <th>Fecha</th>\n",
       "      <th></th>\n",
       "      <th></th>\n",
       "      <th></th>\n",
       "      <th></th>\n",
       "      <th></th>\n",
       "      <th></th>\n",
       "    </tr>\n",
       "  </thead>\n",
       "  <tbody>\n",
       "    <tr>\n",
       "      <th>2024-10-13</th>\n",
       "      <td>10</td>\n",
       "      <td>1.0</td>\n",
       "      <td>Generador</td>\n",
       "      <td>Fabricante_B</td>\n",
       "      <td>393</td>\n",
       "      <td>522</td>\n",
       "    </tr>\n",
       "  </tbody>\n",
       "</table>\n",
       "</div>"
      ],
      "text/plain": [
       "            Horas_Operativas  Fallo Tipo_Equipo    Fabricante  Potencia_kW  \\\n",
       "Fecha                                                                        \n",
       "2024-10-13                10    1.0   Generador  Fabricante_B          393   \n",
       "\n",
       "            Horas_Recomendadas_Revision  \n",
       "Fecha                                    \n",
       "2024-10-13                          522  "
      ]
     },
     "execution_count": 104,
     "metadata": {},
     "output_type": "execute_result"
    }
   ],
   "source": [
    "# ïndices Duplicados\n",
    "equipo[equipo.index.duplicated()]"
   ]
  },
  {
   "cell_type": "code",
   "execution_count": 105,
   "metadata": {},
   "outputs": [
    {
     "data": {
      "text/html": [
       "<div>\n",
       "<style scoped>\n",
       "    .dataframe tbody tr th:only-of-type {\n",
       "        vertical-align: middle;\n",
       "    }\n",
       "\n",
       "    .dataframe tbody tr th {\n",
       "        vertical-align: top;\n",
       "    }\n",
       "\n",
       "    .dataframe thead th {\n",
       "        text-align: right;\n",
       "    }\n",
       "</style>\n",
       "<table border=\"1\" class=\"dataframe\">\n",
       "  <thead>\n",
       "    <tr style=\"text-align: right;\">\n",
       "      <th></th>\n",
       "      <th>Horas_Operativas</th>\n",
       "      <th>Fallo</th>\n",
       "      <th>Tipo_Equipo</th>\n",
       "      <th>Fabricante</th>\n",
       "      <th>Potencia_kW</th>\n",
       "      <th>Horas_Recomendadas_Revision</th>\n",
       "    </tr>\n",
       "    <tr>\n",
       "      <th>Fecha</th>\n",
       "      <th></th>\n",
       "      <th></th>\n",
       "      <th></th>\n",
       "      <th></th>\n",
       "      <th></th>\n",
       "      <th></th>\n",
       "    </tr>\n",
       "  </thead>\n",
       "  <tbody>\n",
       "  </tbody>\n",
       "</table>\n",
       "</div>"
      ],
      "text/plain": [
       "Empty DataFrame\n",
       "Columns: [Horas_Operativas, Fallo, Tipo_Equipo, Fabricante, Potencia_kW, Horas_Recomendadas_Revision]\n",
       "Index: []"
      ]
     },
     "execution_count": 105,
     "metadata": {},
     "output_type": "execute_result"
    }
   ],
   "source": [
    "# Eliminar índices duplicados (mantener el primero)\n",
    "equipo_clean = equipo[~equipo.index.duplicated(keep='first')]\n",
    "\n",
    "equipo_clean[equipo_clean.index.duplicated()]"
   ]
  },
  {
   "cell_type": "code",
   "execution_count": 106,
   "metadata": {},
   "outputs": [
    {
     "data": {
      "text/html": [
       "<div>\n",
       "<style scoped>\n",
       "    .dataframe tbody tr th:only-of-type {\n",
       "        vertical-align: middle;\n",
       "    }\n",
       "\n",
       "    .dataframe tbody tr th {\n",
       "        vertical-align: top;\n",
       "    }\n",
       "\n",
       "    .dataframe thead th {\n",
       "        text-align: right;\n",
       "    }\n",
       "</style>\n",
       "<table border=\"1\" class=\"dataframe\">\n",
       "  <thead>\n",
       "    <tr style=\"text-align: right;\">\n",
       "      <th></th>\n",
       "      <th>Horas_Operativas</th>\n",
       "      <th>Fallo</th>\n",
       "      <th>Tipo_Equipo</th>\n",
       "      <th>Fabricante</th>\n",
       "      <th>Potencia_kW</th>\n",
       "      <th>Horas_Recomendadas_Revision</th>\n",
       "    </tr>\n",
       "    <tr>\n",
       "      <th>Fecha</th>\n",
       "      <th></th>\n",
       "      <th></th>\n",
       "      <th></th>\n",
       "      <th></th>\n",
       "      <th></th>\n",
       "      <th></th>\n",
       "    </tr>\n",
       "  </thead>\n",
       "  <tbody>\n",
       "    <tr>\n",
       "      <th>2021-01-01</th>\n",
       "      <td>708</td>\n",
       "      <td>0.0</td>\n",
       "      <td>Generador</td>\n",
       "      <td>Fabricante_B</td>\n",
       "      <td>393</td>\n",
       "      <td>522</td>\n",
       "    </tr>\n",
       "    <tr>\n",
       "      <th>2021-01-02</th>\n",
       "      <td>721</td>\n",
       "      <td>0.0</td>\n",
       "      <td>Generador</td>\n",
       "      <td>Fabricante_B</td>\n",
       "      <td>393</td>\n",
       "      <td>522</td>\n",
       "    </tr>\n",
       "    <tr>\n",
       "      <th>2021-01-03</th>\n",
       "      <td>737</td>\n",
       "      <td>0.0</td>\n",
       "      <td>Generador</td>\n",
       "      <td>Fabricante_B</td>\n",
       "      <td>393</td>\n",
       "      <td>522</td>\n",
       "    </tr>\n",
       "    <tr>\n",
       "      <th>2021-01-04</th>\n",
       "      <td>758</td>\n",
       "      <td>0.0</td>\n",
       "      <td>Generador</td>\n",
       "      <td>Fabricante_B</td>\n",
       "      <td>393</td>\n",
       "      <td>522</td>\n",
       "    </tr>\n",
       "    <tr>\n",
       "      <th>2021-01-05</th>\n",
       "      <td>779</td>\n",
       "      <td>0.0</td>\n",
       "      <td>Generador</td>\n",
       "      <td>Fabricante_B</td>\n",
       "      <td>393</td>\n",
       "      <td>522</td>\n",
       "    </tr>\n",
       "  </tbody>\n",
       "</table>\n",
       "</div>"
      ],
      "text/plain": [
       "            Horas_Operativas  Fallo Tipo_Equipo    Fabricante  Potencia_kW  \\\n",
       "Fecha                                                                        \n",
       "2021-01-01               708    0.0   Generador  Fabricante_B          393   \n",
       "2021-01-02               721    0.0   Generador  Fabricante_B          393   \n",
       "2021-01-03               737    0.0   Generador  Fabricante_B          393   \n",
       "2021-01-04               758    0.0   Generador  Fabricante_B          393   \n",
       "2021-01-05               779    0.0   Generador  Fabricante_B          393   \n",
       "\n",
       "            Horas_Recomendadas_Revision  \n",
       "Fecha                                    \n",
       "2021-01-01                          522  \n",
       "2021-01-02                          522  \n",
       "2021-01-03                          522  \n",
       "2021-01-04                          522  \n",
       "2021-01-05                          522  "
      ]
     },
     "execution_count": 106,
     "metadata": {},
     "output_type": "execute_result"
    }
   ],
   "source": [
    "# Convierte Timeseries a frecuencia especificada.\n",
    "equipo_fq = equipo_clean.asfreq('D') \n",
    "equipo_fq = equipo_clean.sort_index()\n",
    "equipo_fq.head()"
   ]
  },
  {
   "cell_type": "code",
   "execution_count": 107,
   "metadata": {},
   "outputs": [
    {
     "name": "stdout",
     "output_type": "stream",
     "text": [
      "Índice completo: True\n"
     ]
    }
   ],
   "source": [
    "# Verificar que un índice temporal está completo\n",
    "\n",
    "fecha_inicio = equipo_fq.index.min()\n",
    "fecha_fin = equipo_fq.index.max()\n",
    "date_range_completo = pd.date_range(start=fecha_inicio, end=fecha_fin, freq=equipo_fq.index.freq)\n",
    "\n",
    "print(f\"Índice completo: {(equipo_fq.index == date_range_completo).all()}\")"
   ]
  },
  {
   "cell_type": "markdown",
   "metadata": {},
   "source": [
    "## Separación datos train-test"
   ]
  },
  {
   "cell_type": "code",
   "execution_count": 108,
   "metadata": {},
   "outputs": [
    {
     "name": "stdout",
     "output_type": "stream",
     "text": [
      "Fechas train : 2021-01-01 00:00:00 --- 2024-12-01 00:00:00  (n=1431)\n",
      "Fechas test  : 2024-12-02 00:00:00 --- 2024-12-31 00:00:00  (n=30)\n"
     ]
    },
    {
     "data": {
      "image/png": "[encoded data removed]",
      "text/plain": [
       "<Figure size 1600x500 with 1 Axes>"
      ]
     },
     "metadata": {},
     "output_type": "display_data"
    }
   ],
   "source": [
    "steps = 30\n",
    "datos_train = equipo_fq[:-steps]\n",
    "datos_test  = equipo_fq[-steps:]\n",
    "print(f\"Fechas train : {datos_train.index.min()} --- {datos_train.index.max()}  (n={len(datos_train)})\")\n",
    "print(f\"Fechas test  : {datos_test.index.min()} --- {datos_test.index.max()}  (n={len(datos_test)})\")\n",
    "\n",
    "fig, ax = plt.subplots(figsize=(16, 5))\n",
    "datos_train['Horas_Operativas'].plot(ax=ax, label='train')\n",
    "datos_test['Horas_Operativas'].plot(ax=ax, label='test')\n",
    "ax.legend();"
   ]
  }
 ],
 "metadata": {
  "kernelspec": {
   "display_name": "Python 3",
   "language": "python",
   "name": "python3"
  },
  "language_info": {
   "codemirror_mode": {
    "name": "ipython",
    "version": 3
   },
   "file_extension": ".py",
   "mimetype": "text/x-python",
   "name": "python",
   "nbconvert_exporter": "python",
   "pygments_lexer": "ipython3",
   "version": "3.12.4"
  }
 },
 "nbformat": 4,
 "nbformat_minor": 2
}
