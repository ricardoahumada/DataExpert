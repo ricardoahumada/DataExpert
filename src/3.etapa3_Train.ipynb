{
 "cells": [
  {
   "cell_type": "markdown",
   "metadata": {},
   "source": [
    "# Solución etapa 3 - Training"
   ]
  },
  {
   "cell_type": "code",
   "execution_count": 2,
   "metadata": {},
   "outputs": [],
   "source": [
    "# Utilidades para print\n",
    "from utils.print_utils import tabl, headr, titl"
   ]
  },
  {
   "cell_type": "code",
   "execution_count": 3,
   "metadata": {},
   "outputs": [],
   "source": [
    "version_to_load='v3'"
   ]
  },
  {
   "cell_type": "code",
   "execution_count": 4,
   "metadata": {},
   "outputs": [
    {
     "name": "stdout",
     "output_type": "stream",
     "text": [
      "... Loading: ../data/preprocessed/preprocessed_data_v3.csv ...\n",
      "    Ubicacion       Fallo    Promedio_Horas_Entre_Fallos_por_mes    Promedio_Temperatura_C    Promedio_Vibracion_mm_s    Promedio_Horas_Operativas  Tipo_Equipo    Fabricante    Modelo      Potencia_kW    Horas_Recomendadas_Revision\n",
      "--  ------------  -------  -------------------------------------  ------------------------  -------------------------  ---------------------------  -------------  ------------  --------  -------------  -----------------------------\n",
      " 0  Planta Sur          1                                 133200                    103.35                       3.9                         37071  Motor          ABB           Z300               1706                           4455\n",
      " 1  Planta Este         1                                 298800                     57.58                       3.65                          250  Generador      GE            Y200               3432                           8213\n",
      " 2  Planta Norte        1                                  18000                     71.28                       2.31                        57943  Generador      Schneider     X100                269                           7647\n",
      " 3  Planta Sur          1                                  18000                     71.28                       2.31                        57943  Generador      Schneider     X100                269                           7647\n",
      " 4  Planta Este         1                                 324000                    121.04                       0.16                        89849  Compresor      Schneider     Z300                215                           3803\n",
      "(3172, 11)\n"
     ]
    }
   ],
   "source": [
    "# Cargar el dataset\n",
    "import pandas as pd\n",
    "csv_path = f'../data/preprocessed/preprocessed_data_{version_to_load}.csv'\n",
    "print('... Loading:', csv_path,'...')\n",
    "final_data = pd.read_csv(csv_path)\n",
    "\n",
    "tabl(final_data)"
   ]
  },
  {
   "cell_type": "code",
   "execution_count": 5,
   "metadata": {},
   "outputs": [],
   "source": [
    "target_column = 'Fallo'"
   ]
  },
  {
   "cell_type": "markdown",
   "metadata": {},
   "source": [
    "## Preprocesar"
   ]
  },
  {
   "cell_type": "code",
   "execution_count": 6,
   "metadata": {},
   "outputs": [
    {
     "name": "stdout",
     "output_type": "stream",
     "text": [
      "\n",
      "\u001b[1m\u001b[4m\u001b[94m** X: **\u001b[0m\n",
      "\n",
      "    Ubicacion       Promedio_Horas_Entre_Fallos_por_mes    Promedio_Temperatura_C    Promedio_Vibracion_mm_s    Promedio_Horas_Operativas  Tipo_Equipo    Fabricante    Modelo      Potencia_kW    Horas_Recomendadas_Revision\n",
      "--  ------------  -------------------------------------  ------------------------  -------------------------  ---------------------------  -------------  ------------  --------  -------------  -----------------------------\n",
      " 0  Planta Sur                                   133200                    103.35                       3.9                         37071  Motor          ABB           Z300               1706                           4455\n",
      " 1  Planta Este                                  298800                     57.58                       3.65                          250  Generador      GE            Y200               3432                           8213\n",
      " 2  Planta Norte                                  18000                     71.28                       2.31                        57943  Generador      Schneider     X100                269                           7647\n",
      " 3  Planta Sur                                    18000                     71.28                       2.31                        57943  Generador      Schneider     X100                269                           7647\n",
      " 4  Planta Este                                  324000                    121.04                       0.16                        89849  Compresor      Schneider     Z300                215                           3803\n",
      "(3172, 10)\n"
     ]
    }
   ],
   "source": [
    "# Dividir en variables predictoras (X) y objetivo (y)\n",
    "X = final_data.drop(columns=[target_column])\n",
    "\n",
    "y = final_data[target_column]\n",
    "\n",
    "print(titl('X:'))\n",
    "tabl(X)"
   ]
  },
  {
   "cell_type": "code",
   "execution_count": 7,
   "metadata": {},
   "outputs": [],
   "source": [
    "# Dividir en entrenamiento y prueba\n",
    "from sklearn.model_selection import train_test_split\n",
    "\n",
    "X_train, X_test, y_train, y_test = train_test_split(X, y, test_size=0.2, random_state=42)"
   ]
  },
  {
   "cell_type": "markdown",
   "metadata": {},
   "source": [
    "## Candidatos\n",
    "\n",
    "1. LogisticRegression\n",
    "2. GradientBoostingClassifier\n",
    "3. SVC (kernel='rbf')"
   ]
  },
  {
   "cell_type": "code",
   "execution_count": 8,
   "metadata": {},
   "outputs": [],
   "source": [
    "import numpy as np\n",
    "from sklearn.pipeline import Pipeline\n",
    "from sklearn.linear_model import LogisticRegression, SGDClassifier\n",
    "from sklearn.ensemble import RandomForestClassifier, GradientBoostingClassifier\n",
    "from sklearn.metrics import accuracy_score, f1_score\n",
    "from sklearn.preprocessing import StandardScaler, LabelEncoder, OneHotEncoder\n",
    "from sklearn.model_selection import cross_validate\n",
    "from sklearn.model_selection import ShuffleSplit\n",
    "from sklearn.compose import ColumnTransformer\n",
    "from sklearn.impute import SimpleImputer\n",
    "from sklearn.svm import SVC\n",
    "from sklearn.compose import make_column_selector as selector\n"
   ]
  },
  {
   "cell_type": "markdown",
   "metadata": {},
   "source": [
    "### Pipelines"
   ]
  },
  {
   "cell_type": "code",
   "execution_count": 9,
   "metadata": {},
   "outputs": [
    {
     "name": "stdout",
     "output_type": "stream",
     "text": [
      "\n",
      "\u001b[4mNumerical columns\u001b[0m\n",
      " ['Promedio_Horas_Entre_Fallos_por_mes', 'Promedio_Temperatura_C', 'Promedio_Vibracion_mm_s', 'Promedio_Horas_Operativas', 'Potencia_kW', 'Horas_Recomendadas_Revision']\n",
      "\n",
      "\u001b[4mCategorical columns\u001b[0m\n",
      " ['Ubicacion', 'Tipo_Equipo', 'Fabricante', 'Modelo']\n"
     ]
    }
   ],
   "source": [
    "numerical_columns_selector = selector(dtype_exclude=object)\n",
    "categorical_columns_selector = selector(dtype_include=object)\n",
    "\n",
    "numerical_columns = numerical_columns_selector(X)\n",
    "categorical_columns = categorical_columns_selector(X)\n",
    "\n",
    "\n",
    "print(headr(\"Numerical columns\"), numerical_columns)\n",
    "print(headr(\"Categorical columns\"), categorical_columns)"
   ]
  },
  {
   "cell_type": "code",
   "execution_count": 10,
   "metadata": {},
   "outputs": [],
   "source": [
    "# Preprocesamiento para variables categóricas\n",
    "categorical_transformer = Pipeline(steps=[\n",
    "    # ('imputer', SimpleImputer(strategy='most_frequent')),\n",
    "    ('onehot', OneHotEncoder(handle_unknown='ignore'))\n",
    "])\n",
    "\n",
    "# Preprocesamiento para variables continuas\n",
    "numerical_transformer = Pipeline(steps=[\n",
    "    # ('imputer', SimpleImputer(strategy='mean')),\n",
    "    ('scaler', StandardScaler())\n",
    "])\n",
    "\n",
    "# Combinar preprocesadores\n",
    "preprocessor = ColumnTransformer(\n",
    "    transformers=[\n",
    "        ('num', numerical_transformer, numerical_columns),\n",
    "        ('cat', categorical_transformer, categorical_columns)\n",
    "    ]\n",
    ")"
   ]
  },
  {
   "cell_type": "code",
   "execution_count": 11,
   "metadata": {},
   "outputs": [],
   "source": [
    "pipelines = {\n",
    "    \"LogisticRegression\": Pipeline([('preprocessor', preprocessor),('classifier', LogisticRegression())]),\n",
    "    # \"GradientBoostingClassifier\": Pipeline([('preprocessor', preprocessor),('classifier', GradientBoostingClassifier())]),\n",
    "    # \"SVC\": Pipeline([('preprocessor', preprocessor),('classifier', SVC(kernel='linear'))]),\n",
    "    # \"SGDClassifier\": Pipeline([('preprocessor', preprocessor),('classifier', SGDClassifier())]),\n",
    "}"
   ]
  },
  {
   "cell_type": "code",
   "execution_count": 12,
   "metadata": {},
   "outputs": [],
   "source": [
    "# Cargamos funciones para best_model\n",
    "from utils.best_model_utils import generate_learning_curves, generate_validation_curves, cv_train"
   ]
  },
  {
   "cell_type": "markdown",
   "metadata": {},
   "source": [
    "### CV"
   ]
  },
  {
   "cell_type": "code",
   "execution_count": 13,
   "metadata": {},
   "outputs": [],
   "source": [
    "# Config CV\n",
    "cvss = ShuffleSplit(n_splits=40, test_size=0.2, random_state=0)"
   ]
  },
  {
   "cell_type": "code",
   "execution_count": 14,
   "metadata": {},
   "outputs": [
    {
     "name": "stdout",
     "output_type": "stream",
     "text": [
      "\n",
      "\u001b[4mEntrenar LogisticRegression\u001b[0m\n",
      "\n",
      "test score (mean-std): 0.98 - 0.01\n",
      "train score (mean-std): 0.98 - 0.00\n",
      "params: {'C': 1.0, 'class_weight': None, 'dual': False, 'fit_intercept': True, 'intercept_scaling': 1, 'l1_ratio': None, 'max_iter': 100, 'multi_class': 'deprecated', 'n_jobs': None, 'penalty': 'l2', 'random_state': None, 'solver': 'lbfgs', 'tol': 0.0001, 'verbose': 0, 'warm_start': False}\n",
      "\n",
      "\u001b[1m\u001b[4m\u001b[94m** RESULTADOS: **\u001b[0m\n",
      "\n",
      "       LogisticRegression\n",
      "---  --------------------\n",
      "acc                  0.98\n",
      "f1                   0.99\n",
      "(2, 1)\n"
     ]
    }
   ],
   "source": [
    "# Aplicar CV\n",
    "results = {}\n",
    "\n",
    "for name, pipeline in pipelines.items():\n",
    "    print(headr(f\"Entrenar {name}\"))\n",
    "    results[name] = cv_train(name, pipeline, cvss, X_train, y_train, X_test, y_test)\n",
    "\n",
    "print(titl(\"Resultados:\"))\n",
    "results_df=pd.DataFrame(results)\n",
    "tabl(results_df)"
   ]
  },
  {
   "cell_type": "markdown",
   "metadata": {},
   "source": [
    "### Curva de aprendizaje\n"
   ]
  },
  {
   "cell_type": "code",
   "execution_count": null,
   "metadata": {},
   "outputs": [],
   "source": [
    "import matplotlib.pyplot as plt\n",
    "%matplotlib inline"
   ]
  },
  {
   "cell_type": "code",
   "execution_count": null,
   "metadata": {},
   "outputs": [],
   "source": [
    "# Aplicar LC\n",
    "train_sizes = np.linspace(0.1, 1.0, num=5, endpoint=True)\n",
    "\n",
    "for pipeline_name, pipeline_obj in pipelines.items():\n",
    "    generate_learning_curves(pipeline_name, pipeline_obj, X, y, train_sizes, cvss)"
   ]
  },
  {
   "cell_type": "markdown",
   "metadata": {},
   "source": [
    "### Curva validación"
   ]
  },
  {
   "cell_type": "code",
   "execution_count": null,
   "metadata": {},
   "outputs": [],
   "source": [
    "pname = 'LogisticRegression'\n",
    "Cs = [0.1, 1, 10, 100]\n",
    "# Cs = [5, 10, 15]\n",
    "generate_validation_curves(pname, pipelines[pname], X, y, 'classifier__C', Cs, cvss)"
   ]
  },
  {
   "cell_type": "markdown",
   "metadata": {},
   "source": [
    "## Afinar hiperparámentros"
   ]
  },
  {
   "cell_type": "markdown",
   "metadata": {},
   "source": [
    "#### LogisticRegression"
   ]
  },
  {
   "cell_type": "code",
   "execution_count": null,
   "metadata": {},
   "outputs": [],
   "source": [
    "from sklearn.model_selection import GridSearchCV\n",
    "\n",
    "pname = 'LogisticRegression'\n",
    "\n",
    "param_grid = {\n",
    "    'classifier__C': [5, 10, 15],\n",
    "    # 'classifier__penalty': ['l1', 'l2', 'elasticnet', None],\n",
    "    'classifier__solver': ['lbfgs', 'liblinear', 'newto-cg', 'newto-cholesky', 'sag', 'saga']\n",
    "    # 'classifier__max_iter': [1,10,100,1000]\n",
    "}\n",
    "\n",
    "grid_search = GridSearchCV(\n",
    "    pipelines[pname], param_grid, cv=cvss, scoring=\"accuracy\")\n",
    "\n",
    "grid_search.fit(X_train, y_train)\n",
    "\n",
    "print(headr(pname))\n",
    "print(\"Mejores hiperparámetros:\", grid_search.best_params_)\n",
    "print(f\"Mejor accuracy: {grid_search.best_score_:.2f}\")"
   ]
  },
  {
   "cell_type": "markdown",
   "metadata": {},
   "source": [
    "### re-entrenar + re-evaluar\n"
   ]
  },
  {
   "cell_type": "code",
   "execution_count": null,
   "metadata": {},
   "outputs": [],
   "source": [
    "# Definir pipelines con mejores hiperparámetros\n",
    "pipelines = {\n",
    "    \"LogisticRegression\": Pipeline([('preprocessor', preprocessor),('classifier', LogisticRegression(C=5,solver='lbfgs'))]),\n",
    "    # \"GradientBoostingClassifier\": Pipeline([('preprocessor', preprocessor),('classifier', GradientBoostingClassifier())]),\n",
    "    \"SVC\": Pipeline([('preprocessor', preprocessor),('classifier', SVC(kernel='linear'))]),\n",
    "    \"SGDClassifier\": Pipeline([('preprocessor', preprocessor),('classifier', SGDClassifier())]),\n",
    "}\n",
    "\n",
    "\n",
    "# Aplicar CV\n",
    "results = {}\n",
    "\n",
    "for name, pipeline in pipelines.items():\n",
    "    print(headr(f\"Entrenar {name}\"))\n",
    "    results[name] = cv_train(name, pipeline, cvss, X_train, y_train, X_test, y_test)"
   ]
  },
  {
   "cell_type": "markdown",
   "metadata": {},
   "source": [
    "## Comparar resultados"
   ]
  },
  {
   "cell_type": "code",
   "execution_count": null,
   "metadata": {},
   "outputs": [],
   "source": [
    "print(titl(\"Resultados:\"))\n",
    "results_df=pd.DataFrame(results)\n",
    "tabl(results_df)"
   ]
  },
  {
   "cell_type": "code",
   "execution_count": null,
   "metadata": {},
   "outputs": [],
   "source": [
    "# Guardar resultado\n",
    "result_path= f'../results/result_{version_to_load}.csv'\n",
    "results_df.to_csv(result_path, index=False)"
   ]
  },
  {
   "cell_type": "markdown",
   "metadata": {},
   "source": [
    "## Desición\n",
    "> Ninguno\n",
    "\n",
    "- Muy por debajo de lo que se necesita\n",
    "- Una columna con un peso descompensado en el resultado\n",
    "- Se debe mejorar enfocando hacia interrelaciones a nivel de mes"
   ]
  }
 ],
 "metadata": {
  "kernelspec": {
   "display_name": "Python 3",
   "language": "python",
   "name": "python3"
  },
  "language_info": {
   "codemirror_mode": {
    "name": "ipython",
    "version": 3
   },
   "file_extension": ".py",
   "mimetype": "text/x-python",
   "name": "python",
   "nbconvert_exporter": "python",
   "pygments_lexer": "ipython3",
   "version": "3.12.4"
  }
 },
 "nbformat": 4,
 "nbformat_minor": 2
}
