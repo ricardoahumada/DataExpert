{
 "cells": [
  {
   "cell_type": "markdown",
   "metadata": {},
   "source": [
    "## Filtrado y agrupamiento:"
   ]
  },
  {
   "cell_type": "code",
   "execution_count": 3,
   "metadata": {},
   "outputs": [],
   "source": [
    "import data_utils as du"
   ]
  },
  {
   "cell_type": "code",
   "execution_count": 20,
   "metadata": {},
   "outputs": [
    {
     "data": {
      "text/plain": [
       "{'E013': 250,\n",
       " 'E018': 256,\n",
       " 'E004': 270,\n",
       " 'E011': 239,\n",
       " 'E012': 223,\n",
       " 'E008': 250,\n",
       " 'E005': 254,\n",
       " 'E017': 262,\n",
       " 'E002': 206,\n",
       " 'E016': 249,\n",
       " 'E009': 242,\n",
       " 'E006': 239,\n",
       " 'E010': 272,\n",
       " 'E003': 260,\n",
       " 'E019': 266,\n",
       " 'E015': 253,\n",
       " 'E014': 237,\n",
       " 'E020': 269,\n",
       " 'E007': 243,\n",
       " 'E001': 240}"
      ]
     },
     "execution_count": 20,
     "metadata": {},
     "output_type": "execute_result"
    }
   ],
   "source": [
    "# Contar el número total de órdenes de mantenimiento realizadas para cada equipo (ID_Equipo).\n",
    "fhistorico = '../data/Historicos_Ordenes.csv'\n",
    "dhistorico = du.read_csv(fhistorico)\n",
    "# print(dhistorico)\n",
    "\n",
    "\n",
    "def contar_ordenes_por_equipo(data, t_mant):\n",
    "    if not data:\n",
    "        return None\n",
    "\n",
    "    mant_x_equipo = {}\n",
    "\n",
    "    for row in data:\n",
    "        if len(row) > 1:\n",
    "            equipo = row[1]\n",
    "            tipo_mant = row[3]\n",
    "            if tipo_mant == t_mant:\n",
    "                if equipo not in mant_x_equipo:\n",
    "                    mant_x_equipo[equipo] = 0\n",
    "\n",
    "                mant_x_equipo[equipo] += 1\n",
    "\n",
    "    return mant_x_equipo\n",
    "\n",
    "\n",
    "contar_ordenes_por_equipo(dhistorico[1], 'Correctivo')"
   ]
  },
  {
   "cell_type": "code",
   "execution_count": 36,
   "metadata": {},
   "outputs": [
    {
     "name": "stdout",
     "output_type": "stream",
     "text": [
      "El promedio de vida útil de equipos es: 19\n"
     ]
    }
   ],
   "source": [
    "# Calcular la duración promedio de vida útil de los equipos en el dataset Caracteristicas_Equipos.csv.\n",
    "\n",
    "import statistics as st\n",
    "\n",
    "fcaract = '../data/Caracteristicas_Equipos.csv'\n",
    "dcaract = du.read_csv(fcaract)\n",
    "\n",
    "vida_util = map(lambda aD:int(aD[4]),dcaract[1])\n",
    "\n",
    "promedio_vida_util = st.mean(vida_util)\n",
    "print('El promedio de vida útil de equipos es: {0}'.format(promedio_vida_util) )\n",
    "\n",
    "\n",
    "\n",
    "\n"
   ]
  },
  {
   "cell_type": "code",
   "execution_count": null,
   "metadata": {},
   "outputs": [
    {
     "name": "stdout",
     "output_type": "stream",
     "text": [
      "SQL: SELECT costo_mantenimiento FROM historicos_ordenes WHERE tipo_mantenimiento='Correctivo'\n",
      "Database conn successful\n",
      "El coste promoedio de ordenes de tipo correctivo es: 2711.41\n"
     ]
    }
   ],
   "source": [
    "# Filtrar las órdenes de trabajo para identificar las de tipo \"Correctivo\" y calcular el costo promedio de estas.\n",
    "\n",
    "import statistics as st\n",
    "\n",
    "\n",
    "SQL = \"SELECT costo_mantenimiento FROM historicos_ordenes WHERE tipo_mantenimiento='Correctivo'\"\n",
    "\n",
    "dhistorico_correctivo = du.get_data_for_sql(SQL)\n",
    "\n",
    "costo_correctivo = map(lambda aD: aD[0], dhistorico_correctivo)\n",
    "\n",
    "promedio_costo_correctivo = round(st.mean(costo_correctivo), 2)\n",
    "\n",
    "\n",
    "print('El coste promoedio de ordenes de tipo correctivo es: {0}'.format(promedio_costo_correctivo))"
   ]
  }
 ],
 "metadata": {
  "kernelspec": {
   "display_name": "Python 3",
   "language": "python",
   "name": "python3"
  },
  "language_info": {
   "codemirror_mode": {
    "name": "ipython",
    "version": 3
   },
   "file_extension": ".py",
   "mimetype": "text/x-python",
   "name": "python",
   "nbconvert_exporter": "python",
   "pygments_lexer": "ipython3",
   "version": "3.12.4"
  }
 },
 "nbformat": 4,
 "nbformat_minor": 2
}
