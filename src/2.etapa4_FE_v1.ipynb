{
 "cells": [
  {
   "cell_type": "markdown",
   "metadata": {},
   "source": [
    "# Solución etapa 3 - FE + Training"
   ]
  },
  {
   "cell_type": "code",
   "execution_count": null,
   "metadata": {},
   "outputs": [],
   "source": [
    "# Utilidades para print\n",
    "from utils.print_utils import tabl, headr, titl"
   ]
  },
  {
   "cell_type": "code",
   "execution_count": null,
   "metadata": {},
   "outputs": [],
   "source": [
    "# Cargar los datasets\n",
    "import pandas as pd\n",
    "\n",
    "historicos_ordenes_cleaned = pd.read_csv('../data/cleaned/historicos_ordenes_cleaned.csv')\n",
    "registros_condiciones_cleaned = pd.read_csv('../data/cleaned/registros_condiciones_cleaned.csv')\n",
    "caracteristicas_equipos_cleaned = pd.read_csv('../data/cleaned/caracteristicas_equipos_cleaned.csv')\n"
   ]
  },
  {
   "cell_type": "markdown",
   "metadata": {},
   "source": [
    "## Feature eng"
   ]
  },
  {
   "cell_type": "markdown",
   "metadata": {},
   "source": [
    "### Target"
   ]
  },
  {
   "cell_type": "code",
   "execution_count": null,
   "metadata": {},
   "outputs": [],
   "source": [
    "# Generar target\n",
    "\n",
    "target_column=\"Fallo\"\n",
    "\n",
    "def code_target(val):\n",
    "    if val == 'Correctivo':\n",
    "        return 1\n",
    "    else:\n",
    "        return 0\n",
    "\n",
    "\n",
    "historicos_ordenes_cleaned[target_column] = historicos_ordenes_cleaned[\"Tipo_Mantenimiento\"].apply(code_target)\n",
    "historicos_ordenes_cleaned.drop(\"Tipo_Mantenimiento\", axis=1, inplace=True)"
   ]
  },
  {
   "cell_type": "markdown",
   "metadata": {},
   "source": [
    "### historicos_ordenes"
   ]
  },
  {
   "cell_type": "code",
   "execution_count": null,
   "metadata": {},
   "outputs": [],
   "source": [
    "tabl(historicos_ordenes_cleaned)"
   ]
  },
  {
   "cell_type": "code",
   "execution_count": null,
   "metadata": {},
   "outputs": [],
   "source": [
    "historicos_ordenes_cleaned['Fecha'] = pd.to_datetime(historicos_ordenes_cleaned['Fecha'])\n",
    "\n",
    "historicos_ordenes_cleaned['Año'] = historicos_ordenes_cleaned['Fecha'].dt.year\n",
    "historicos_ordenes_cleaned['Mes'] = historicos_ordenes_cleaned['Fecha'].dt.month\n",
    "historicos_ordenes_cleaned['Día'] = historicos_ordenes_cleaned['Fecha'].dt.day\n",
    "\n",
    "tabl(historicos_ordenes_cleaned)"
   ]
  },
  {
   "cell_type": "code",
   "execution_count": null,
   "metadata": {},
   "outputs": [],
   "source": [
    "# Tiempo medio entre fallos por fecha\n",
    "\n",
    "# Filtrar solo los registros con fallos\n",
    "fallos = historicos_ordenes_cleaned[historicos_ordenes_cleaned['Fallo'] == 1].copy()\n",
    "\n",
    "# Ordenar por fecha\n",
    "fallos = fallos.sort_values(by=['ID_Equipo', 'Fecha'])\n",
    "\n",
    "# Calcular los intervalos entre fallos consecutivos\n",
    "fallos['Intervalo'] = fallos.groupby('ID_Equipo')['Fecha'].diff()\n",
    "fallos['Intervalo_Horas'] = fallos['Intervalo'].dt.total_seconds() / 3600\n",
    "\n",
    "# Calcular el Tiempo medio entre fallos por equipo\n",
    "mtbf_por_idequipo = fallos.groupby('ID_Equipo')['Intervalo_Horas'].mean().reset_index()\n",
    "mtbf_por_idequipo.rename(columns={'Intervalo_Horas': 'Tiempo_medio_entre_fallos(h)'}, inplace=True)\n",
    "\n",
    "tabl(mtbf_por_idequipo)"
   ]
  },
  {
   "cell_type": "code",
   "execution_count": null,
   "metadata": {},
   "outputs": [],
   "source": [
    "# Mezclar historicos_ordenes_cleaned + mtbf_por_idequipo\n",
    "\n",
    "historicos_mtbf = pd.merge(historicos_ordenes_cleaned, mtbf_por_idequipo, on=['ID_Equipo'], how='left')\n",
    "tabl(historicos_mtbf)"
   ]
  },
  {
   "cell_type": "code",
   "execution_count": null,
   "metadata": {},
   "outputs": [],
   "source": [
    "# Eliminar columnas sin valor de historicos_mtbf\n",
    "historicos_mtbf_clean = historicos_mtbf.drop(columns=['ID_Orden','Costo_Mantenimiento','Duracion_Horas','Fecha'])\n",
    "tabl(historicos_mtbf_clean)"
   ]
  },
  {
   "cell_type": "markdown",
   "metadata": {},
   "source": [
    "### registros_condiciones"
   ]
  },
  {
   "cell_type": "code",
   "execution_count": null,
   "metadata": {},
   "outputs": [],
   "source": [
    "registros_condiciones_cleaned.drop(columns=['ID_Registro'], index=1, inplace=True)\n",
    "\n",
    "registros_condiciones_cleaned['Fecha']=pd.to_datetime(registros_condiciones_cleaned['Fecha'])\n",
    "registros_condiciones_cleaned['Año'] = registros_condiciones_cleaned['Fecha'].dt.year\n",
    "registros_condiciones_cleaned['Mes'] = registros_condiciones_cleaned['Fecha'].dt.month\n",
    "registros_condiciones_cleaned['Día'] = registros_condiciones_cleaned['Fecha'].dt.day\n",
    "\n",
    "tabl(registros_condiciones_cleaned)"
   ]
  },
  {
   "cell_type": "code",
   "execution_count": null,
   "metadata": {},
   "outputs": [],
   "source": [
    "# Agrupar por 'ID_Equipo', 'Año' y 'Mes', y calcular los promedios\n",
    "promedios_por_equipo_mes = (\n",
    "    registros_condiciones_cleaned.groupby(['ID_Equipo', 'Año', 'Mes','Día'])[['Temperatura_C', 'Vibracion_mm_s', 'Horas_Operativas']]\n",
    "      .mean()\n",
    "      .reset_index()\n",
    ")\n",
    "\n",
    "# Renombrar las columnas para claridad\n",
    "promedios_por_equipo_mes.rename(columns={\n",
    "    'Temperatura_C': 'Promedio_Temperatura_C',\n",
    "    'Vibracion_mm_s': 'Promedio_Vibracion_mm_s',\n",
    "    'Horas_Operativas': 'Promedio_Horas_Operativas'\n",
    "}, inplace=True)\n",
    "\n",
    "tabl(promedios_por_equipo_mes)"
   ]
  },
  {
   "cell_type": "code",
   "execution_count": null,
   "metadata": {},
   "outputs": [],
   "source": [
    "promedios_por_equipo_mes.isna().sum()\n",
    "promedios_por_equipo_mes.dropna(inplace=True)\n",
    "promedios_por_equipo_mes.shape"
   ]
  },
  {
   "cell_type": "markdown",
   "metadata": {},
   "source": [
    "### Unir merged_hitorico_registro + promedios + caracteristicas"
   ]
  },
  {
   "cell_type": "code",
   "execution_count": null,
   "metadata": {},
   "outputs": [],
   "source": [
    "# Unir datasets\n",
    "final_data = pd.merge(historicos_mtbf_clean, promedios_por_equipo_mes, on=['ID_Equipo','Año','Mes'], how='inner')\n",
    "final_data = pd.merge(final_data, caracteristicas_equipos_cleaned, on='ID_Equipo', how='inner')\n",
    "\n",
    "tabl(final_data)"
   ]
  },
  {
   "cell_type": "code",
   "execution_count": null,
   "metadata": {},
   "outputs": [],
   "source": [
    "# Limpiar columnas accesorias\n",
    "final_data.drop(columns=['ID_Equipo','Año', 'Mes', 'Día_x', 'Día_y'], inplace=True)\n",
    "\n",
    "tabl(final_data)"
   ]
  },
  {
   "cell_type": "markdown",
   "metadata": {},
   "source": [
    "### Duplicados"
   ]
  },
  {
   "cell_type": "code",
   "execution_count": null,
   "metadata": {},
   "outputs": [],
   "source": [
    "# Eliminar duplicados\n",
    "\n",
    "print(headr('Duplicados final_data:'),final_data.duplicated().sum())\n",
    "# final_data.drop_duplicates(inplace=True)\n",
    "# tabl(final_data)"
   ]
  },
  {
   "cell_type": "code",
   "execution_count": null,
   "metadata": {},
   "outputs": [],
   "source": [
    "# Verificamos nulos\n",
    "print(headr('Nulos final_data:'),final_data.isna().sum())"
   ]
  },
  {
   "cell_type": "code",
   "execution_count": null,
   "metadata": {},
   "outputs": [],
   "source": [
    "columnas_con_nulos = final_data.columns[final_data.isna().any()].tolist()\n",
    "columnas_con_nulos"
   ]
  },
  {
   "cell_type": "code",
   "execution_count": null,
   "metadata": {},
   "outputs": [],
   "source": [
    "# Imputamos nulos\n",
    "from sklearn.impute import SimpleImputer\n",
    "\n",
    "imputer = SimpleImputer(strategy=\"median\")\n",
    "\n",
    "# final_data[columnas_con_nulos] = imputer.fit_transform(final_data[columnas_con_nulos])"
   ]
  },
  {
   "cell_type": "code",
   "execution_count": null,
   "metadata": {},
   "outputs": [],
   "source": [
    "tabl(final_data)"
   ]
  },
  {
   "cell_type": "code",
   "execution_count": null,
   "metadata": {},
   "outputs": [],
   "source": [
    "final_data.info()"
   ]
  },
  {
   "cell_type": "markdown",
   "metadata": {},
   "source": [
    "### Volvemos a explorar con columnas codificadas\n"
   ]
  },
  {
   "cell_type": "code",
   "execution_count": null,
   "metadata": {},
   "outputs": [],
   "source": [
    "# Extraer columnas numéricas y categóricas\n",
    "from sklearn.compose import make_column_selector as selector\n",
    "\n",
    "numerical_columns_selector = selector(dtype_exclude=object)\n",
    "categorical_columns_selector = selector(dtype_include=object)\n",
    "\n",
    "numerical_columns = numerical_columns_selector(final_data)\n",
    "categorical_columns = categorical_columns_selector(final_data)\n",
    "\n",
    "print(headr(\"Numerical columns\"), numerical_columns)\n",
    "print(headr(\"Categorical columns\"), categorical_columns)"
   ]
  },
  {
   "cell_type": "code",
   "execution_count": null,
   "metadata": {},
   "outputs": [],
   "source": [
    "from sklearn.preprocessing import LabelEncoder, StandardScaler\n",
    "\n",
    "final_data_coded =final_data.copy()\n",
    "final_data_coded[categorical_columns] =final_data_coded[categorical_columns].apply(LabelEncoder().fit_transform)   \n",
    "tabl(final_data_coded)"
   ]
  },
  {
   "cell_type": "code",
   "execution_count": null,
   "metadata": {},
   "outputs": [],
   "source": [
    "# Evaluamos la aportación de cada columna\n",
    "from sklearn.feature_selection import SelectKBest\n",
    "from sklearn.feature_selection import f_classif,chi2\n",
    "\n",
    "X= final_data_coded.drop(target_column, axis=1)\n",
    "y = final_data_coded[target_column]\n",
    "\n",
    "fvalue_selector = SelectKBest(f_classif, k=2)\n",
    "\n",
    "X_kbest = fvalue_selector.fit(X,y)\n",
    "\n",
    "feature_scores = pd.DataFrame({\"Feature\": X.columns,\"Score\": X_kbest.scores_}).sort_values(by=\"Score\", ascending=False)\n",
    "\n",
    "print(headr(\"Feature scores\"))\n",
    "round(feature_scores,2)"
   ]
  },
  {
   "cell_type": "markdown",
   "metadata": {},
   "source": [
    "> Una característica tiene demasiado peso y determina toda la clasificación"
   ]
  },
  {
   "cell_type": "code",
   "execution_count": null,
   "metadata": {},
   "outputs": [],
   "source": [
    "# Eliminamos columnas sin peso\n",
    "\n",
    "columns_to_drop = feature_scores[feature_scores['Score'] == 0]['Feature']\n",
    "final_data.drop(columns=columns_to_drop, inplace=True)\n",
    "tabl(final_data)"
   ]
  },
  {
   "cell_type": "markdown",
   "metadata": {},
   "source": [
    "## Exportar "
   ]
  },
  {
   "cell_type": "code",
   "execution_count": null,
   "metadata": {},
   "outputs": [],
   "source": [
    "final_data.to_csv('../data/preprocessed/preprocessed_data_v1.csv', index=False)"
   ]
  }
 ],
 "metadata": {
  "kernelspec": {
   "display_name": "Python 3",
   "language": "python",
   "name": "python3"
  },
  "language_info": {
   "codemirror_mode": {
    "name": "ipython",
    "version": 3
   },
   "file_extension": ".py",
   "mimetype": "text/x-python",
   "name": "python",
   "nbconvert_exporter": "python",
   "pygments_lexer": "ipython3",
   "version": "3.12.4"
  }
 },
 "nbformat": 4,
 "nbformat_minor": 2
}
