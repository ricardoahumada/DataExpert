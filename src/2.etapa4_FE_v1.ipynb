{
 "cells": [
  {
   "cell_type": "markdown",
   "metadata": {},
   "source": [
    "# Solución etapa 4 - FE + Training"
   ]
  },
  {
   "cell_type": "code",
   "execution_count": 64,
   "metadata": {},
   "outputs": [],
   "source": [
    "# Utilidades para print\n",
    "from utils.print_utils import tabl, headr, titl"
   ]
  },
  {
   "cell_type": "code",
   "execution_count": 65,
   "metadata": {},
   "outputs": [],
   "source": [
    "# Cargar los datasets\n",
    "import pandas as pd\n",
    "\n",
    "historicos_ordenes_cleaned = pd.read_csv('../data/cleaned/historicos_ordenes_cleaned.csv')\n",
    "registros_condiciones_cleaned = pd.read_csv('../data/cleaned/registros_condiciones_cleaned.csv')\n",
    "caracteristicas_equipos_cleaned = pd.read_csv('../data/cleaned/caracteristicas_equipos_cleaned.csv')\n"
   ]
  },
  {
   "cell_type": "markdown",
   "metadata": {},
   "source": [
    "## Feature eng"
   ]
  },
  {
   "cell_type": "markdown",
   "metadata": {},
   "source": [
    "### Target"
   ]
  },
  {
   "cell_type": "code",
   "execution_count": 66,
   "metadata": {},
   "outputs": [],
   "source": [
    "# Generar target\n",
    "\n",
    "target_column=\"Fallo\"\n",
    "\n",
    "def code_target(val):\n",
    "    if val == 'Correctivo':\n",
    "        return 1\n",
    "    else:\n",
    "        return 0\n",
    "\n",
    "\n",
    "historicos_ordenes_cleaned[target_column] = historicos_ordenes_cleaned[\"Tipo_Mantenimiento\"].apply(code_target)\n",
    "historicos_ordenes_cleaned.drop(\"Tipo_Mantenimiento\", axis=1, inplace=True)"
   ]
  },
  {
   "cell_type": "markdown",
   "metadata": {},
   "source": [
    "### historicos_ordenes"
   ]
  },
  {
   "cell_type": "code",
   "execution_count": 67,
   "metadata": {},
   "outputs": [
    {
     "name": "stdout",
     "output_type": "stream",
     "text": [
      "      ID_Orden    ID_Equipo  Fecha         Costo_Mantenimiento    Duracion_Horas  Ubicacion      Fallo\n",
      "--  ----------  -----------  ----------  ---------------------  ----------------  -----------  -------\n",
      " 0           1          382  2021-01-01                   2619                 5  Ubicacion_A        1\n",
      " 1           2          350  2021-01-01                   2619                 5  Ubicacion_A        1\n",
      " 2           3          302  2021-01-02                   2619                 5  Ubicacion_B        1\n",
      " 3           4           55  2021-01-02                   1556                 2  Ubicacion_D        1\n",
      " 4           5           89  2021-01-02                   2619                 5  Ubicacion_B        1\n",
      "(31866, 7)\n"
     ]
    }
   ],
   "source": [
    "tabl(historicos_ordenes_cleaned)"
   ]
  },
  {
   "cell_type": "code",
   "execution_count": 68,
   "metadata": {},
   "outputs": [
    {
     "name": "stdout",
     "output_type": "stream",
     "text": [
      "      ID_Orden    ID_Equipo  Fecha                  Costo_Mantenimiento    Duracion_Horas  Ubicacion      Fallo\n",
      "--  ----------  -----------  -------------------  ---------------------  ----------------  -----------  -------\n",
      " 0           1          382  2021-01-01 00:00:00                   2619                 5  Ubicacion_A        1\n",
      " 1           2          350  2021-01-01 00:00:00                   2619                 5  Ubicacion_A        1\n",
      " 2           3          302  2021-01-02 00:00:00                   2619                 5  Ubicacion_B        1\n",
      " 3           4           55  2021-01-02 00:00:00                   1556                 2  Ubicacion_D        1\n",
      " 4           5           89  2021-01-02 00:00:00                   2619                 5  Ubicacion_B        1\n",
      "(31866, 7)\n"
     ]
    }
   ],
   "source": [
    "historicos_ordenes_cleaned['Fecha'] = pd.to_datetime(historicos_ordenes_cleaned['Fecha'])\n",
    "\n",
    "# historicos_ordenes_cleaned['Año'] = historicos_ordenes_cleaned['Fecha'].dt.year\n",
    "# historicos_ordenes_cleaned['Mes'] = historicos_ordenes_cleaned['Fecha'].dt.month\n",
    "# historicos_ordenes_cleaned['Día'] = historicos_ordenes_cleaned['Fecha'].dt.day\n",
    "\n",
    "tabl(historicos_ordenes_cleaned)"
   ]
  },
  {
   "cell_type": "markdown",
   "metadata": {},
   "source": [
    "### registros_condiciones"
   ]
  },
  {
   "cell_type": "code",
   "execution_count": 69,
   "metadata": {},
   "outputs": [
    {
     "name": "stdout",
     "output_type": "stream",
     "text": [
      "      ID_Equipo  Fecha                  Temperatura_C    Vibracion_mm_s    Horas_Operativas\n",
      "--  -----------  -------------------  ---------------  ----------------  ------------------\n",
      " 0            1  2021-01-01 00:00:00          36.5871           4.43038                 579\n",
      " 2          446  2021-01-01 00:00:00          47.1765           7.11696                 263\n",
      " 3          107  2021-01-01 00:00:00          76.4046           2.69691                 491\n",
      " 4          108  2021-01-01 00:00:00          50.7293           6.99677                 589\n",
      " 5          445  2021-01-01 00:00:00          62.5769           7.93556                 519\n",
      "(730499, 5)\n"
     ]
    }
   ],
   "source": [
    "registros_condiciones_cleaned.drop(columns=['ID_Registro'], index=1, inplace=True)\n",
    "\n",
    "registros_condiciones_cleaned['Fecha']=pd.to_datetime(registros_condiciones_cleaned['Fecha'])\n",
    "# registros_condiciones_cleaned['Año'] = registros_condiciones_cleaned['Fecha'].dt.year\n",
    "# registros_condiciones_cleaned['Mes'] = registros_condiciones_cleaned['Fecha'].dt.month\n",
    "# registros_condiciones_cleaned['Día'] = registros_condiciones_cleaned['Fecha'].dt.day\n",
    "\n",
    "tabl(registros_condiciones_cleaned)"
   ]
  },
  {
   "cell_type": "markdown",
   "metadata": {},
   "source": [
    "### Unir registro + hitorico + caracteristicas"
   ]
  },
  {
   "cell_type": "code",
   "execution_count": 70,
   "metadata": {},
   "outputs": [
    {
     "name": "stdout",
     "output_type": "stream",
     "text": [
      "      ID_Equipo  Fecha                  Temperatura_C    Vibracion_mm_s    Horas_Operativas    ID_Orden    Costo_Mantenimiento    Duracion_Horas    Ubicacion    Fallo  Tipo_Equipo    Fabricante    Modelo      Potencia_kW    Horas_Recomendadas_Revision\n",
      "--  -----------  -------------------  ---------------  ----------------  ------------------  ----------  ---------------------  ----------------  -----------  -------  -------------  ------------  --------  -------------  -----------------------------\n",
      " 0            1  2021-01-01 00:00:00          36.5871           4.43038                 579         nan                    nan               nan          nan      nan  Bomba          Fabricante_A  Modelo_8            432                            657\n",
      " 1          446  2021-01-01 00:00:00          47.1765           7.11696                 263         nan                    nan               nan          nan      nan  Generador      Fabricante_C  Modelo_2             95                            561\n",
      " 2          107  2021-01-01 00:00:00          76.4046           2.69691                 491         nan                    nan               nan          nan      nan  Compresor      Fabricante_A  Modelo_7            195                            748\n",
      " 3          108  2021-01-01 00:00:00          50.7293           6.99677                 589         nan                    nan               nan          nan      nan  Compresor      Fabricante_A  Modelo_9            181                            560\n",
      " 4          445  2021-01-01 00:00:00          62.5769           7.93556                 519         nan                    nan               nan          nan      nan  Compresor      Fabricante_A  Modelo_5             92                            586\n",
      "(730736, 15)\n"
     ]
    }
   ],
   "source": [
    "# Unir datasets\n",
    "final_data = pd.merge(registros_condiciones_cleaned, historicos_ordenes_cleaned, on=['ID_Equipo','Fecha'], how='left')\n",
    "final_data = pd.merge(final_data, caracteristicas_equipos_cleaned, on='ID_Equipo', how='inner')\n",
    "\n",
    "tabl(final_data)"
   ]
  },
  {
   "cell_type": "code",
   "execution_count": 71,
   "metadata": {},
   "outputs": [
    {
     "data": {
      "text/plain": [
       "Index(['ID_Equipo', 'Fecha', 'Temperatura_C', 'Vibracion_mm_s',\n",
       "       'Horas_Operativas', 'ID_Orden', 'Costo_Mantenimiento', 'Duracion_Horas',\n",
       "       'Ubicacion', 'Fallo', 'Tipo_Equipo', 'Fabricante', 'Modelo',\n",
       "       'Potencia_kW', 'Horas_Recomendadas_Revision'],\n",
       "      dtype='object')"
      ]
     },
     "execution_count": 71,
     "metadata": {},
     "output_type": "execute_result"
    }
   ],
   "source": [
    "final_data.columns"
   ]
  },
  {
   "cell_type": "code",
   "execution_count": 72,
   "metadata": {},
   "outputs": [
    {
     "name": "stdout",
     "output_type": "stream",
     "text": [
      "      ID_Equipo  Fecha                  Temperatura_C    Vibracion_mm_s    Horas_Operativas    Fallo  Tipo_Equipo    Fabricante    Modelo      Potencia_kW    Horas_Recomendadas_Revision\n",
      "--  -----------  -------------------  ---------------  ----------------  ------------------  -------  -------------  ------------  --------  -------------  -----------------------------\n",
      " 0            1  2021-01-01 00:00:00          36.5871           4.43038                 579      nan  Bomba          Fabricante_A  Modelo_8            432                            657\n",
      " 1          446  2021-01-01 00:00:00          47.1765           7.11696                 263      nan  Generador      Fabricante_C  Modelo_2             95                            561\n",
      " 2          107  2021-01-01 00:00:00          76.4046           2.69691                 491      nan  Compresor      Fabricante_A  Modelo_7            195                            748\n",
      " 3          108  2021-01-01 00:00:00          50.7293           6.99677                 589      nan  Compresor      Fabricante_A  Modelo_9            181                            560\n",
      " 4          445  2021-01-01 00:00:00          62.5769           7.93556                 519      nan  Compresor      Fabricante_A  Modelo_5             92                            586\n",
      "(730736, 11)\n"
     ]
    }
   ],
   "source": [
    "# Limpiar columnas accesorias\n",
    "final_data.drop(columns=['ID_Orden','Costo_Mantenimiento', 'Duracion_Horas', 'Ubicacion'], inplace=True)\n",
    "\n",
    "tabl(final_data)"
   ]
  },
  {
   "cell_type": "markdown",
   "metadata": {},
   "source": [
    "### Duplicados"
   ]
  },
  {
   "cell_type": "code",
   "execution_count": 73,
   "metadata": {},
   "outputs": [
    {
     "name": "stdout",
     "output_type": "stream",
     "text": [
      "\n",
      "\u001b[4mDuplicados final_data:\u001b[0m\n",
      " 0\n"
     ]
    }
   ],
   "source": [
    "# Eliminar duplicados\n",
    "\n",
    "print(headr('Duplicados final_data:'),final_data.duplicated().sum())\n",
    "# final_data.drop_duplicates(inplace=True)\n",
    "# tabl(final_data)"
   ]
  },
  {
   "cell_type": "code",
   "execution_count": 74,
   "metadata": {},
   "outputs": [
    {
     "name": "stdout",
     "output_type": "stream",
     "text": [
      "\n",
      "\u001b[4mNulos final_data:\u001b[0m\n",
      " ID_Equipo                           0\n",
      "Fecha                               0\n",
      "Temperatura_C                       0\n",
      "Vibracion_mm_s                      0\n",
      "Horas_Operativas                    0\n",
      "Fallo                          698870\n",
      "Tipo_Equipo                         0\n",
      "Fabricante                          0\n",
      "Modelo                              0\n",
      "Potencia_kW                         0\n",
      "Horas_Recomendadas_Revision         0\n",
      "dtype: int64\n"
     ]
    }
   ],
   "source": [
    "# Verificamos nulos\n",
    "print(headr('Nulos final_data:'),final_data.isna().sum())"
   ]
  },
  {
   "cell_type": "code",
   "execution_count": 75,
   "metadata": {},
   "outputs": [
    {
     "data": {
      "text/plain": [
       "['Fallo']"
      ]
     },
     "execution_count": 75,
     "metadata": {},
     "output_type": "execute_result"
    }
   ],
   "source": [
    "columnas_con_nulos = final_data.columns[final_data.isna().any()].tolist()\n",
    "columnas_con_nulos"
   ]
  },
  {
   "cell_type": "code",
   "execution_count": 76,
   "metadata": {},
   "outputs": [],
   "source": [
    "# Imputamos nulos\n",
    "from sklearn.impute import SimpleImputer\n",
    "\n",
    "imputer = SimpleImputer(strategy=\"constant\", fill_value=0)\n",
    "\n",
    "final_data[columnas_con_nulos] = imputer.fit_transform(final_data[columnas_con_nulos])"
   ]
  },
  {
   "cell_type": "code",
   "execution_count": 77,
   "metadata": {},
   "outputs": [
    {
     "name": "stdout",
     "output_type": "stream",
     "text": [
      "      ID_Equipo  Fecha                  Temperatura_C    Vibracion_mm_s    Horas_Operativas    Fallo  Tipo_Equipo    Fabricante    Modelo      Potencia_kW    Horas_Recomendadas_Revision\n",
      "--  -----------  -------------------  ---------------  ----------------  ------------------  -------  -------------  ------------  --------  -------------  -----------------------------\n",
      " 0            1  2021-01-01 00:00:00          36.5871           4.43038                 579        0  Bomba          Fabricante_A  Modelo_8            432                            657\n",
      " 1          446  2021-01-01 00:00:00          47.1765           7.11696                 263        0  Generador      Fabricante_C  Modelo_2             95                            561\n",
      " 2          107  2021-01-01 00:00:00          76.4046           2.69691                 491        0  Compresor      Fabricante_A  Modelo_7            195                            748\n",
      " 3          108  2021-01-01 00:00:00          50.7293           6.99677                 589        0  Compresor      Fabricante_A  Modelo_9            181                            560\n",
      " 4          445  2021-01-01 00:00:00          62.5769           7.93556                 519        0  Compresor      Fabricante_A  Modelo_5             92                            586\n",
      "(730736, 11)\n"
     ]
    }
   ],
   "source": [
    "tabl(final_data)"
   ]
  },
  {
   "cell_type": "code",
   "execution_count": 78,
   "metadata": {},
   "outputs": [
    {
     "name": "stdout",
     "output_type": "stream",
     "text": [
      "% fallos: 0.9746337938735741\n"
     ]
    }
   ],
   "source": [
    "print(\"% fallos:\",\n",
    "final_data[final_data['Fallo'] == 1].shape[0] / final_data.shape[0] * 100)"
   ]
  },
  {
   "cell_type": "code",
   "execution_count": 79,
   "metadata": {},
   "outputs": [
    {
     "name": "stdout",
     "output_type": "stream",
     "text": [
      "<class 'pandas.core.frame.DataFrame'>\n",
      "RangeIndex: 730736 entries, 0 to 730735\n",
      "Data columns (total 11 columns):\n",
      " #   Column                       Non-Null Count   Dtype         \n",
      "---  ------                       --------------   -----         \n",
      " 0   ID_Equipo                    730736 non-null  int64         \n",
      " 1   Fecha                        730736 non-null  datetime64[ns]\n",
      " 2   Temperatura_C                730736 non-null  float64       \n",
      " 3   Vibracion_mm_s               730736 non-null  float64       \n",
      " 4   Horas_Operativas             730736 non-null  int64         \n",
      " 5   Fallo                        730736 non-null  float64       \n",
      " 6   Tipo_Equipo                  730736 non-null  object        \n",
      " 7   Fabricante                   730736 non-null  object        \n",
      " 8   Modelo                       730736 non-null  object        \n",
      " 9   Potencia_kW                  730736 non-null  int64         \n",
      " 10  Horas_Recomendadas_Revision  730736 non-null  int64         \n",
      "dtypes: datetime64[ns](1), float64(3), int64(4), object(3)\n",
      "memory usage: 61.3+ MB\n"
     ]
    }
   ],
   "source": [
    "final_data.info()"
   ]
  },
  {
   "cell_type": "markdown",
   "metadata": {},
   "source": [
    "### Volvemos a explorar con columnas codificadas\n"
   ]
  },
  {
   "cell_type": "code",
   "execution_count": 80,
   "metadata": {},
   "outputs": [
    {
     "name": "stdout",
     "output_type": "stream",
     "text": [
      "\n",
      "\u001b[4mNumerical columns\u001b[0m\n",
      " ['ID_Equipo', 'Fecha', 'Temperatura_C', 'Vibracion_mm_s', 'Horas_Operativas', 'Fallo', 'Potencia_kW', 'Horas_Recomendadas_Revision']\n",
      "\n",
      "\u001b[4mCategorical columns\u001b[0m\n",
      " ['Tipo_Equipo', 'Fabricante', 'Modelo']\n"
     ]
    }
   ],
   "source": [
    "# Extraer columnas numéricas y categóricas\n",
    "from sklearn.compose import make_column_selector as selector\n",
    "\n",
    "numerical_columns_selector = selector(dtype_exclude=object)\n",
    "categorical_columns_selector = selector(dtype_include=object)\n",
    "\n",
    "numerical_columns = numerical_columns_selector(final_data)\n",
    "categorical_columns = categorical_columns_selector(final_data)\n",
    "\n",
    "print(headr(\"Numerical columns\"), numerical_columns)\n",
    "print(headr(\"Categorical columns\"), categorical_columns)"
   ]
  },
  {
   "cell_type": "code",
   "execution_count": 81,
   "metadata": {},
   "outputs": [
    {
     "name": "stdout",
     "output_type": "stream",
     "text": [
      "      ID_Equipo    Temperatura_C    Vibracion_mm_s    Horas_Operativas    Fallo    Tipo_Equipo    Fabricante    Modelo    Potencia_kW    Horas_Recomendadas_Revision\n",
      "--  -----------  ---------------  ----------------  ------------------  -------  -------------  ------------  --------  -------------  -----------------------------\n",
      " 0            1          36.5871           4.43038                 579        0              0             0         8            432                            657\n",
      " 1          446          47.1765           7.11696                 263        0              2             2         2             95                            561\n",
      " 2          107          76.4046           2.69691                 491        0              1             0         7            195                            748\n",
      " 3          108          50.7293           6.99677                 589        0              1             0         9            181                            560\n",
      " 4          445          62.5769           7.93556                 519        0              1             0         5             92                            586\n",
      "(730736, 10)\n"
     ]
    }
   ],
   "source": [
    "from sklearn.preprocessing import LabelEncoder, StandardScaler\n",
    "\n",
    "final_data_coded = final_data.copy()\n",
    "final_data_coded[categorical_columns] = final_data_coded[categorical_columns].apply(LabelEncoder().fit_transform)\n",
    "\n",
    "# Eliminamos fecha para la evaluación\n",
    "final_data_coded.drop(columns=['Fecha'], inplace=True)\n",
    "\n",
    "tabl(final_data_coded)"
   ]
  },
  {
   "cell_type": "code",
   "execution_count": 82,
   "metadata": {},
   "outputs": [
    {
     "name": "stdout",
     "output_type": "stream",
     "text": [
      "\n",
      "\u001b[4mFeature scores\u001b[0m\n",
      "\n"
     ]
    },
    {
     "data": {
      "text/html": [
       "<div>\n",
       "<style scoped>\n",
       "    .dataframe tbody tr th:only-of-type {\n",
       "        vertical-align: middle;\n",
       "    }\n",
       "\n",
       "    .dataframe tbody tr th {\n",
       "        vertical-align: top;\n",
       "    }\n",
       "\n",
       "    .dataframe thead th {\n",
       "        text-align: right;\n",
       "    }\n",
       "</style>\n",
       "<table border=\"1\" class=\"dataframe\">\n",
       "  <thead>\n",
       "    <tr style=\"text-align: right;\">\n",
       "      <th></th>\n",
       "      <th>Feature</th>\n",
       "      <th>Score</th>\n",
       "    </tr>\n",
       "  </thead>\n",
       "  <tbody>\n",
       "    <tr>\n",
       "      <th>3</th>\n",
       "      <td>Horas_Operativas</td>\n",
       "      <td>8006.48</td>\n",
       "    </tr>\n",
       "    <tr>\n",
       "      <th>8</th>\n",
       "      <td>Horas_Recomendadas_Revision</td>\n",
       "      <td>3.07</td>\n",
       "    </tr>\n",
       "    <tr>\n",
       "      <th>0</th>\n",
       "      <td>ID_Equipo</td>\n",
       "      <td>1.46</td>\n",
       "    </tr>\n",
       "    <tr>\n",
       "      <th>4</th>\n",
       "      <td>Tipo_Equipo</td>\n",
       "      <td>0.56</td>\n",
       "    </tr>\n",
       "    <tr>\n",
       "      <th>7</th>\n",
       "      <td>Potencia_kW</td>\n",
       "      <td>0.25</td>\n",
       "    </tr>\n",
       "    <tr>\n",
       "      <th>5</th>\n",
       "      <td>Fabricante</td>\n",
       "      <td>0.24</td>\n",
       "    </tr>\n",
       "    <tr>\n",
       "      <th>6</th>\n",
       "      <td>Modelo</td>\n",
       "      <td>0.03</td>\n",
       "    </tr>\n",
       "    <tr>\n",
       "      <th>2</th>\n",
       "      <td>Vibracion_mm_s</td>\n",
       "      <td>0.01</td>\n",
       "    </tr>\n",
       "    <tr>\n",
       "      <th>1</th>\n",
       "      <td>Temperatura_C</td>\n",
       "      <td>0.00</td>\n",
       "    </tr>\n",
       "  </tbody>\n",
       "</table>\n",
       "</div>"
      ],
      "text/plain": [
       "                       Feature    Score\n",
       "3             Horas_Operativas  8006.48\n",
       "8  Horas_Recomendadas_Revision     3.07\n",
       "0                    ID_Equipo     1.46\n",
       "4                  Tipo_Equipo     0.56\n",
       "7                  Potencia_kW     0.25\n",
       "5                   Fabricante     0.24\n",
       "6                       Modelo     0.03\n",
       "2               Vibracion_mm_s     0.01\n",
       "1                Temperatura_C     0.00"
      ]
     },
     "execution_count": 82,
     "metadata": {},
     "output_type": "execute_result"
    }
   ],
   "source": [
    "# Evaluamos la aportación de cada columna\n",
    "from sklearn.feature_selection import SelectKBest\n",
    "from sklearn.feature_selection import f_classif,chi2\n",
    "\n",
    "X= final_data_coded.drop(target_column, axis=1)\n",
    "y = final_data_coded[target_column]\n",
    "\n",
    "fvalue_selector = SelectKBest(f_classif, k=2)\n",
    "\n",
    "X_kbest = fvalue_selector.fit(X,y)\n",
    "\n",
    "feature_scores = pd.DataFrame({\"Feature\": X.columns,\"Score\": X_kbest.scores_}).sort_values(by=\"Score\", ascending=False)\n",
    "\n",
    "print(headr(\"Feature scores\"))\n",
    "round(feature_scores,2)"
   ]
  },
  {
   "cell_type": "markdown",
   "metadata": {},
   "source": [
    "> Una característica tiene demasiado peso y determina toda la clasificación"
   ]
  },
  {
   "cell_type": "code",
   "execution_count": 83,
   "metadata": {},
   "outputs": [
    {
     "name": "stdout",
     "output_type": "stream",
     "text": [
      "      ID_Equipo  Fecha                  Horas_Operativas    Fallo  Tipo_Equipo    Fabricante      Potencia_kW    Horas_Recomendadas_Revision\n",
      "--  -----------  -------------------  ------------------  -------  -------------  ------------  -------------  -----------------------------\n",
      " 0            1  2021-01-01 00:00:00                 579        0  Bomba          Fabricante_A            432                            657\n",
      " 1          446  2021-01-01 00:00:00                 263        0  Generador      Fabricante_C             95                            561\n",
      " 2          107  2021-01-01 00:00:00                 491        0  Compresor      Fabricante_A            195                            748\n",
      " 3          108  2021-01-01 00:00:00                 589        0  Compresor      Fabricante_A            181                            560\n",
      " 4          445  2021-01-01 00:00:00                 519        0  Compresor      Fabricante_A             92                            586\n",
      "(730736, 8)\n"
     ]
    }
   ],
   "source": [
    "# Eliminamos columnas sin peso\n",
    "\n",
    "columns_to_drop = feature_scores[feature_scores['Score'] < 0.1]['Feature']\n",
    "final_data.drop(columns=columns_to_drop, inplace=True)\n",
    "tabl(final_data)"
   ]
  },
  {
   "cell_type": "markdown",
   "metadata": {},
   "source": [
    "## Exportar "
   ]
  },
  {
   "cell_type": "code",
   "execution_count": 85,
   "metadata": {},
   "outputs": [],
   "source": [
    "final_data.to_csv('../data/preprocessed/preprocessed_data_v1.csv', index=False)"
   ]
  }
 ],
 "metadata": {
  "kernelspec": {
   "display_name": "Python 3",
   "language": "python",
   "name": "python3"
  },
  "language_info": {
   "codemirror_mode": {
    "name": "ipython",
    "version": 3
   },
   "file_extension": ".py",
   "mimetype": "text/x-python",
   "name": "python",
   "nbconvert_exporter": "python",
   "pygments_lexer": "ipython3",
   "version": "3.12.4"
  }
 },
 "nbformat": 4,
 "nbformat_minor": 2
}
