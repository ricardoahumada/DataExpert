{
 "cells": [
  {
   "cell_type": "markdown",
   "metadata": {},
   "source": [
    "# Solución etapa 4 - EDA + Cleaning"
   ]
  },
  {
   "cell_type": "code",
   "execution_count": 1,
   "metadata": {},
   "outputs": [],
   "source": [
    "# Utilidades para print\n",
    "from utils.print_utils import tabl, headr, titl, ptitl\n",
    "from utils.explore_utils import explr"
   ]
  },
  {
   "cell_type": "code",
   "execution_count": 2,
   "metadata": {},
   "outputs": [],
   "source": [
    "# Cargar los datasets\n",
    "import pandas as pd\n",
    "\n",
    "historicos_ordenes = pd.read_csv('../data/original/Historicos_Ordenes.csv')\n",
    "registros_condiciones = pd.read_csv('../data/original/Registros_Condiciones.csv')\n",
    "caracteristicas_equipos = pd.read_csv('../data/original/Caracteristicas_Equipos.csv')\n"
   ]
  },
  {
   "cell_type": "markdown",
   "metadata": {},
   "source": [
    "## Exploración"
   ]
  },
  {
   "cell_type": "code",
   "execution_count": 3,
   "metadata": {},
   "outputs": [
    {
     "name": "stdout",
     "output_type": "stream",
     "text": [
      "\n",
      "\u001b[1m\u001b[4m\u001b[94m** HISTORICOS_ORDENES **\u001b[0m\n",
      "\n",
      "\n",
      "\u001b[4mColumnas:\u001b[0m\n",
      "\n",
      "['ID_Orden', 'ID_Equipo', 'Fecha', 'Tipo_Mantenimiento', 'Costo_Mantenimiento', 'Duracion_Horas', 'Ubicacion']\n",
      "\n",
      "\u001b[4mNuméricas\u001b[0m\n",
      "\n",
      "           ID_Orden     ID_Equipo  Costo_Mantenimiento  Duracion_Horas\n",
      "count  61726.000000  61726.000000         61726.000000    61726.000000\n",
      "mean   30863.500000    249.554434          1859.010530        8.012248\n",
      "std    17818.905695    144.337687          1481.560607        7.562675\n",
      "min        1.000000      1.000000           100.000000        1.000000\n",
      "25%    15432.250000    125.000000           623.000000        2.000000\n",
      "50%    30863.500000    249.000000          1225.000000        4.000000\n",
      "75%    46294.750000    374.000000          3113.000000       14.000000\n",
      "max    61726.000000    500.000000          4999.000000       24.000000\n",
      "\n",
      "\u001b[4mCategóricas\u001b[0m\n",
      "\n",
      "             Fecha Tipo_Mantenimiento    Ubicacion\n",
      "count        61726              61726        61726\n",
      "unique        1461                  2            4\n",
      "top     2024-05-04         Correctivo  Ubicacion_D\n",
      "freq            62              36828        17600\n",
      "\n",
      "\u001b[1m\u001b[4m\u001b[94m** REGISTROS_CONDICIONES **\u001b[0m\n",
      "\n",
      "\n",
      "\u001b[4mColumnas:\u001b[0m\n",
      "\n",
      "['ID_Registro', 'ID_Equipo', 'Fecha', 'Temperatura_C', 'Vibracion_mm_s', 'Horas_Operativas']\n",
      "\n",
      "\u001b[4mNuméricas\u001b[0m\n",
      "\n",
      "         ID_Registro      ID_Equipo  Temperatura_C  Vibracion_mm_s  \\\n",
      "count  730500.000000  730500.000000  730500.000000   730500.000000   \n",
      "mean   365250.500000     250.500000      60.032780        4.998524   \n",
      "std    210877.330159     144.337377      23.073767        2.886387   \n",
      "min         1.000000       1.000000      20.000037        0.000005   \n",
      "25%    182625.750000     125.750000      40.051211        2.498875   \n",
      "50%    365250.500000     250.500000      60.059215        4.996675   \n",
      "75%    547875.250000     375.250000      80.001144        7.496761   \n",
      "max    730500.000000     500.000000      99.999934        9.999997   \n",
      "\n",
      "       Horas_Operativas  \n",
      "count     730500.000000  \n",
      "mean         234.866021  \n",
      "std          223.075959  \n",
      "min            0.000000  \n",
      "25%           71.000000  \n",
      "50%          166.000000  \n",
      "75%          327.000000  \n",
      "max         1918.000000  \n",
      "\n",
      "\u001b[4mCategóricas\u001b[0m\n",
      "\n",
      "             Fecha\n",
      "count       730500\n",
      "unique        1461\n",
      "top     2021-01-01\n",
      "freq           500\n",
      "\n",
      "\u001b[1m\u001b[4m\u001b[94m** CARACTERISTICAS_EQUIPOS **\u001b[0m\n",
      "\n",
      "\n",
      "\u001b[4mColumnas:\u001b[0m\n",
      "\n",
      "['ID_Equipo', 'Tipo_Equipo', 'Fabricante', 'Modelo', 'Potencia_kW', 'Horas_Recomendadas_Revision']\n",
      "\n",
      "\u001b[4mNuméricas\u001b[0m\n",
      "\n",
      "        ID_Equipo  Potencia_kW  Horas_Recomendadas_Revision\n",
      "count  500.000000   500.000000                   500.000000\n",
      "mean   250.500000   272.346000                   737.344000\n",
      "std    144.481833   130.593904                   143.441698\n",
      "min      1.000000    50.000000                   501.000000\n",
      "25%    125.750000   161.750000                   607.750000\n",
      "50%    250.500000   268.000000                   736.500000\n",
      "75%    375.250000   389.250000                   858.000000\n",
      "max    500.000000   499.000000                   997.000000\n",
      "\n",
      "\u001b[4mCategóricas\u001b[0m\n",
      "\n",
      "       Tipo_Equipo    Fabricante    Modelo\n",
      "count          500           500       500\n",
      "unique           4             4        10\n",
      "top      Compresor  Fabricante_C  Modelo_8\n",
      "freq           128           139        67\n"
     ]
    }
   ],
   "source": [
    "ptitl('historicos_ordenes')\n",
    "explr(historicos_ordenes)\n",
    "\n",
    "ptitl('registros_condiciones')\n",
    "explr(registros_condiciones)\n",
    "\n",
    "ptitl('caracteristicas_equipos')\n",
    "explr(caracteristicas_equipos)"
   ]
  },
  {
   "cell_type": "code",
   "execution_count": null,
   "metadata": {},
   "outputs": [],
   "source": [
    "# Profiling historicos_ordenes\n",
    "\n",
    "from ydata_profiling import ProfileReport\n",
    "\n",
    "profile = ProfileReport(historicos_ordenes, title=\"historicos_ordenes Profiling Report\",\n",
    "                        correlations={\n",
    "                            \"pearson\": {\"calculate\": True},\n",
    "                            \"cramers\": {\"calculate\": True},\n",
    "                        })"
   ]
  },
  {
   "cell_type": "code",
   "execution_count": null,
   "metadata": {},
   "outputs": [],
   "source": [
    "profile.to_notebook_iframe()"
   ]
  },
  {
   "cell_type": "code",
   "execution_count": null,
   "metadata": {},
   "outputs": [],
   "source": [
    "# Profiling caracteristicas_equipos\n",
    "\n",
    "print(titl('caracteristicas_equipos'))\n",
    "\n",
    "profile = ProfileReport(caracteristicas_equipos, title=\"caracteristicas_equipos Profiling Report\",\n",
    "                        correlations={\n",
    "                            \"pearson\": {\"calculate\": True},\n",
    "                            \"cramers\": {\"calculate\": True},\n",
    "                        })"
   ]
  },
  {
   "cell_type": "code",
   "execution_count": null,
   "metadata": {},
   "outputs": [],
   "source": [
    "profile.to_notebook_iframe()"
   ]
  },
  {
   "cell_type": "code",
   "execution_count": null,
   "metadata": {},
   "outputs": [],
   "source": [
    "# Profiling registros_condiciones\n",
    "\n",
    "print(titl('registros_condiciones'))\n",
    "\n",
    "profile = ProfileReport(registros_condiciones, title=\"registros_condiciones Profiling Report\",\n",
    "                        correlations={\n",
    "                            \"pearson\": {\"calculate\": True},\n",
    "                            \"cramers\": {\"calculate\": True},\n",
    "                        })"
   ]
  },
  {
   "cell_type": "code",
   "execution_count": null,
   "metadata": {},
   "outputs": [],
   "source": [
    "profile.to_notebook_iframe()"
   ]
  },
  {
   "cell_type": "code",
   "execution_count": null,
   "metadata": {},
   "outputs": [],
   "source": [
    "ptitl('Dimensiones:')\n",
    "print('historicos_ordenes:',historicos_ordenes.shape)\n",
    "print('registros_condiciones:',registros_condiciones.shape)\n",
    "print('caracteristicas_equipos:',caracteristicas_equipos.shape)"
   ]
  },
  {
   "cell_type": "markdown",
   "metadata": {},
   "source": [
    "## Limpiar"
   ]
  },
  {
   "cell_type": "code",
   "execution_count": 4,
   "metadata": {},
   "outputs": [],
   "source": [
    "# hacemo copia\n",
    "historicos_ordenes_cleaned = historicos_ordenes.copy()\n",
    "registros_condiciones_cleaned = registros_condiciones.copy()\n",
    "caracteristicas_equipos_cleaned = caracteristicas_equipos.copy()"
   ]
  },
  {
   "cell_type": "markdown",
   "metadata": {},
   "source": [
    "### Nulos"
   ]
  },
  {
   "cell_type": "code",
   "execution_count": 5,
   "metadata": {},
   "outputs": [
    {
     "name": "stdout",
     "output_type": "stream",
     "text": [
      "\n",
      "\u001b[1m\u001b[4m\u001b[94m** VALORES NULOS **\u001b[0m\n",
      "\n",
      "\n",
      "\u001b[4mhistoricos_ordenes:\u001b[0m\n",
      " ID_Orden               0\n",
      "ID_Equipo              0\n",
      "Fecha                  0\n",
      "Tipo_Mantenimiento     0\n",
      "Costo_Mantenimiento    0\n",
      "Duracion_Horas         0\n",
      "Ubicacion              0\n",
      "dtype: int64\n",
      "\n",
      "\u001b[4mregistros_condiciones:\u001b[0m\n",
      " ID_Registro         0\n",
      "ID_Equipo           0\n",
      "Fecha               0\n",
      "Temperatura_C       0\n",
      "Vibracion_mm_s      0\n",
      "Horas_Operativas    0\n",
      "dtype: int64\n",
      "\n",
      "\u001b[4mcaracteristicas_equipos:\u001b[0m\n",
      " ID_Equipo                      0\n",
      "Tipo_Equipo                    0\n",
      "Fabricante                     0\n",
      "Modelo                         0\n",
      "Potencia_kW                    0\n",
      "Horas_Recomendadas_Revision    0\n",
      "dtype: int64\n"
     ]
    }
   ],
   "source": [
    "# Verificar valores nulos\n",
    "print(titl(\"Valores nulos\"))\n",
    "\n",
    "print(headr('historicos_ordenes:'),historicos_ordenes_cleaned.isnull().sum())\n",
    "print(headr('registros_condiciones:'),registros_condiciones_cleaned.isnull().sum())\n",
    "print(headr('caracteristicas_equipos:'),caracteristicas_equipos_cleaned.isnull().sum())"
   ]
  },
  {
   "cell_type": "code",
   "execution_count": 6,
   "metadata": {},
   "outputs": [],
   "source": [
    "# Manejo de valores nulos\n",
    "historicos_ordenes_cleaned.dropna(subset=['Costo_Mantenimiento'], inplace=True)  # Ejemplo de imputación\n",
    "registros_condiciones_cleaned.dropna(subset=['Temperatura_C', 'Vibracion_mm_s'], inplace=True)  # Eliminar registros con valores faltantes críticos"
   ]
  },
  {
   "cell_type": "code",
   "execution_count": 7,
   "metadata": {},
   "outputs": [
    {
     "name": "stdout",
     "output_type": "stream",
     "text": [
      "\n",
      "\u001b[1m\u001b[4m\u001b[94m** VALORES NULOS AFTER: **\u001b[0m\n",
      "\n",
      "\n",
      "\u001b[4mhistoricos_ordenes:\u001b[0m\n",
      " ID_Orden               0\n",
      "ID_Equipo              0\n",
      "Fecha                  0\n",
      "Tipo_Mantenimiento     0\n",
      "Costo_Mantenimiento    0\n",
      "Duracion_Horas         0\n",
      "Ubicacion              0\n",
      "dtype: int64\n",
      "\n",
      "\u001b[4mregistros_condiciones:\u001b[0m\n",
      " ID_Registro         0\n",
      "ID_Equipo           0\n",
      "Fecha               0\n",
      "Temperatura_C       0\n",
      "Vibracion_mm_s      0\n",
      "Horas_Operativas    0\n",
      "dtype: int64\n",
      "\n",
      "\u001b[4mcaracteristicas_equipos:\u001b[0m\n",
      " ID_Equipo                      0\n",
      "Tipo_Equipo                    0\n",
      "Fabricante                     0\n",
      "Modelo                         0\n",
      "Potencia_kW                    0\n",
      "Horas_Recomendadas_Revision    0\n",
      "dtype: int64\n"
     ]
    }
   ],
   "source": [
    "print(titl(\"Valores nulos after:\"))\n",
    "\n",
    "print(headr('historicos_ordenes:'),historicos_ordenes_cleaned.isnull().sum())\n",
    "print(headr('registros_condiciones:'),registros_condiciones_cleaned.isnull().sum())\n",
    "print(headr('caracteristicas_equipos:'),caracteristicas_equipos_cleaned.isnull().sum())"
   ]
  },
  {
   "cell_type": "markdown",
   "metadata": {},
   "source": [
    "### Duplicados"
   ]
  },
  {
   "cell_type": "code",
   "execution_count": 8,
   "metadata": {},
   "outputs": [
    {
     "name": "stdout",
     "output_type": "stream",
     "text": [
      "\n",
      "\u001b[1m\u001b[4m\u001b[94m** DUPLICADOS **\u001b[0m\n",
      "\n",
      "\n",
      "\u001b[4mhistoricos_ordenes:\u001b[0m\n",
      " 0\n",
      "\n",
      "\u001b[4mregistros_condiciones:\u001b[0m\n",
      " 0\n",
      "\n",
      "\u001b[4mcaracteristicas_equipos:\u001b[0m\n",
      " 0\n"
     ]
    }
   ],
   "source": [
    "# Eliminar duplicados\n",
    "print(titl(\"Duplicados\"))\n",
    "\n",
    "print(headr('historicos_ordenes:'),historicos_ordenes_cleaned.duplicated().sum())\n",
    "print(headr('registros_condiciones:'),registros_condiciones_cleaned.duplicated().sum())\n",
    "print(headr('caracteristicas_equipos:'),caracteristicas_equipos_cleaned.duplicated().sum())\n"
   ]
  },
  {
   "cell_type": "code",
   "execution_count": 9,
   "metadata": {},
   "outputs": [],
   "source": [
    "# Eliminar duplicados\n",
    "historicos_ordenes_cleaned.drop_duplicates(inplace=True)\n",
    "registros_condiciones_cleaned.drop_duplicates(inplace=True)\n",
    "caracteristicas_equipos_cleaned.drop_duplicates(inplace=True)\n"
   ]
  },
  {
   "cell_type": "code",
   "execution_count": 10,
   "metadata": {},
   "outputs": [
    {
     "name": "stdout",
     "output_type": "stream",
     "text": [
      "\n",
      "\u001b[1m\u001b[4m\u001b[94m** DUPLICADOS DESPUÉS **\u001b[0m\n",
      "\n",
      "\n",
      "\u001b[4mhistoricos_ordenes:\u001b[0m\n",
      " 0\n",
      "\n",
      "\u001b[4mregistros_condiciones:\u001b[0m\n",
      " 0\n",
      "\n",
      "\u001b[4mcaracteristicas_equipos:\u001b[0m\n",
      " 0\n"
     ]
    }
   ],
   "source": [
    "# Eliminar duplicados\n",
    "print(titl(\"Duplicados después\"))\n",
    "\n",
    "print(headr('historicos_ordenes:'),historicos_ordenes_cleaned.duplicated().sum())\n",
    "print(headr('registros_condiciones:'),registros_condiciones_cleaned.duplicated().sum())\n",
    "print(headr('caracteristicas_equipos:'),caracteristicas_equipos_cleaned.duplicated().sum())\n"
   ]
  },
  {
   "cell_type": "markdown",
   "metadata": {},
   "source": [
    "### Outliers"
   ]
  },
  {
   "cell_type": "code",
   "execution_count": 11,
   "metadata": {},
   "outputs": [],
   "source": [
    "# Detectar y manejar outliers (ejemplo para temperatura)\n",
    "\n",
    "# Extraer columnas numéricas y categóricas\n",
    "from sklearn.compose import make_column_selector as selector\n",
    "\n",
    "def extract_numerical_and_categorical(df):\n",
    "    numerical_columns_selector = selector(dtype_exclude=object)\n",
    "    categorical_columns_selector = selector(dtype_include=object)\n",
    "\n",
    "    numerical_columns = numerical_columns_selector(df)\n",
    "    categorical_columns = categorical_columns_selector(df)\n",
    "\n",
    "    return numerical_columns, categorical_columns\n"
   ]
  },
  {
   "cell_type": "code",
   "execution_count": 12,
   "metadata": {},
   "outputs": [
    {
     "name": "stdout",
     "output_type": "stream",
     "text": [
      "\n",
      "\u001b[4mh_num, h_cat\u001b[0m\n",
      " ['ID_Orden', 'ID_Equipo', 'Costo_Mantenimiento', 'Duracion_Horas'] ['Fecha', 'Tipo_Mantenimiento', 'Ubicacion']\n",
      "\n",
      "\u001b[4mr_num, r_cat\u001b[0m\n",
      " ['ID_Registro', 'ID_Equipo', 'Temperatura_C', 'Vibracion_mm_s', 'Horas_Operativas'] ['Fecha']\n",
      "\n",
      "\u001b[4mc_num, c_cat\u001b[0m\n",
      " ['ID_Equipo', 'Potencia_kW', 'Horas_Recomendadas_Revision'] ['Tipo_Equipo', 'Fabricante', 'Modelo']\n"
     ]
    }
   ],
   "source": [
    "h_num, h_cat = extract_numerical_and_categorical(historicos_ordenes_cleaned)\n",
    "print(headr(\"h_num, h_cat\"),h_num, h_cat)\n",
    "r_num, r_cat = extract_numerical_and_categorical(registros_condiciones_cleaned)\n",
    "print(headr(\"r_num, r_cat\"),r_num, r_cat)\n",
    "c_num, c_cat = extract_numerical_and_categorical(caracteristicas_equipos_cleaned)\n",
    "print(headr(\"c_num, c_cat\"),c_num, c_cat)"
   ]
  },
  {
   "cell_type": "code",
   "execution_count": 13,
   "metadata": {},
   "outputs": [],
   "source": [
    "# identificación\n",
    "def identif_outliers(df, num_cols):\n",
    "    IQR = df[num_cols].quantile(0.75) - df[num_cols].quantile(0.25)\n",
    "    lower_bound = df[num_cols].quantile(0.25) - (IQR * 3)\n",
    "    upper_bound = df[num_cols].quantile(0.75) + (IQR * 3)\n",
    "\n",
    "    outliers = df[num_cols][(df[num_cols] < lower_bound) | (df[num_cols] > upper_bound)]\n",
    "\n",
    "    # columnas con outliers\n",
    "    columns_with_outliers = outliers.columns[outliers.count() > 0]\n",
    "    columns_with_outliers\n",
    "\n",
    "    return outliers.count(), columns_with_outliers, lower_bound, upper_bound"
   ]
  },
  {
   "cell_type": "code",
   "execution_count": 14,
   "metadata": {},
   "outputs": [
    {
     "name": "stdout",
     "output_type": "stream",
     "text": [
      "\n",
      "\u001b[4mh_num_out:\u001b[0m\n",
      " ID_Orden               0\n",
      "ID_Equipo              0\n",
      "Costo_Mantenimiento    0\n",
      "Duracion_Horas         0\n",
      "dtype: int64\n",
      "\n",
      "\u001b[4mr_num_out:\u001b[0m\n",
      " ID_Registro            0\n",
      "ID_Equipo              0\n",
      "Temperatura_C          0\n",
      "Vibracion_mm_s         0\n",
      "Horas_Operativas    4425\n",
      "dtype: int64\n",
      "\n",
      "\u001b[4mc_num_out:\u001b[0m\n",
      " ID_Equipo                      0\n",
      "Potencia_kW                    0\n",
      "Horas_Recomendadas_Revision    0\n",
      "dtype: int64\n"
     ]
    }
   ],
   "source": [
    "h_nout, h_col_out, h_low, h_upp = identif_outliers(historicos_ordenes_cleaned, h_num)\n",
    "print(headr(\"h_num_out:\"),h_nout)\n",
    "\n",
    "r_nout, r_col_out, r_low, r_upp = identif_outliers(registros_condiciones_cleaned, r_num)\n",
    "print(headr(\"r_num_out:\"),r_nout)\n",
    "\n",
    "c_nout, c_col_out, c_low, c_upp = identif_outliers(caracteristicas_equipos_cleaned, c_num)\n",
    "print(headr(\"c_num_out:\"),c_nout)"
   ]
  },
  {
   "cell_type": "code",
   "execution_count": null,
   "metadata": {},
   "outputs": [],
   "source": [
    "# Función para winsorizar una columna\n",
    "def winsorize_column(column, lower_bound, upper_bound):\n",
    "    return column.clip(lower=lower_bound, upper=upper_bound)"
   ]
  },
  {
   "cell_type": "code",
   "execution_count": null,
   "metadata": {},
   "outputs": [],
   "source": [
    "# procesamos todas las comumnas con outliers\n",
    "for col_name in h_col_out:\n",
    "    historicos_ordenes_cleaned[col_name] = winsorize_column(historicos_ordenes_cleaned[col_name], h_low[col_name], h_upp[col_name])\n",
    "\n",
    "for col_name in r_col_out:\n",
    "    registros_condiciones_cleaned[col_name] = winsorize_column(registros_condiciones_cleaned[col_name], r_low[col_name], r_upp[col_name])\n",
    "\n",
    "for col_name in c_col_out:\n",
    "    caracteristicas_equipos_cleaned[col_name] = winsorize_column(caracteristicas_equipos_cleaned[col_name], c_low[col_name], c_upp[col_name])\n"
   ]
  },
  {
   "cell_type": "code",
   "execution_count": 15,
   "metadata": {},
   "outputs": [
    {
     "name": "stdout",
     "output_type": "stream",
     "text": [
      "\n",
      "\u001b[4mh_num_out:\u001b[0m\n",
      " ID_Orden               0\n",
      "ID_Equipo              0\n",
      "Costo_Mantenimiento    0\n",
      "Duracion_Horas         0\n",
      "dtype: int64\n",
      "\n",
      "\u001b[4mr_num_out:\u001b[0m\n",
      " ID_Registro            0\n",
      "ID_Equipo              0\n",
      "Temperatura_C          0\n",
      "Vibracion_mm_s         0\n",
      "Horas_Operativas    4425\n",
      "dtype: int64\n",
      "\n",
      "\u001b[4mc_num_out:\u001b[0m\n",
      " ID_Equipo                      0\n",
      "Potencia_kW                    0\n",
      "Horas_Recomendadas_Revision    0\n",
      "dtype: int64\n"
     ]
    }
   ],
   "source": [
    "h_nout, h_col_out, h_low, h_upp = identif_outliers(historicos_ordenes_cleaned, h_num)\n",
    "print(headr(\"h_num_out:\"),h_nout)\n",
    "\n",
    "r_nout, r_col_out, r_low, r_upp = identif_outliers(registros_condiciones_cleaned, r_num)\n",
    "print(headr(\"r_num_out:\"),r_nout)\n",
    "\n",
    "c_nout, c_col_out, c_low, c_upp = identif_outliers(caracteristicas_equipos_cleaned, c_num)\n",
    "print(headr(\"c_num_out:\"),c_nout)"
   ]
  },
  {
   "cell_type": "markdown",
   "metadata": {},
   "source": [
    "## Guardar estado"
   ]
  },
  {
   "cell_type": "code",
   "execution_count": 16,
   "metadata": {},
   "outputs": [],
   "source": [
    "historicos_ordenes_cleaned.to_csv('../data/cleaned/historicos_ordenes_cleaned.csv', index=False)\n",
    "registros_condiciones_cleaned.to_csv('../data/cleaned/registros_condiciones_cleaned.csv', index=False)\n",
    "caracteristicas_equipos_cleaned.to_csv('../data/cleaned/caracteristicas_equipos_cleaned.csv', index=False)"
   ]
  }
 ],
 "metadata": {
  "kernelspec": {
   "display_name": "Python 3",
   "language": "python",
   "name": "python3"
  },
  "language_info": {
   "codemirror_mode": {
    "name": "ipython",
    "version": 3
   },
   "file_extension": ".py",
   "mimetype": "text/x-python",
   "name": "python",
   "nbconvert_exporter": "python",
   "pygments_lexer": "ipython3",
   "version": "3.12.4"
  }
 },
 "nbformat": 4,
 "nbformat_minor": 2
}
